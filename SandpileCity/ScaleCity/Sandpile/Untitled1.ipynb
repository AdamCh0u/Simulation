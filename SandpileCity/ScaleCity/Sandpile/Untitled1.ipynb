{
 "cells": [
  {
   "cell_type": "code",
   "execution_count": 70,
   "metadata": {
    "collapsed": true
   },
   "outputs": [],
   "source": [
    "from rtree import index\n",
    "import numpy as np\n",
    "import random\n",
    "import networkx as nx\n",
    "import matplotlib.pyplot as plt\n",
    "import math\n",
    "from scipy.optimize import leastsq\n",
    "import matplotlib\n",
    "import sys"
   ]
  },
  {
   "cell_type": "markdown",
   "metadata": {},
   "source": [
    "# 非函数式构建"
   ]
  },
  {
   "cell_type": "markdown",
   "metadata": {},
   "source": [
    "## 参数"
   ]
  },
  {
   "cell_type": "code",
   "execution_count": 80,
   "metadata": {
    "collapsed": true
   },
   "outputs": [],
   "source": [
    "L=10**10\n",
    "times=10**8\n",
    "radius  = 100\n",
    "delta = radius\n",
    "maxnode = 100000\n",
    "C = 0.001\n",
    "sequence = []\n",
    "Latticelist = {}"
   ]
  },
  {
   "cell_type": "code",
   "execution_count": 5,
   "metadata": {
    "collapsed": true
   },
   "outputs": [],
   "source": [
    "##for repeat in range(10):  #重复创建相同参数的城市\n",
    "namep = 'N'+str(maxnode)+'PttRtdenpro'+'C'+str(C)+'re'+str(repeat)+'.csv'"
   ]
  },
  {
   "cell_type": "markdown",
   "metadata": {},
   "source": [
    "## 初始化"
   ]
  },
  {
   "cell_type": "code",
   "execution_count": 81,
   "metadata": {
    "collapsed": true
   },
   "outputs": [],
   "source": [
    "def initiate(L,radius,C): \n",
    "    coordinate = np.ones(2)*L/2.0\n",
    "    Latticelist = {(coordinate[0],coordinate[1]):{1:1, 2:1}}#1 格子有第一个点的个数 2 格子人数\n",
    "    index2coor = {1:(coordinate[0],coordinate[1])}  \n",
    "    idx = index.Index()\n",
    "    for key in Latticelist:\n",
    "        idx.insert(  Latticelist[key][1],list(np.r_[coordinate,coordinate])  )                     \n",
    "    limitt = np.r_[coordinate - radius,coordinate + radius]\n",
    "    ksequence = []\n",
    "    ksequence.append(1)\n",
    "    return (Latticelist,idx,limitt,index2coor,ksequence)"
   ]
  },
  {
   "cell_type": "code",
   "execution_count": 82,
   "metadata": {
    "collapsed": true
   },
   "outputs": [],
   "source": [
    "sequence = [];Latticelist = {}\n",
    "Latticelist,idx,limitt,index2coor,sequence = initiate(L,radius,C)"
   ]
  },
  {
   "cell_type": "code",
   "execution_count": 83,
   "metadata": {},
   "outputs": [
    {
     "data": {
      "text/plain": [
       "({(5000000000.0, 5000000000.0): {1: 1, 2: 1}},\n",
       " <rtree.index.Index at 0xb16ffd0>,\n",
       " array([  4.99999990e+09,   4.99999990e+09,   5.00000010e+09,\n",
       "          5.00000010e+09]),\n",
       " {1: (5000000000.0, 5000000000.0)},\n",
       " [1],\n",
       " 0.001)"
      ]
     },
     "execution_count": 83,
     "metadata": {},
     "output_type": "execute_result"
    }
   ],
   "source": [
    "Latticelist,idx,limitt,index2coor,sequence,C"
   ]
  },
  {
   "cell_type": "markdown",
   "metadata": {},
   "source": [
    "## 点数参数"
   ]
  },
  {
   "cell_type": "code",
   "execution_count": 84,
   "metadata": {
    "collapsed": true
   },
   "outputs": [],
   "source": [
    "totpop = 2\n",
    "tstep = 1\n",
    "#time = 1\n",
    "tempP = 1\n",
    "tempT = 1\n",
    "T = 2"
   ]
  },
  {
   "cell_type": "markdown",
   "metadata": {},
   "source": [
    "## 第二步"
   ]
  },
  {
   "cell_type": "code",
   "execution_count": 85,
   "metadata": {
    "collapsed": true
   },
   "outputs": [],
   "source": [
    "def choosenode(Latticelist,limitt,C,ksequence): \n",
    "    white = ( (limitt[2]-limitt[0])*(limitt[3]-limitt[1])-len(Latticelist) )*C#空白格子\n",
    "    rnd = random.random()*( sum(ksequence)+ (limitt[2]-limitt[0])*(limitt[3]-limitt[1])*C  ) #\n",
    "#======================================================\n",
    "#=========================================================\n",
    "#真难懂！！！！！！！！！！！！！！！！！什么鬼？？？？\n",
    "\n",
    "    if rnd> sum(ksequence)+len(Latticelist)*C:#落到空白格子\n",
    "        ii = int( random.random()*(limitt[2]-limitt[0])   + limitt[0] )\n",
    "        jj = int( random.random()*(limitt[3]-limitt[1])   + limitt[1] )\n",
    "        if (ii,jj) not in Latticelist:\n",
    "            return (ii,jj),0,ksequence\n",
    "    else: \n",
    "        A = np.array(ksequence)+C\n",
    "        B = np.cumsum(A)\n",
    "        ind = np.nonzero(B<rnd) #ind前一个是数组，后一个是纬度！！\n",
    "#怎么会有这么奇怪的函数？？？？\n",
    "        if len(ind[0])==0: \n",
    "            pos = 1\n",
    "        else:\n",
    "            pos = ind[0][-1]+1#一定是他错了\n",
    "# 这个切片代表的是前一个数组的最后一个！！！！ \n",
    "        return index2coor[pos],1,ksequence  \n",
    "#第三遍3-20？？？\n",
    "#第四遍3-22？？？\n",
    "#第五遍4-1？？？\n",
    "#好吧懂了4-3\n",
    "\n",
    "#  肯定是 他 写错了！！！！"
   ]
  },
  {
   "cell_type": "code",
   "execution_count": 86,
   "metadata": {},
   "outputs": [
    {
     "data": {
      "text/plain": [
       "(array([0, 1], dtype=int32),)"
      ]
     },
     "execution_count": 86,
     "metadata": {},
     "output_type": "execute_result"
    }
   ],
   "source": [
    "ke = [1,1,1]\n",
    "rnd = 2.5\n",
    "A = np.array(ke)\n",
    "B = np.cumsum(A)\n",
    "ind = np.nonzero(B<rnd)\n",
    "ind"
   ]
  },
  {
   "cell_type": "code",
   "execution_count": 37,
   "metadata": {},
   "outputs": [
    {
     "data": {
      "text/plain": [
       "1"
      ]
     },
     "execution_count": 37,
     "metadata": {},
     "output_type": "execute_result"
    }
   ],
   "source": []
  },
  {
   "cell_type": "code",
   "execution_count": 89,
   "metadata": {
    "collapsed": true
   },
   "outputs": [],
   "source": [
    "def onestep(Latticelist,index2coor,idx,L,radius,C,limitt,totpop,ksequence):#9进\n",
    "    ss = 1\n",
    "    for i in range(2):\n",
    "        ss = ss*(limitt[i+2]-limitt[i])\n",
    "    ss *= C\n",
    "    ss += totpop\n",
    "    locallambda = ss/(L**2*C + totpop)\n",
    "    #time += random.expovariate(locallambda) \n",
    "\n",
    "    two,flag,ksequence = choosenode(Latticelist,limitt,C,ksequence)  \n",
    "    i = two[0]; j = two[1]\n",
    "\n",
    "    intersection = list(  idx.intersection( [i-radius,j-radius, i+radius,j+radius] )  ) \n",
    "    withincircle = 0    \n",
    "    if len(intersection) > 0: \n",
    "\n",
    "        for key in intersection:  \n",
    "            if np.linalg.norm(np.array(index2coor[key]) - np.array([i,j])) <= radius: \n",
    "                withincircle += 1\n",
    "                continue\n",
    "                \n",
    "        if flag==1:\n",
    "            Latticelist[(i,j)][2] += 1\n",
    "            Latticelist[(i,j)][1] += 1\n",
    "            ksequence[ Latticelist[(i,j)][1]-1 ] += 1\n",
    "            totpop += 1   \n",
    "            \n",
    "        elif  withincircle > 0  and  flag==0: \n",
    "            totpop += 1         \n",
    "            Latticelist[(i,j)] = {1:len(Latticelist)+1,2:1}\n",
    "\n",
    "            index2coor[len(Latticelist)] = (i,j)\n",
    "\n",
    "            newpoint = [i,j]\n",
    "            idx.insert( len(Latticelist), np.r_[newpoint, newpoint] )  \n",
    "            ksequence.append( Latticelist[(i,j)][1] )            \n",
    "            for i in range(2):  #2 is the dimension 'd'\n",
    "                limitt[i]   = round(min(limitt[i],newpoint[i]-radius))\n",
    "                limitt[i+2] = round(max(limitt[i+2],newpoint[i]+radius))\n",
    "    return Latticelist,index2coor,idx,limitt,totpop,ksequence"
   ]
  },
  {
   "cell_type": "code",
   "execution_count": 110,
   "metadata": {
    "collapsed": true
   },
   "outputs": [],
   "source": [
    "Latticelist,index2coor,idx,limitt,totpop,sequence = onestep(Latticelist,index2coor,idx,L,radius,C,limitt,totpop,sequence)"
   ]
  },
  {
   "cell_type": "code",
   "execution_count": 111,
   "metadata": {
    "scrolled": true
   },
   "outputs": [
    {
     "data": {
      "text/plain": [
       "({(4999999931, 4999999955): {1: 7, 2: 1},\n",
       "  (5000000000.0, 5000000000.0): {1: 1, 2: 1},\n",
       "  (5000000006, 5000000020): {1: 3, 2: 2},\n",
       "  (5000000045, 4999999889): {1: 5, 2: 1},\n",
       "  (5000000065, 5000000031): {1: 3, 2: 1},\n",
       "  (5000000100, 4999999956): {1: 6, 2: 1},\n",
       "  (5000000104, 4999999969): {1: 4, 2: 1},\n",
       "  (5000000122, 4999999946): {1: 8, 2: 1}},\n",
       " {1: (5000000000.0, 5000000000.0),\n",
       "  2: (5000000006, 5000000020),\n",
       "  3: (5000000065, 5000000031),\n",
       "  4: (5000000104, 4999999969),\n",
       "  5: (5000000045, 4999999889),\n",
       "  6: (5000000100, 4999999956),\n",
       "  7: (4999999931, 4999999955),\n",
       "  8: (5000000122, 4999999946)},\n",
       " <rtree.index.Index at 0xb16ffd0>,\n",
       " array([  4.99999983e+09,   4.99999979e+09,   5.00000022e+09,\n",
       "          5.00000013e+09]),\n",
       " 9,\n",
       " [1, 3, 5, 5, 6, 7, 8])"
      ]
     },
     "execution_count": 111,
     "metadata": {},
     "output_type": "execute_result"
    }
   ],
   "source": [
    "Latticelist,index2coor,idx,limitt,totpop,sequence"
   ]
  },
  {
   "cell_type": "code",
   "execution_count": 113,
   "metadata": {
    "collapsed": true
   },
   "outputs": [
    {
     "name": "stdout",
     "output_type": "stream",
     "text": [
      "1e-05\n",
      "1.20450354026e-05\n",
      "1.4508287785e-05\n",
      "1.74752840001e-05\n",
      "2.10490414451e-05\n",
      "2.53536449397e-05\n",
      "3.05385550883e-05\n",
      "3.67837977183e-05\n",
      "4.43062145758e-05\n",
      "5.33669923121e-05\n",
      "6.42807311728e-05\n",
      "7.74263682681e-05\n",
      "9.32603346883e-05\n",
      "0.000112332403298\n",
      "0.000135304777458\n",
      "0.000162975083462\n",
      "0.000196304065004\n",
      "0.000236448941265\n",
      "0.000284803586844\n",
      "0.000343046928631\n",
      "0.000413201240012\n",
      "0.000497702356433\n",
      "0.000599484250319\n",
      "0.000722080901839\n",
      "0.000869749002618\n",
      "0.00104761575279\n",
      "0.00126185688307\n",
      "0.00151991108295\n",
      "0.0018307382803\n",
      "0.0022051307399\n",
      "0.00265608778295\n",
      "0.0031992671378\n",
      "0.00385352859371\n",
      "0.00464158883361\n",
      "0.00559081018251\n",
      "0.00673415065775\n",
      "0.0081113083079\n",
      "0.00977009957299\n",
      "0.0117681195243\n",
      "0.0141747416293\n",
      "0.0170735264747\n",
      "0.0205651230835\n",
      "0.0247707635599\n",
      "0.0298364724028\n",
      "0.035938136638\n",
      "0.0432876128108\n",
      "0.05214008288\n",
      "0.0628029144183\n",
      "0.0756463327555\n",
      "0.0911162756115\n",
      "0.109749876549\n",
      "0.132194114847\n",
      "0.159228279334\n",
      "0.191791026167\n",
      "0.231012970008\n",
      "0.278255940221\n",
      "0.335160265094\n",
      "0.40370172586\n",
      "0.486260158007\n",
      "0.585702081806\n",
      "0.705480231072\n",
      "0.849753435909\n",
      "1.0235310219\n",
      "1.23284673944\n",
      "1.48496826225\n",
      "1.78864952906\n",
      "2.15443469003\n",
      "2.5950242114\n",
      "3.12571584969\n",
      "3.76493580679\n",
      "4.53487850813\n",
      "5.46227721768\n",
      "6.57933224658\n",
      "7.92482898354\n",
      "9.54548456662\n",
      "11.497569954\n",
      "13.8488637139\n",
      "16.681005372\n",
      "20.0923300257\n",
      "24.2012826479\n",
      "29.1505306283\n",
      "35.1119173422\n",
      "42.2924287439\n",
      "50.9413801482\n",
      "61.3590727341\n",
      "73.9072203353\n",
      "89.0215085445\n",
      "107.226722201\n",
      "129.154966501\n",
      "155.567614393\n",
      "187.381742286\n",
      "225.701971963\n",
      "271.858824273\n",
      "327.454916288\n",
      "394.420605944\n",
      "475.08101621\n",
      "572.236765935\n",
      "689.261210435\n",
      "830.217568132\n",
      "1000.0\n"
     ]
    }
   ],
   "source": [
    "for C in np.logspace(-5,3,100):\n",
    "    print(C)"
   ]
  },
  {
   "cell_type": "markdown",
   "metadata": {},
   "source": [
    "# sandpile"
   ]
  },
  {
   "cell_type": "code",
   "execution_count": 71,
   "metadata": {
    "collapsed": true
   },
   "outputs": [],
   "source": [
    "import random\n",
    "import glob\n",
    "import os\n",
    "from collections import defaultdict\n",
    "\n",
    "import matplotlib.pyplot as plt\n",
    "import numpy as np\n",
    "import imageio"
   ]
  },
  {
   "cell_type": "markdown",
   "metadata": {},
   "source": [
    "## 初始化"
   ]
  },
  {
   "cell_type": "code",
   "execution_count": 72,
   "metadata": {
    "collapsed": true
   },
   "outputs": [],
   "source": [
    "def sandpile(size=\"3x3\",sand_max=4, initial_min=0, initial_max=3):\n",
    "    try:\n",
    "        r, c = map(int, size.strip().split('x'))\n",
    "        pile[\"r\"] = r\n",
    "        pile[\"c\"] = c\n",
    "    except Exception:\n",
    "        print(\"Enter in the form <int>x<int> (eg, 4x4)\")\n",
    "        raise\n",
    "    for row in range(1, r+1):\n",
    "        for col in range(1, c+1):\n",
    "            pile[(row, col)][\"max\"] = sand_max\n",
    "            pile[(row, col)][\"#\"] = random.randint(initial_min, initial_max)\n",
    "    return pile"
   ]
  },
  {
   "cell_type": "code",
   "execution_count": 73,
   "metadata": {
    "collapsed": true
   },
   "outputs": [],
   "source": [
    "pile = defaultdict(dict)"
   ]
  },
  {
   "cell_type": "code",
   "execution_count": 48,
   "metadata": {},
   "outputs": [
    {
     "ename": "ValueError",
     "evalue": "empty range for randrange() (4,4, 0)",
     "output_type": "error",
     "traceback": [
      "\u001b[1;31m---------------------------------------------------------------------------\u001b[0m",
      "\u001b[1;31mValueError\u001b[0m                                Traceback (most recent call last)",
      "\u001b[1;32m<ipython-input-48-b842f1c76208>\u001b[0m in \u001b[0;36m<module>\u001b[1;34m()\u001b[0m\n\u001b[1;32m----> 1\u001b[1;33m \u001b[0msandpile\u001b[0m\u001b[1;33m(\u001b[0m\u001b[1;34m\"3x3\"\u001b[0m\u001b[1;33m,\u001b[0m\u001b[1;36m0\u001b[0m\u001b[1;33m,\u001b[0m\u001b[1;36m4\u001b[0m\u001b[1;33m)\u001b[0m\u001b[1;33m\u001b[0m\u001b[0m\n\u001b[0m",
      "\u001b[1;32m<ipython-input-46-253eb7fb3de9>\u001b[0m in \u001b[0;36msandpile\u001b[1;34m(size, sand_max, initial_min, initial_max)\u001b[0m\n\u001b[0;32m     10\u001b[0m         \u001b[1;32mfor\u001b[0m \u001b[0mcol\u001b[0m \u001b[1;32min\u001b[0m \u001b[0mrange\u001b[0m\u001b[1;33m(\u001b[0m\u001b[1;36m1\u001b[0m\u001b[1;33m,\u001b[0m \u001b[0mc\u001b[0m\u001b[1;33m+\u001b[0m\u001b[1;36m1\u001b[0m\u001b[1;33m)\u001b[0m\u001b[1;33m:\u001b[0m\u001b[1;33m\u001b[0m\u001b[0m\n\u001b[0;32m     11\u001b[0m             \u001b[0mpile\u001b[0m\u001b[1;33m[\u001b[0m\u001b[1;33m(\u001b[0m\u001b[0mrow\u001b[0m\u001b[1;33m,\u001b[0m \u001b[0mcol\u001b[0m\u001b[1;33m)\u001b[0m\u001b[1;33m]\u001b[0m\u001b[1;33m[\u001b[0m\u001b[1;34m\"max\"\u001b[0m\u001b[1;33m]\u001b[0m \u001b[1;33m=\u001b[0m \u001b[0msand_max\u001b[0m\u001b[1;33m\u001b[0m\u001b[0m\n\u001b[1;32m---> 12\u001b[1;33m             \u001b[0mpile\u001b[0m\u001b[1;33m[\u001b[0m\u001b[1;33m(\u001b[0m\u001b[0mrow\u001b[0m\u001b[1;33m,\u001b[0m \u001b[0mcol\u001b[0m\u001b[1;33m)\u001b[0m\u001b[1;33m]\u001b[0m\u001b[1;33m[\u001b[0m\u001b[1;34m\"#\"\u001b[0m\u001b[1;33m]\u001b[0m \u001b[1;33m=\u001b[0m \u001b[0mrandom\u001b[0m\u001b[1;33m.\u001b[0m\u001b[0mrandint\u001b[0m\u001b[1;33m(\u001b[0m\u001b[0minitial_min\u001b[0m\u001b[1;33m,\u001b[0m \u001b[0minitial_max\u001b[0m\u001b[1;33m)\u001b[0m\u001b[1;33m\u001b[0m\u001b[0m\n\u001b[0m\u001b[0;32m     13\u001b[0m     \u001b[1;32mreturn\u001b[0m \u001b[0mpile\u001b[0m\u001b[1;33m\u001b[0m\u001b[0m\n",
      "\u001b[1;32mE:\\MiniConda32\\envs\\py36\\lib\\random.py\u001b[0m in \u001b[0;36mrandint\u001b[1;34m(self, a, b)\u001b[0m\n\u001b[0;32m    218\u001b[0m         \"\"\"\n\u001b[0;32m    219\u001b[0m \u001b[1;33m\u001b[0m\u001b[0m\n\u001b[1;32m--> 220\u001b[1;33m         \u001b[1;32mreturn\u001b[0m \u001b[0mself\u001b[0m\u001b[1;33m.\u001b[0m\u001b[0mrandrange\u001b[0m\u001b[1;33m(\u001b[0m\u001b[0ma\u001b[0m\u001b[1;33m,\u001b[0m \u001b[0mb\u001b[0m\u001b[1;33m+\u001b[0m\u001b[1;36m1\u001b[0m\u001b[1;33m)\u001b[0m\u001b[1;33m\u001b[0m\u001b[0m\n\u001b[0m\u001b[0;32m    221\u001b[0m \u001b[1;33m\u001b[0m\u001b[0m\n\u001b[0;32m    222\u001b[0m     def _randbelow(self, n, int=int, maxsize=1<<BPF, type=type,\n",
      "\u001b[1;32mE:\\MiniConda32\\envs\\py36\\lib\\random.py\u001b[0m in \u001b[0;36mrandrange\u001b[1;34m(self, start, stop, step, _int)\u001b[0m\n\u001b[0;32m    196\u001b[0m             \u001b[1;32mreturn\u001b[0m \u001b[0mistart\u001b[0m \u001b[1;33m+\u001b[0m \u001b[0mself\u001b[0m\u001b[1;33m.\u001b[0m\u001b[0m_randbelow\u001b[0m\u001b[1;33m(\u001b[0m\u001b[0mwidth\u001b[0m\u001b[1;33m)\u001b[0m\u001b[1;33m\u001b[0m\u001b[0m\n\u001b[0;32m    197\u001b[0m         \u001b[1;32mif\u001b[0m \u001b[0mstep\u001b[0m \u001b[1;33m==\u001b[0m \u001b[1;36m1\u001b[0m\u001b[1;33m:\u001b[0m\u001b[1;33m\u001b[0m\u001b[0m\n\u001b[1;32m--> 198\u001b[1;33m             \u001b[1;32mraise\u001b[0m \u001b[0mValueError\u001b[0m\u001b[1;33m(\u001b[0m\u001b[1;34m\"empty range for randrange() (%d,%d, %d)\"\u001b[0m \u001b[1;33m%\u001b[0m \u001b[1;33m(\u001b[0m\u001b[0mistart\u001b[0m\u001b[1;33m,\u001b[0m \u001b[0mistop\u001b[0m\u001b[1;33m,\u001b[0m \u001b[0mwidth\u001b[0m\u001b[1;33m)\u001b[0m\u001b[1;33m)\u001b[0m\u001b[1;33m\u001b[0m\u001b[0m\n\u001b[0m\u001b[0;32m    199\u001b[0m \u001b[1;33m\u001b[0m\u001b[0m\n\u001b[0;32m    200\u001b[0m         \u001b[1;31m# Non-unit step argument supplied.\u001b[0m\u001b[1;33m\u001b[0m\u001b[1;33m\u001b[0m\u001b[0m\n",
      "\u001b[1;31mValueError\u001b[0m: empty range for randrange() (4,4, 0)"
     ]
    }
   ],
   "source": [
    "sandpile(\"3x3\",0,4)"
   ]
  },
  {
   "cell_type": "raw",
   "metadata": {},
   "source": [
    "“#” 点数\n",
    "“max” 最大值"
   ]
  },
  {
   "cell_type": "code",
   "execution_count": 74,
   "metadata": {
    "collapsed": true
   },
   "outputs": [],
   "source": [
    "def pad_pile(pile):\n",
    "    r = pile[\"r\"]\n",
    "    c = pile[\"c\"]\n",
    "\n",
    "    for col in range(c+2):\n",
    "        pile[(0, col)][\"max\"] = 0\n",
    "        pile[(0, col)][\"#\"] = 0\n",
    "        pile[(r+1, col)][\"max\"] = 0\n",
    "        pile[(r+1, col)][\"#\"] = 0\n",
    "\n",
    "    for row in range(1, r+1):\n",
    "        pile[(row, 0)][\"max\"] = 0\n",
    "        pile[(row, 0)][\"#\"] = 0\n",
    "        pile[(row, c+1)][\"max\"] = 0\n",
    "        pile[(row, c+1)][\"#\"] = 0\n",
    "\n",
    "    return pile"
   ]
  },
  {
   "cell_type": "code",
   "execution_count": 75,
   "metadata": {
    "collapsed": true
   },
   "outputs": [],
   "source": [
    "def unpad_pile(pile):\n",
    "    r = pile[\"r\"]\n",
    "    c = pile[\"c\"]\n",
    "\n",
    "    for col in range(c+2):\n",
    "        del pile[(0, col)]\n",
    "        del pile[(r+1, col)]\n",
    "\n",
    "    for row in range(1, r+1):\n",
    "        del pile[(row, 0)]\n",
    "        del pile[(row, c+1)]\n",
    "    return pile"
   ]
  },
  {
   "cell_type": "markdown",
   "metadata": {},
   "source": [
    "## 作图函数"
   ]
  },
  {
   "cell_type": "code",
   "execution_count": 76,
   "metadata": {
    "collapsed": true
   },
   "outputs": [],
   "source": [
    "def plot(pile, labels):\n",
    "    numpy_array = convert_to_numpy_array(pile)\n",
    "    plt.matshow(numpy_array, cmap=plt.get_cmap('gist_rainbow'))\n",
    "    plt.axis('off')\n",
    "    if labels:\n",
    "        it = np.nditer(numpy_array, flags=['multi_index'])\n",
    "        while not it.finished:\n",
    "            plt.text(it.multi_index[1], it.multi_index[0], int(it[0]), va='center', ha='center')\n",
    "            it.iternext()\n",
    "    return plt\n",
    "\n",
    "def convert_to_numpy_array(pile):\n",
    "    r = pile[\"r\"]\n",
    "    c = pile[\"c\"]\n",
    "    np_array = np.empty(shape=(r, c))\n",
    "    for row in range(r):\n",
    "        for col in range(c):\n",
    "            np_array[row][col] = pile[(row+1, col+1)][\"#\"]\n",
    "    return np_array"
   ]
  },
  {
   "cell_type": "code",
   "execution_count": 54,
   "metadata": {},
   "outputs": [
    {
     "ename": "TypeError",
     "evalue": "'dict' object cannot be interpreted as an integer",
     "output_type": "error",
     "traceback": [
      "\u001b[1;31m---------------------------------------------------------------------------\u001b[0m",
      "\u001b[1;31mTypeError\u001b[0m                                 Traceback (most recent call last)",
      "\u001b[1;32m<ipython-input-54-6bacbe945701>\u001b[0m in \u001b[0;36m<module>\u001b[1;34m()\u001b[0m\n\u001b[1;32m----> 1\u001b[1;33m \u001b[0mplt\u001b[0m \u001b[1;33m=\u001b[0m \u001b[0mplot\u001b[0m\u001b[1;33m(\u001b[0m\u001b[0mpile\u001b[0m\u001b[1;33m,\u001b[0m \u001b[1;32mTrue\u001b[0m\u001b[1;33m)\u001b[0m\u001b[1;33m\u001b[0m\u001b[0m\n\u001b[0m",
      "\u001b[1;32m<ipython-input-53-5ba7819a8f27>\u001b[0m in \u001b[0;36mplot\u001b[1;34m(pile, labels)\u001b[0m\n\u001b[0;32m      1\u001b[0m \u001b[1;32mdef\u001b[0m \u001b[0mplot\u001b[0m\u001b[1;33m(\u001b[0m\u001b[0mpile\u001b[0m\u001b[1;33m,\u001b[0m \u001b[0mlabels\u001b[0m\u001b[1;33m)\u001b[0m\u001b[1;33m:\u001b[0m\u001b[1;33m\u001b[0m\u001b[0m\n\u001b[1;32m----> 2\u001b[1;33m     \u001b[0mnumpy_array\u001b[0m \u001b[1;33m=\u001b[0m \u001b[0mconvert_to_numpy_array\u001b[0m\u001b[1;33m(\u001b[0m\u001b[0mpile\u001b[0m\u001b[1;33m)\u001b[0m\u001b[1;33m\u001b[0m\u001b[0m\n\u001b[0m\u001b[0;32m      3\u001b[0m     \u001b[0mplt\u001b[0m\u001b[1;33m.\u001b[0m\u001b[0mmatshow\u001b[0m\u001b[1;33m(\u001b[0m\u001b[0mnumpy_array\u001b[0m\u001b[1;33m,\u001b[0m \u001b[0mcmap\u001b[0m\u001b[1;33m=\u001b[0m\u001b[0mplt\u001b[0m\u001b[1;33m.\u001b[0m\u001b[0mget_cmap\u001b[0m\u001b[1;33m(\u001b[0m\u001b[1;34m'gist_rainbow'\u001b[0m\u001b[1;33m)\u001b[0m\u001b[1;33m)\u001b[0m\u001b[1;33m\u001b[0m\u001b[0m\n\u001b[0;32m      4\u001b[0m     \u001b[0mplt\u001b[0m\u001b[1;33m.\u001b[0m\u001b[0maxis\u001b[0m\u001b[1;33m(\u001b[0m\u001b[1;34m'off'\u001b[0m\u001b[1;33m)\u001b[0m\u001b[1;33m\u001b[0m\u001b[0m\n\u001b[0;32m      5\u001b[0m     \u001b[1;32mif\u001b[0m \u001b[0mlabels\u001b[0m\u001b[1;33m:\u001b[0m\u001b[1;33m\u001b[0m\u001b[0m\n",
      "\u001b[1;32m<ipython-input-53-5ba7819a8f27>\u001b[0m in \u001b[0;36mconvert_to_numpy_array\u001b[1;34m(pile)\u001b[0m\n\u001b[0;32m     13\u001b[0m     \u001b[0mr\u001b[0m \u001b[1;33m=\u001b[0m \u001b[0mpile\u001b[0m\u001b[1;33m[\u001b[0m\u001b[1;34m\"r\"\u001b[0m\u001b[1;33m]\u001b[0m\u001b[1;33m\u001b[0m\u001b[0m\n\u001b[0;32m     14\u001b[0m     \u001b[0mc\u001b[0m \u001b[1;33m=\u001b[0m \u001b[0mpile\u001b[0m\u001b[1;33m[\u001b[0m\u001b[1;34m\"c\"\u001b[0m\u001b[1;33m]\u001b[0m\u001b[1;33m\u001b[0m\u001b[0m\n\u001b[1;32m---> 15\u001b[1;33m     \u001b[0mnp_array\u001b[0m \u001b[1;33m=\u001b[0m \u001b[0mnp\u001b[0m\u001b[1;33m.\u001b[0m\u001b[0mempty\u001b[0m\u001b[1;33m(\u001b[0m\u001b[0mshape\u001b[0m\u001b[1;33m=\u001b[0m\u001b[1;33m(\u001b[0m\u001b[0mr\u001b[0m\u001b[1;33m,\u001b[0m \u001b[0mc\u001b[0m\u001b[1;33m)\u001b[0m\u001b[1;33m)\u001b[0m\u001b[1;33m\u001b[0m\u001b[0m\n\u001b[0m\u001b[0;32m     16\u001b[0m     \u001b[1;32mfor\u001b[0m \u001b[0mrow\u001b[0m \u001b[1;32min\u001b[0m \u001b[0mrange\u001b[0m\u001b[1;33m(\u001b[0m\u001b[0mr\u001b[0m\u001b[1;33m)\u001b[0m\u001b[1;33m:\u001b[0m\u001b[1;33m\u001b[0m\u001b[0m\n\u001b[0;32m     17\u001b[0m         \u001b[1;32mfor\u001b[0m \u001b[0mcol\u001b[0m \u001b[1;32min\u001b[0m \u001b[0mrange\u001b[0m\u001b[1;33m(\u001b[0m\u001b[0mc\u001b[0m\u001b[1;33m)\u001b[0m\u001b[1;33m:\u001b[0m\u001b[1;33m\u001b[0m\u001b[0m\n",
      "\u001b[1;31mTypeError\u001b[0m: 'dict' object cannot be interpreted as an integer"
     ]
    }
   ],
   "source": [
    "plt = plot(pile, True)"
   ]
  },
  {
   "cell_type": "markdown",
   "metadata": {},
   "source": [
    "## 主函数"
   ]
  },
  {
   "cell_type": "code",
   "execution_count": 77,
   "metadata": {
    "collapsed": true
   },
   "outputs": [],
   "source": [
    "def pile_unstable(pile):\n",
    "    r = pile[\"r\"]\n",
    "    c = pile[\"c\"]\n",
    "    for row in range(1, r+1):\n",
    "        for col in range(1, c+1):\n",
    "            if pile[(row, col)][\"#\"] > pile[(row, col)][\"max\"]:\n",
    "                return True\n",
    "    return False"
   ]
  },
  {
   "cell_type": "code",
   "execution_count": 78,
   "metadata": {
    "collapsed": true
   },
   "outputs": [],
   "source": [
    "def run_pile(pile, picture=False, labels=False, gif=False):\n",
    "    pad_pile(pile)\n",
    "    count = 0\n",
    "    while pile_unstable(pile):\n",
    "        count += 1\n",
    "        collapse_pile(pile)\n",
    "    unpad_pile(pile)\n",
    "    print(\"Ran for %i iterations\" % count)\n",
    "    plt = plot(pile, labels)"
   ]
  },
  {
   "cell_type": "code",
   "execution_count": 79,
   "metadata": {
    "collapsed": true
   },
   "outputs": [],
   "source": [
    "def collapse_pile(pile):\n",
    "    toppable_squares = []\n",
    "    r = pile[\"r\"]\n",
    "    c = pile[\"c\"]\n",
    "    for row in range(1, r+1):\n",
    "        for col in range(1, c+1):\n",
    "            if pile[(row, col)][\"#\"] > pile[(row, col)][\"max\"]:\n",
    "                toppable_squares.append((row, col))\n",
    "    for square in toppable_squares:\n",
    "        r, c = square[0], square[1]\n",
    "        arounddic = {1:(r-1,c-1),2:(r-1,c),3:(r-1,c+1),\n",
    "                     4:(r  ,c-1),5:(r  ,c),6:(r  ,c+1),\n",
    "                     7:(r+1,c-1),8:(r+1,c),9:(r+1,c+1)}\n",
    "        deltas = []\n",
    "        for i in range(1,10):\n",
    "            delta =pile[square][\"#\"] - pile[arounddic[i]][\"#\"]\n",
    "            deltas.append(delta)\n",
    "        B = np.cumsum(deltas)\n",
    "        rnd = random.random()*B[-1]\n",
    "        ind = np.nonzero(B<rnd)\n",
    "        if len(ind[0])==0:\n",
    "            pos = 1\n",
    "        else:\n",
    "            pos = ind[0][-1]+2\n",
    "        pile[arounddic[pos]][\"#\"] += 1\n",
    "        pile[square][\"#\"] -= 1\n",
    "        return pile"
   ]
  },
  {
   "cell_type": "markdown",
   "metadata": {},
   "source": [
    "## test"
   ]
  },
  {
   "cell_type": "markdown",
   "metadata": {},
   "source": [
    "sandpile(size=\"3x3\",sand_max=4, initial_min=0, initial_max=3)"
   ]
  },
  {
   "cell_type": "code",
   "execution_count": 91,
   "metadata": {
    "collapsed": true
   },
   "outputs": [],
   "source": [
    "pile = defaultdict(dict)"
   ]
  },
  {
   "cell_type": "code",
   "execution_count": 92,
   "metadata": {},
   "outputs": [
    {
     "data": {
      "text/plain": [
       "defaultdict(dict,\n",
       "            {(1, 1): {'#': 1, 'max': 3},\n",
       "             (1, 2): {'#': 1, 'max': 3},\n",
       "             (1, 3): {'#': 2, 'max': 3},\n",
       "             (2, 1): {'#': 2, 'max': 3},\n",
       "             (2, 2): {'#': 1, 'max': 3},\n",
       "             (2, 3): {'#': 2, 'max': 3},\n",
       "             (3, 1): {'#': 3, 'max': 3},\n",
       "             (3, 2): {'#': 1, 'max': 3},\n",
       "             (3, 3): {'#': 2, 'max': 3},\n",
       "             'c': 3,\n",
       "             'r': 3})"
      ]
     },
     "execution_count": 92,
     "metadata": {},
     "output_type": "execute_result"
    }
   ],
   "source": [
    "sandpile(\"3x3\",3)"
   ]
  },
  {
   "cell_type": "code",
   "execution_count": 93,
   "metadata": {
    "collapsed": true
   },
   "outputs": [],
   "source": [
    "pile[(2,2)][\"#\"] = 4"
   ]
  },
  {
   "cell_type": "code",
   "execution_count": 94,
   "metadata": {},
   "outputs": [
    {
     "data": {
      "image/png": "[encoded data removed]",
      "text/plain": [
       "<matplotlib.figure.Figure at 0xc3415f0>"
      ]
     },
     "metadata": {},
     "output_type": "display_data"
    }
   ],
   "source": [
    "plt = plot(pile, True)"
   ]
  },
  {
   "cell_type": "code",
   "execution_count": 95,
   "metadata": {},
   "outputs": [
    {
     "name": "stdout",
     "output_type": "stream",
     "text": [
      "Ran for 1 iterations\n"
     ]
    },
    {
     "data": {
      "image/png": "[encoded data removed]",
      "text/plain": [
       "<matplotlib.figure.Figure at 0xc3c2e10>"
      ]
     },
     "metadata": {},
     "output_type": "display_data"
    }
   ],
   "source": [
    "run_pile(pile,labels=True)"
   ]
  },
  {
   "cell_type": "markdown",
   "metadata": {},
   "source": [
    "# 重构"
   ]
  },
  {
   "cell_type": "code",
   "execution_count": 1,
   "metadata": {
    "collapsed": true
   },
   "outputs": [],
   "source": [
    "from rtree import index\n",
    "import numpy as np\n",
    "import random\n",
    "import networkx as nx\n",
    "import matplotlib.pyplot as plt\n",
    "import math\n",
    "from scipy.optimize import leastsq\n",
    "import matplotlib\n",
    "import sys"
   ]
  },
  {
   "cell_type": "code",
   "execution_count": 2,
   "metadata": {
    "collapsed": true
   },
   "outputs": [],
   "source": [
    "L=10**10\n",
    "times=10**3\n",
    "r0  = 100\n",
    "delta = r0\n",
    "maxnode = 1000\n",
    "C = 1\n",
    "sequence = []; \n",
    "nodelist = {}"
   ]
  },
  {
   "cell_type": "code",
   "execution_count": 3,
   "metadata": {
    "collapsed": true
   },
   "outputs": [],
   "source": [
    "def initiate(L,radius,C): \n",
    "    coordinate = np.ones(2)*L/2.0\n",
    "    Latticelist = {(coordinate[0],coordinate[1]):{1:1, 2:1}}#1 格子有第一个点的个数 2 格子人数\n",
    "    index2coor = {1:(coordinate[0],coordinate[1])}  \n",
    "    idx = index.Index()\n",
    "    for key in Latticelist:\n",
    "        idx.insert(  Latticelist[key][1],list(np.r_[coordinate,coordinate])  )                     \n",
    "    limitt = np.r_[coordinate - radius,coordinate + radius]\n",
    "    ksequence = []\n",
    "    ksequence.append(1)\n",
    "    return (Latticelist,idx,limitt,index2coor,ksequence)"
   ]
  },
  {
   "cell_type": "code",
   "execution_count": 4,
   "metadata": {
    "collapsed": true
   },
   "outputs": [],
   "source": [
    "def choosenode(Latticelist,limitt,C,ksequence): \n",
    "    white = ( (limitt[2]-limitt[0])*(limitt[3]-limitt[1])-len(Latticelist) )*C#空白格子\n",
    "    rnd = random.random()*( sum(ksequence)+ (limitt[2]-limitt[0])*(limitt[3]-limitt[1])*C  ) \n",
    "\n",
    "    if rnd> sum(ksequence)+len(Latticelist)*C:#落到空白格子\n",
    "        ii = int( random.random()*(limitt[2]-limitt[0])   + limitt[0] )\n",
    "        jj = int( random.random()*(limitt[3]-limitt[1])   + limitt[1] )\n",
    "        if (ii,jj) not in Latticelist:\n",
    "            return (ii,jj),0,ksequence\n",
    "    else: \n",
    "        A = np.array(ksequence)+C\n",
    "        B = np.cumsum(A)\n",
    "        ind = np.nonzero(B<rnd)\n",
    "        if len(ind[0])==0: \n",
    "            pos = 1\n",
    "        else:\n",
    "            pos = ind[0][-1]+1\n",
    "        return index2coor[pos],1,ksequence  "
   ]
  },
  {
   "cell_type": "code",
   "execution_count": 5,
   "metadata": {
    "collapsed": true
   },
   "outputs": [],
   "source": [
    "def onestep(Latticelist,index2coor,idx,L,radius,C,limitt,totpop,ksequence):#9进\n",
    "    ss = 1\n",
    "    for i in range(2):\n",
    "        ss = ss*(limitt[i+2]-limitt[i])\n",
    "    ss *= C\n",
    "    ss += totpop\n",
    "    locallambda = ss/(L**2*C + totpop)\n",
    "    two,flag,ksequence = choosenode(Latticelist,limitt,C,ksequence)  \n",
    "    i = two[0]; j = two[1]\n",
    "    intersection = list(  idx.intersection( [i-radius,j-radius, i+radius,j+radius] )  ) \n",
    "    withincircle = 0    \n",
    "    if len(intersection) > 0: \n",
    "        for key in intersection:  \n",
    "            if np.linalg.norm(np.array(index2coor[key]) - np.array([i,j])) <= radius: \n",
    "                withincircle += 1\n",
    "                continue                \n",
    "        if flag==1:\n",
    "            Latticelist[(i,j)][2] += 1\n",
    "            Latticelist[(i,j)][1] += 1\n",
    "            ksequence[ Latticelist[(i,j)][1]-1 ] += 1\n",
    "            totpop += 1              \n",
    "        elif  withincircle > 0  and  flag==0: \n",
    "            totpop += 1         \n",
    "            Latticelist[(i,j)] = {1:len(Latticelist)+1,2:1}\n",
    "\n",
    "            index2coor[len(Latticelist)] = (i,j)\n",
    "\n",
    "            newpoint = [i,j]\n",
    "            idx.insert( len(Latticelist), np.r_[newpoint, newpoint] )  \n",
    "            ksequence.append( Latticelist[(i,j)][1] )            \n",
    "            for i in range(2):  #2 is the dimension 'd'\n",
    "                limitt[i]   = round(min(limitt[i],newpoint[i]-radius))\n",
    "                limitt[i+2] = round(max(limitt[i+2],newpoint[i]+radius))\n",
    "    return Latticelist,index2coor,idx,limitt,totpop,ksequence"
   ]
  },
  {
   "cell_type": "code",
   "execution_count": 8,
   "metadata": {
    "collapsed": true
   },
   "outputs": [],
   "source": [
    "totpop = 1\n",
    "tstep = 1\n",
    "tempP = 1\n",
    "tempT = 1\n",
    "T = 2"
   ]
  },
  {
   "cell_type": "code",
   "execution_count": 6,
   "metadata": {
    "collapsed": true
   },
   "outputs": [],
   "source": [
    "nodelist,idx,limitt,index2coor,sequence = initiate(L,r0,C)"
   ]
  },
  {
   "cell_type": "code",
   "execution_count": 11,
   "metadata": {},
   "outputs": [
    {
     "ename": "TypeError",
     "evalue": "'NoneType' object is not iterable",
     "output_type": "error",
     "traceback": [
      "\u001b[1;31m---------------------------------------------------------------------------\u001b[0m",
      "\u001b[1;31mTypeError\u001b[0m                                 Traceback (most recent call last)",
      "\u001b[1;32m<ipython-input-11-e85d7d38714d>\u001b[0m in \u001b[0;36m<module>\u001b[1;34m()\u001b[0m\n\u001b[0;32m      1\u001b[0m \u001b[1;32mwhile\u001b[0m \u001b[0mtotpop\u001b[0m \u001b[1;33m<\u001b[0m \u001b[0mmaxnode\u001b[0m\u001b[1;33m:\u001b[0m\u001b[1;33m\u001b[0m\u001b[0m\n\u001b[1;32m----> 2\u001b[1;33m     \u001b[0mnodelist\u001b[0m\u001b[1;33m,\u001b[0m\u001b[0mindex2coor\u001b[0m\u001b[1;33m,\u001b[0m\u001b[0midx\u001b[0m\u001b[1;33m,\u001b[0m\u001b[0mlimitt\u001b[0m\u001b[1;33m,\u001b[0m\u001b[0mtotpop\u001b[0m\u001b[1;33m,\u001b[0m\u001b[0msequence\u001b[0m \u001b[1;33m=\u001b[0m \u001b[0monestep\u001b[0m\u001b[1;33m(\u001b[0m\u001b[0mnodelist\u001b[0m\u001b[1;33m,\u001b[0m\u001b[0mindex2coor\u001b[0m\u001b[1;33m,\u001b[0m\u001b[0midx\u001b[0m\u001b[1;33m,\u001b[0m\u001b[0mL\u001b[0m\u001b[1;33m,\u001b[0m\u001b[0mr0\u001b[0m\u001b[1;33m,\u001b[0m\u001b[0mC\u001b[0m\u001b[1;33m,\u001b[0m\u001b[0mlimitt\u001b[0m\u001b[1;33m,\u001b[0m\u001b[0mtotpop\u001b[0m\u001b[1;33m,\u001b[0m\u001b[0msequence\u001b[0m\u001b[1;33m)\u001b[0m\u001b[1;33m\u001b[0m\u001b[0m\n\u001b[0m",
      "\u001b[1;32m<ipython-input-5-befb29409a07>\u001b[0m in \u001b[0;36monestep\u001b[1;34m(Latticelist, index2coor, idx, L, radius, C, limitt, totpop, ksequence)\u001b[0m\n\u001b[0;32m      6\u001b[0m     \u001b[0mss\u001b[0m \u001b[1;33m+=\u001b[0m \u001b[0mtotpop\u001b[0m\u001b[1;33m\u001b[0m\u001b[0m\n\u001b[0;32m      7\u001b[0m     \u001b[0mlocallambda\u001b[0m \u001b[1;33m=\u001b[0m \u001b[0mss\u001b[0m\u001b[1;33m/\u001b[0m\u001b[1;33m(\u001b[0m\u001b[0mL\u001b[0m\u001b[1;33m**\u001b[0m\u001b[1;36m2\u001b[0m\u001b[1;33m*\u001b[0m\u001b[0mC\u001b[0m \u001b[1;33m+\u001b[0m \u001b[0mtotpop\u001b[0m\u001b[1;33m)\u001b[0m\u001b[1;33m\u001b[0m\u001b[0m\n\u001b[1;32m----> 8\u001b[1;33m     \u001b[0mtwo\u001b[0m\u001b[1;33m,\u001b[0m\u001b[0mflag\u001b[0m\u001b[1;33m,\u001b[0m\u001b[0mksequence\u001b[0m \u001b[1;33m=\u001b[0m \u001b[0mchoosenode\u001b[0m\u001b[1;33m(\u001b[0m\u001b[0mLatticelist\u001b[0m\u001b[1;33m,\u001b[0m\u001b[0mlimitt\u001b[0m\u001b[1;33m,\u001b[0m\u001b[0mC\u001b[0m\u001b[1;33m,\u001b[0m\u001b[0mksequence\u001b[0m\u001b[1;33m)\u001b[0m\u001b[1;33m\u001b[0m\u001b[0m\n\u001b[0m\u001b[0;32m      9\u001b[0m     \u001b[0mi\u001b[0m \u001b[1;33m=\u001b[0m \u001b[0mtwo\u001b[0m\u001b[1;33m[\u001b[0m\u001b[1;36m0\u001b[0m\u001b[1;33m]\u001b[0m\u001b[1;33m;\u001b[0m \u001b[0mj\u001b[0m \u001b[1;33m=\u001b[0m \u001b[0mtwo\u001b[0m\u001b[1;33m[\u001b[0m\u001b[1;36m1\u001b[0m\u001b[1;33m]\u001b[0m\u001b[1;33m\u001b[0m\u001b[0m\n\u001b[0;32m     10\u001b[0m     \u001b[0mintersection\u001b[0m \u001b[1;33m=\u001b[0m \u001b[0mlist\u001b[0m\u001b[1;33m(\u001b[0m  \u001b[0midx\u001b[0m\u001b[1;33m.\u001b[0m\u001b[0mintersection\u001b[0m\u001b[1;33m(\u001b[0m \u001b[1;33m[\u001b[0m\u001b[0mi\u001b[0m\u001b[1;33m-\u001b[0m\u001b[0mradius\u001b[0m\u001b[1;33m,\u001b[0m\u001b[0mj\u001b[0m\u001b[1;33m-\u001b[0m\u001b[0mradius\u001b[0m\u001b[1;33m,\u001b[0m \u001b[0mi\u001b[0m\u001b[1;33m+\u001b[0m\u001b[0mradius\u001b[0m\u001b[1;33m,\u001b[0m\u001b[0mj\u001b[0m\u001b[1;33m+\u001b[0m\u001b[0mradius\u001b[0m\u001b[1;33m]\u001b[0m \u001b[1;33m)\u001b[0m  \u001b[1;33m)\u001b[0m\u001b[1;33m\u001b[0m\u001b[0m\n",
      "\u001b[1;31mTypeError\u001b[0m: 'NoneType' object is not iterable"
     ]
    }
   ],
   "source": [
    "while totpop < maxnode:\n",
    "    nodelist,index2coor,idx,limitt,totpop,sequence = onestep(nodelist,index2coor,idx,L,r0,C,limitt,totpop,sequence)"
   ]
  },
  {
   "cell_type": "markdown",
   "metadata": {},
   "source": [
    "# 测试"
   ]
  },
  {
   "cell_type": "code",
   "execution_count": 2,
   "metadata": {
    "collapsed": true
   },
   "outputs": [],
   "source": [
    "import pandas as pd \n",
    "import pandas "
   ]
  },
  {
   "cell_type": "code",
   "execution_count": 4,
   "metadata": {},
   "outputs": [],
   "source": [
    "df = pd.read_csv(r\"I:\\Project\\ScaleCity\\Scaling\\N=100000--C0.0100--R100--v0.csv\",sep = ',')"
   ]
  },
  {
   "cell_type": "code",
   "execution_count": 5,
   "metadata": {},
   "outputs": [
    {
     "data": {
      "text/plain": [
       "<pandas.core.config.option_context at 0x85b8a10>"
      ]
     },
     "execution_count": 5,
     "metadata": {},
     "output_type": "execute_result"
    }
   ],
   "source": [
    "pd.option_context('display.float_format', lambda x: '%.3f' % x)"
   ]
  },
  {
   "cell_type": "code",
   "execution_count": 6,
   "metadata": {},
   "outputs": [
    {
     "data": {
      "text/html": [
       "<div>\n",
       "<style scoped>\n",
       "    .dataframe tbody tr th:only-of-type {\n",
       "        vertical-align: middle;\n",
       "    }\n",
       "\n",
       "    .dataframe tbody tr th {\n",
       "        vertical-align: top;\n",
       "    }\n",
       "\n",
       "    .dataframe thead th {\n",
       "        text-align: right;\n",
       "    }\n",
       "</style>\n",
       "<table border=\"1\" class=\"dataframe\">\n",
       "  <thead>\n",
       "    <tr style=\"text-align: right;\">\n",
       "      <th></th>\n",
       "      <th>5.000000000000000000e+01</th>\n",
       "      <th>5.602253996834716081e-03</th>\n",
       "    </tr>\n",
       "  </thead>\n",
       "  <tbody>\n",
       "    <tr>\n",
       "      <th>0</th>\n",
       "      <td>150.0</td>\n",
       "      <td>0.005645</td>\n",
       "    </tr>\n",
       "    <tr>\n",
       "      <th>1</th>\n",
       "      <td>250.0</td>\n",
       "      <td>0.004883</td>\n",
       "    </tr>\n",
       "    <tr>\n",
       "      <th>2</th>\n",
       "      <td>350.0</td>\n",
       "      <td>0.005043</td>\n",
       "    </tr>\n",
       "    <tr>\n",
       "      <th>3</th>\n",
       "      <td>450.0</td>\n",
       "      <td>0.004555</td>\n",
       "    </tr>\n",
       "    <tr>\n",
       "      <th>4</th>\n",
       "      <td>550.0</td>\n",
       "      <td>0.004503</td>\n",
       "    </tr>\n",
       "    <tr>\n",
       "      <th>5</th>\n",
       "      <td>650.0</td>\n",
       "      <td>0.004574</td>\n",
       "    </tr>\n",
       "    <tr>\n",
       "      <th>6</th>\n",
       "      <td>750.0</td>\n",
       "      <td>0.004287</td>\n",
       "    </tr>\n",
       "    <tr>\n",
       "      <th>7</th>\n",
       "      <td>850.0</td>\n",
       "      <td>0.004072</td>\n",
       "    </tr>\n",
       "    <tr>\n",
       "      <th>8</th>\n",
       "      <td>950.0</td>\n",
       "      <td>0.004113</td>\n",
       "    </tr>\n",
       "    <tr>\n",
       "      <th>9</th>\n",
       "      <td>1050.0</td>\n",
       "      <td>0.004185</td>\n",
       "    </tr>\n",
       "    <tr>\n",
       "      <th>10</th>\n",
       "      <td>1150.0</td>\n",
       "      <td>0.003708</td>\n",
       "    </tr>\n",
       "    <tr>\n",
       "      <th>11</th>\n",
       "      <td>1250.0</td>\n",
       "      <td>0.003625</td>\n",
       "    </tr>\n",
       "    <tr>\n",
       "      <th>12</th>\n",
       "      <td>1350.0</td>\n",
       "      <td>0.003472</td>\n",
       "    </tr>\n",
       "    <tr>\n",
       "      <th>13</th>\n",
       "      <td>1450.0</td>\n",
       "      <td>0.003513</td>\n",
       "    </tr>\n",
       "    <tr>\n",
       "      <th>14</th>\n",
       "      <td>1550.0</td>\n",
       "      <td>0.003290</td>\n",
       "    </tr>\n",
       "    <tr>\n",
       "      <th>15</th>\n",
       "      <td>1650.0</td>\n",
       "      <td>0.003145</td>\n",
       "    </tr>\n",
       "    <tr>\n",
       "      <th>16</th>\n",
       "      <td>1750.0</td>\n",
       "      <td>0.003000</td>\n",
       "    </tr>\n",
       "    <tr>\n",
       "      <th>17</th>\n",
       "      <td>1850.0</td>\n",
       "      <td>0.002856</td>\n",
       "    </tr>\n",
       "    <tr>\n",
       "      <th>18</th>\n",
       "      <td>1950.0</td>\n",
       "      <td>0.002749</td>\n",
       "    </tr>\n",
       "    <tr>\n",
       "      <th>19</th>\n",
       "      <td>2050.0</td>\n",
       "      <td>0.002588</td>\n",
       "    </tr>\n",
       "    <tr>\n",
       "      <th>20</th>\n",
       "      <td>2150.0</td>\n",
       "      <td>0.002464</td>\n",
       "    </tr>\n",
       "    <tr>\n",
       "      <th>21</th>\n",
       "      <td>2250.0</td>\n",
       "      <td>0.002333</td>\n",
       "    </tr>\n",
       "    <tr>\n",
       "      <th>22</th>\n",
       "      <td>2350.0</td>\n",
       "      <td>0.002213</td>\n",
       "    </tr>\n",
       "    <tr>\n",
       "      <th>23</th>\n",
       "      <td>2450.0</td>\n",
       "      <td>0.002137</td>\n",
       "    </tr>\n",
       "    <tr>\n",
       "      <th>24</th>\n",
       "      <td>2550.0</td>\n",
       "      <td>0.002034</td>\n",
       "    </tr>\n",
       "    <tr>\n",
       "      <th>25</th>\n",
       "      <td>2650.0</td>\n",
       "      <td>0.001863</td>\n",
       "    </tr>\n",
       "    <tr>\n",
       "      <th>26</th>\n",
       "      <td>2750.0</td>\n",
       "      <td>0.001794</td>\n",
       "    </tr>\n",
       "    <tr>\n",
       "      <th>27</th>\n",
       "      <td>2850.0</td>\n",
       "      <td>0.001592</td>\n",
       "    </tr>\n",
       "    <tr>\n",
       "      <th>28</th>\n",
       "      <td>2950.0</td>\n",
       "      <td>0.001535</td>\n",
       "    </tr>\n",
       "    <tr>\n",
       "      <th>29</th>\n",
       "      <td>3050.0</td>\n",
       "      <td>0.001445</td>\n",
       "    </tr>\n",
       "    <tr>\n",
       "      <th>30</th>\n",
       "      <td>3150.0</td>\n",
       "      <td>0.001359</td>\n",
       "    </tr>\n",
       "    <tr>\n",
       "      <th>31</th>\n",
       "      <td>3250.0</td>\n",
       "      <td>0.001241</td>\n",
       "    </tr>\n",
       "    <tr>\n",
       "      <th>32</th>\n",
       "      <td>3350.0</td>\n",
       "      <td>0.001103</td>\n",
       "    </tr>\n",
       "    <tr>\n",
       "      <th>33</th>\n",
       "      <td>3450.0</td>\n",
       "      <td>0.000972</td>\n",
       "    </tr>\n",
       "    <tr>\n",
       "      <th>34</th>\n",
       "      <td>3550.0</td>\n",
       "      <td>0.000855</td>\n",
       "    </tr>\n",
       "    <tr>\n",
       "      <th>35</th>\n",
       "      <td>3650.0</td>\n",
       "      <td>0.000740</td>\n",
       "    </tr>\n",
       "    <tr>\n",
       "      <th>36</th>\n",
       "      <td>3750.0</td>\n",
       "      <td>0.000651</td>\n",
       "    </tr>\n",
       "    <tr>\n",
       "      <th>37</th>\n",
       "      <td>3850.0</td>\n",
       "      <td>0.000558</td>\n",
       "    </tr>\n",
       "    <tr>\n",
       "      <th>38</th>\n",
       "      <td>3950.0</td>\n",
       "      <td>0.000466</td>\n",
       "    </tr>\n",
       "    <tr>\n",
       "      <th>39</th>\n",
       "      <td>4050.0</td>\n",
       "      <td>0.000393</td>\n",
       "    </tr>\n",
       "    <tr>\n",
       "      <th>40</th>\n",
       "      <td>4150.0</td>\n",
       "      <td>0.000290</td>\n",
       "    </tr>\n",
       "    <tr>\n",
       "      <th>41</th>\n",
       "      <td>4250.0</td>\n",
       "      <td>0.000221</td>\n",
       "    </tr>\n",
       "    <tr>\n",
       "      <th>42</th>\n",
       "      <td>4350.0</td>\n",
       "      <td>0.000177</td>\n",
       "    </tr>\n",
       "    <tr>\n",
       "      <th>43</th>\n",
       "      <td>4450.0</td>\n",
       "      <td>0.000108</td>\n",
       "    </tr>\n",
       "    <tr>\n",
       "      <th>44</th>\n",
       "      <td>4550.0</td>\n",
       "      <td>0.000063</td>\n",
       "    </tr>\n",
       "    <tr>\n",
       "      <th>45</th>\n",
       "      <td>4650.0</td>\n",
       "      <td>0.000027</td>\n",
       "    </tr>\n",
       "    <tr>\n",
       "      <th>46</th>\n",
       "      <td>4750.0</td>\n",
       "      <td>0.000007</td>\n",
       "    </tr>\n",
       "    <tr>\n",
       "      <th>47</th>\n",
       "      <td>4850.0</td>\n",
       "      <td>0.000004</td>\n",
       "    </tr>\n",
       "    <tr>\n",
       "      <th>48</th>\n",
       "      <td>4950.0</td>\n",
       "      <td>0.000002</td>\n",
       "    </tr>\n",
       "  </tbody>\n",
       "</table>\n",
       "</div>"
      ],
      "text/plain": [
       "    5.000000000000000000e+01  5.602253996834716081e-03\n",
       "0                      150.0                  0.005645\n",
       "1                      250.0                  0.004883\n",
       "2                      350.0                  0.005043\n",
       "3                      450.0                  0.004555\n",
       "4                      550.0                  0.004503\n",
       "5                      650.0                  0.004574\n",
       "6                      750.0                  0.004287\n",
       "7                      850.0                  0.004072\n",
       "8                      950.0                  0.004113\n",
       "9                     1050.0                  0.004185\n",
       "10                    1150.0                  0.003708\n",
       "11                    1250.0                  0.003625\n",
       "12                    1350.0                  0.003472\n",
       "13                    1450.0                  0.003513\n",
       "14                    1550.0                  0.003290\n",
       "15                    1650.0                  0.003145\n",
       "16                    1750.0                  0.003000\n",
       "17                    1850.0                  0.002856\n",
       "18                    1950.0                  0.002749\n",
       "19                    2050.0                  0.002588\n",
       "20                    2150.0                  0.002464\n",
       "21                    2250.0                  0.002333\n",
       "22                    2350.0                  0.002213\n",
       "23                    2450.0                  0.002137\n",
       "24                    2550.0                  0.002034\n",
       "25                    2650.0                  0.001863\n",
       "26                    2750.0                  0.001794\n",
       "27                    2850.0                  0.001592\n",
       "28                    2950.0                  0.001535\n",
       "29                    3050.0                  0.001445\n",
       "30                    3150.0                  0.001359\n",
       "31                    3250.0                  0.001241\n",
       "32                    3350.0                  0.001103\n",
       "33                    3450.0                  0.000972\n",
       "34                    3550.0                  0.000855\n",
       "35                    3650.0                  0.000740\n",
       "36                    3750.0                  0.000651\n",
       "37                    3850.0                  0.000558\n",
       "38                    3950.0                  0.000466\n",
       "39                    4050.0                  0.000393\n",
       "40                    4150.0                  0.000290\n",
       "41                    4250.0                  0.000221\n",
       "42                    4350.0                  0.000177\n",
       "43                    4450.0                  0.000108\n",
       "44                    4550.0                  0.000063\n",
       "45                    4650.0                  0.000027\n",
       "46                    4750.0                  0.000007\n",
       "47                    4850.0                  0.000004\n",
       "48                    4950.0                  0.000002"
      ]
     },
     "execution_count": 6,
     "metadata": {},
     "output_type": "execute_result"
    }
   ],
   "source": [
    "df"
   ]
  },
  {
   "cell_type": "code",
   "execution_count": 9,
   "metadata": {},
   "outputs": [
    {
     "data": {
      "text/plain": [
       "[<matplotlib.lines.Line2D at 0xa2d3c50>]"
      ]
     },
     "execution_count": 9,
     "metadata": {},
     "output_type": "execute_result"
    },
    {
     "data": {
      "image/png": "[encoded data removed]",
      "text/plain": [
       "<matplotlib.figure.Figure at 0xa26e870>"
      ]
     },
     "metadata": {},
     "output_type": "display_data"
    }
   ],
   "source": [
    "%matplotlib inline\n",
    "x = df.iloc[:,[0]]\n",
    "y = df.iloc[:,[1]]\n",
    "import matplotlib.pyplot as plt\n",
    "plt.plot(x,y)"
   ]
  },
  {
   "cell_type": "code",
   "execution_count": 39,
   "metadata": {},
   "outputs": [
    {
     "data": {
      "text/plain": [
       "array([   10.        ,    16.68100537,    27.82559402,    46.41588834,\n",
       "          77.42636827,   129.1549665 ,   215.443469  ,   359.38136638,\n",
       "         599.48425032,  1000.        ])"
      ]
     },
     "execution_count": 39,
     "metadata": {},
     "output_type": "execute_result"
    }
   ],
   "source": [
    "np.logspace(1,3,10)"
   ]
  },
  {
   "cell_type": "code",
   "execution_count": null,
   "metadata": {
    "collapsed": true
   },
   "outputs": [],
   "source": []
  }
 ],
 "metadata": {
  "kernelspec": {
   "display_name": "Python 3",
   "language": "python",
   "name": "python3"
  },
  "language_info": {
   "codemirror_mode": {
    "name": "ipython",
    "version": 3
   },
   "file_extension": ".py",
   "mimetype": "text/x-python",
   "name": "python",
   "nbconvert_exporter": "python",
   "pygments_lexer": "ipython3",
   "version": "3.6.2"
  },
  "latex_envs": {
   "LaTeX_envs_menu_present": true,
   "autocomplete": true,
   "bibliofile": "biblio.bib",
   "cite_by": "apalike",
   "current_citInitial": 1,
   "eqLabelWithNumbers": true,
   "eqNumInitial": 1,
   "hotkeys": {
    "equation": "Ctrl-E",
    "itemize": "Ctrl-I"
   },
   "labels_anchors": false,
   "latex_user_defs": false,
   "report_style_numbering": false,
   "user_envs_cfg": false
  },
  "toc": {
   "nav_menu": {},
   "number_sections": true,
   "sideBar": false,
   "skip_h1_title": false,
   "title_cell": "Table of Contents",
   "title_sidebar": "Contents",
   "toc_cell": false,
   "toc_position": {
    "height": "470px",
    "left": "980px",
    "top": "129.301px",
    "width": "241px"
   },
   "toc_section_display": true,
   "toc_window_display": true
  }
 },
 "nbformat": 4,
 "nbformat_minor": 2
}
