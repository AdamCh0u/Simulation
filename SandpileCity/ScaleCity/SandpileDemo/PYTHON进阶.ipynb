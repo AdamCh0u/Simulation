{
 "cells": [
  {
   "cell_type": "markdown",
   "metadata": {},
   "source": [
    "# PYTHON进阶"
   ]
  },
  {
   "cell_type": "markdown",
   "metadata": {},
   "source": [
    "## PYTHON迭代"
   ]
  },
  {
   "cell_type": "markdown",
   "metadata": {},
   "source": [
    "### 生成器\n",
    "\n",
    "列表生成器产生的列表很占用内存空间，我们每次在计算使用的时候都是对单个元素进行操作，这样其它元素占用的空间就白白浪费了。\n",
    "\n",
    "生成器是一种可以自动推算下一个计算元素的容器\n",
    "\n",
    "创建生成器最简单的方法就是用圆括号()代替方括号 []\n",
    "\n",
    "generator 是一种惰性计算，使用后就被删除"
   ]
  },
  {
   "cell_type": "code",
   "execution_count": 6,
   "metadata": {
    "collapsed": true
   },
   "outputs": [],
   "source": [
    "g = (x * x for x in range(10))"
   ]
  },
  {
   "cell_type": "code",
   "execution_count": 3,
   "metadata": {},
   "outputs": [
    {
     "data": {
      "text/plain": [
       "<generator object <genexpr> at 0x059BE7B0>"
      ]
     },
     "execution_count": 3,
     "metadata": {},
     "output_type": "execute_result"
    }
   ],
   "source": [
    "g"
   ]
  },
  {
   "cell_type": "markdown",
   "metadata": {},
   "source": [
    "使用生成器的元素也很简单，直接循环打印出即可"
   ]
  },
  {
   "cell_type": "code",
   "execution_count": 4,
   "metadata": {},
   "outputs": [
    {
     "name": "stdout",
     "output_type": "stream",
     "text": [
      "0\n",
      "1\n",
      "4\n",
      "9\n",
      "16\n",
      "25\n",
      "36\n",
      "49\n",
      "64\n",
      "81\n"
     ]
    }
   ],
   "source": [
    "for i in g:\n",
    "    print(i)"
   ]
  },
  {
   "cell_type": "code",
   "execution_count": 9,
   "metadata": {},
   "outputs": [
    {
     "data": {
      "text/plain": [
       "<generator object <genexpr> at 0x0000021CC4DDF780>"
      ]
     },
     "execution_count": 9,
     "metadata": {},
     "output_type": "execute_result"
    }
   ],
   "source": [
    "g"
   ]
  },
  {
   "cell_type": "markdown",
   "metadata": {},
   "source": [
    "也可以调用Next函数直到计算出最后一个元素位置,但是这种方法很明显不适用，并且最后会抛出StopIteration的错误。"
   ]
  },
  {
   "cell_type": "code",
   "execution_count": 8,
   "metadata": {},
   "outputs": [
    {
     "data": {
      "text/plain": [
       "1"
      ]
     },
     "execution_count": 8,
     "metadata": {},
     "output_type": "execute_result"
    }
   ],
   "source": [
    "next(g)"
   ]
  },
  {
   "cell_type": "markdown",
   "metadata": {},
   "source": [
    "著名的斐波拉契数列（Fibonacci），除第一个和第二个数外，任意一个数都可由前两个数相加得到：\n",
    "\n",
    "1, 1, 2, 3, 5, 8, 13, 21, 34, ...\n",
    "\n",
    "试着写出一个查找任意位置的斐波拉契数的函数"
   ]
  },
  {
   "cell_type": "code",
   "execution_count": 17,
   "metadata": {
    "collapsed": true
   },
   "outputs": [],
   "source": [
    "def fibonacci(position):\n",
    "    a = 1\n",
    "    b = 1\n",
    "    n = 2\n",
    "    if position == 1:\n",
    "        return a\n",
    "    elif position ==2:\n",
    "        return b\n",
    "    elif 2 < position:\n",
    "        while (n < position):\n",
    "            c = a + b\n",
    "            a = b\n",
    "            b = c\n",
    "            n = n + 1\n",
    "        return c\n",
    "    else:\n",
    "        return \"erro\"\n",
    "            "
   ]
  },
  {
   "cell_type": "code",
   "execution_count": 22,
   "metadata": {
    "collapsed": true,
    "solution2": "hidden"
   },
   "outputs": [],
   "source": [
    "def fib(n_position):\n",
    "    if n_position == 1:\n",
    "        return 1\n",
    "    if n_position == 2:\n",
    "        return 1\n",
    "    n = 2\n",
    "    a,b = 1,1\n",
    "    while( n < n_position):\n",
    "        c = a + b\n",
    "        a = b\n",
    "        b = c\n",
    "        n = n+1\n",
    "    return c"
   ]
  },
  {
   "cell_type": "code",
   "execution_count": 18,
   "metadata": {},
   "outputs": [
    {
     "data": {
      "text/plain": [
       "43466557686937456435688527675040625802564660517371780402481729089536555417949051890403879840079255169295922593080322634775209689623239873322471161642996440906533187938298969649928516003704476137795166849228875"
      ]
     },
     "execution_count": 18,
     "metadata": {},
     "output_type": "execute_result"
    }
   ],
   "source": [
    "fibonacci(1000)"
   ]
  },
  {
   "cell_type": "code",
   "execution_count": 17,
   "metadata": {
    "collapsed": true
   },
   "outputs": [],
   "source": [
    "def fib(n_position):\n",
    "    if n_position == 1:\n",
    "        return 1\n",
    "    if n_position == 2:\n",
    "        return 1\n",
    "    n = 2\n",
    "    a,b = 1,1\n",
    "    while( n < n_position):\n",
    "        c = a + b\n",
    "        a = b\n",
    "        b = c\n",
    "        yield c # 生成器\n",
    "        n = n+1\n",
    "    return c"
   ]
  },
  {
   "cell_type": "code",
   "execution_count": 20,
   "metadata": {},
   "outputs": [
    {
     "data": {
      "text/plain": [
       "<generator object fib at 0x0000021CC4E52780>"
      ]
     },
     "execution_count": 20,
     "metadata": {},
     "output_type": "execute_result"
    }
   ],
   "source": [
    "fib(1000)"
   ]
  },
  {
   "cell_type": "markdown",
   "metadata": {},
   "source": [
    "yield??????"
   ]
  },
  {
   "cell_type": "markdown",
   "metadata": {},
   "source": [
    "### 迭代器\n",
    "可用于for循环的对象统称为可迭代对象：Iterable。包括之前学的list,tuple等数据结构以及生成器。 但是生成器不仅可以被for循环调用，\n",
    "还可以使用next函数获取元素，可以被next()函数调用并不断返回下一个值的对象称为迭代器：Iterator。\n",
    "\n",
    "生成器都是Iterator对象，但list、dict、str虽然是Iterable，却不是Iterator\n",
    "\n",
    "isinstance判断数据类型"
   ]
  },
  {
   "cell_type": "code",
   "execution_count": 35,
   "metadata": {},
   "outputs": [
    {
     "data": {
      "text/plain": [
       "True"
      ]
     },
     "execution_count": 35,
     "metadata": {},
     "output_type": "execute_result"
    }
   ],
   "source": [
    "# 使用instance判断类型\n",
    "from collections import Iterable,Iterator\n",
    "a = [1,2,3,4]\n",
    "#isinstance(a,Iterable)\n",
    "isinstance(g,Iterator)"
   ]
  },
  {
   "cell_type": "markdown",
   "metadata": {},
   "source": [
    "### 函数式编程"
   ]
  },
  {
   "cell_type": "markdown",
   "metadata": {},
   "source": [
    "函数式语言   动态语言"
   ]
  },
  {
   "cell_type": "markdown",
   "metadata": {},
   "source": [
    "### 高阶函数\n",
    "\n",
    "变量可以指向函数"
   ]
  },
  {
   "cell_type": "code",
   "execution_count": 27,
   "metadata": {},
   "outputs": [
    {
     "data": {
      "text/plain": [
       "4"
      ]
     },
     "execution_count": 27,
     "metadata": {},
     "output_type": "execute_result"
    }
   ],
   "source": [
    "# 使用内置函数 \n",
    "len([1,2,3,4])"
   ]
  },
  {
   "cell_type": "code",
   "execution_count": 29,
   "metadata": {},
   "outputs": [
    {
     "data": {
      "text/plain": [
       "<function len>"
      ]
     },
     "execution_count": 29,
     "metadata": {},
     "output_type": "execute_result"
    }
   ],
   "source": [
    "# 查看一下 len 是什么？结果显示他是函数本身\n",
    "len"
   ]
  },
  {
   "cell_type": "code",
   "execution_count": 31,
   "metadata": {},
   "outputs": [
    {
     "data": {
      "text/plain": [
       "4"
      ]
     },
     "execution_count": 31,
     "metadata": {},
     "output_type": "execute_result"
    }
   ],
   "source": [
    "# 我们可以把函数本身赋值给变量\n",
    "x = len\n",
    "x([1,2,3,4])"
   ]
  },
  {
   "cell_type": "code",
   "execution_count": 32,
   "metadata": {},
   "outputs": [
    {
     "data": {
      "text/plain": [
       "<function len>"
      ]
     },
     "execution_count": 32,
     "metadata": {},
     "output_type": "execute_result"
    }
   ],
   "source": [
    "x"
   ]
  },
  {
   "cell_type": "markdown",
   "metadata": {},
   "source": [
    "函数名也是变量！！！！！！\n",
    "\n",
    "函数名就是就是指向函数的变量，对于len()这个函数来说，我们可以把len看做是变量"
   ]
  },
  {
   "cell_type": "markdown",
   "metadata": {},
   "source": [
    "传入函数\n",
    "\n",
    "既然变量可以指向函数，函数可以接受变量，那么一个函数就可以接受另一个函数作为传入参数"
   ]
  },
  {
   "cell_type": "code",
   "execution_count": 33,
   "metadata": {},
   "outputs": [
    {
     "data": {
      "text/plain": [
       "9"
      ]
     },
     "execution_count": 33,
     "metadata": {},
     "output_type": "execute_result"
    }
   ],
   "source": [
    "def add(x,y,z):\n",
    "    return z(x) + z(y)\n",
    "add([1,2,3,4],[4,3,1,5,6],len)"
   ]
  },
  {
   "cell_type": "markdown",
   "metadata": {},
   "source": [
    "### map/reduce\n",
    "\n",
    "map接受两个参数，一个是函数，一个是Iterable，函数作用在序列的每一个元素上，并把结果作为Iterable返回\n",
    "\n",
    "reduce也是把函数作用与序列上，但是这个函数必须接受两个参数，reduce把计算结果继续与下一个元素做累积计算  \n",
    "\n",
    "????????????????????????????  \n",
    "reduce 3.X不是内置函数"
   ]
  },
  {
   "cell_type": "code",
   "execution_count": 13,
   "metadata": {
    "collapsed": true
   },
   "outputs": [],
   "source": [
    "# 对下面的序列元素与自身相乘\n",
    "# x = [1,2,3,4,5,6,7,8,9,10]"
   ]
  },
  {
   "cell_type": "code",
   "execution_count": 36,
   "metadata": {},
   "outputs": [
    {
     "data": {
      "text/plain": [
       "False"
      ]
     },
     "execution_count": 36,
     "metadata": {},
     "output_type": "execute_result"
    }
   ],
   "source": [
    "x = [1,2,3,4,5,6,7,8,9,10]\n",
    "def mul(x):\n",
    "    return x*x\n",
    "isinstance(map,Iterator)"
   ]
  },
  {
   "cell_type": "code",
   "execution_count": 37,
   "metadata": {},
   "outputs": [
    {
     "data": {
      "text/plain": [
       "[1, 4, 9, 16, 25, 36, 49, 64, 81, 100]"
      ]
     },
     "execution_count": 37,
     "metadata": {},
     "output_type": "execute_result"
    }
   ],
   "source": [
    " x = [1,2,3,4,5,6,7,8,9,10]\n",
    "\n",
    "list(map(lambda s : s*s,x))"
   ]
  },
  {
   "cell_type": "code",
   "execution_count": 42,
   "metadata": {},
   "outputs": [
    {
     "data": {
      "text/plain": [
       "3628800"
      ]
     },
     "execution_count": 42,
     "metadata": {},
     "output_type": "execute_result"
    }
   ],
   "source": [
    "from functools import reduce\n",
    "\n",
    "reduce(lambda a,b: a*b,x)"
   ]
  },
  {
   "cell_type": "markdown",
   "metadata": {},
   "source": [
    "### filter函数\n",
    "filter也是把函数作用在序列元素上，但是该函数返回的结果必须是布尔型，filter根据true或者false进行元素的保留和删除"
   ]
  },
  {
   "cell_type": "raw",
   "metadata": {
    "collapsed": true
   },
   "source": [
    "# 对下列数据只保留能被2整除的数\n",
    "# x = [1,3,6,7,2,19,20,33,29,10,49]"
   ]
  },
  {
   "cell_type": "code",
   "execution_count": 45,
   "metadata": {},
   "outputs": [
    {
     "data": {
      "text/plain": [
       "[3, 6, 2, 20, 33, 10]"
      ]
     },
     "execution_count": 45,
     "metadata": {},
     "output_type": "execute_result"
    }
   ],
   "source": [
    "x = [1,3,6,7,2,19,20,33,29,10,49]\n",
    "list(filter(lambda s : s % 2 ==0 or s%3==0,x))"
   ]
  },
  {
   "cell_type": "markdown",
   "metadata": {},
   "source": [
    "### 匿名函数 Lambda\n",
    "我们可以不用显示的定义函数名，因此可以使用匿名函数。匿名函数也可以被一个变量保存，也可以不保存直接使用。\n"
   ]
  },
  {
   "cell_type": "code",
   "execution_count": 46,
   "metadata": {},
   "outputs": [
    {
     "data": {
      "text/plain": [
       "<map at 0x21cc4e6ff28>"
      ]
     },
     "execution_count": 46,
     "metadata": {},
     "output_type": "execute_result"
    }
   ],
   "source": [
    "f = lambda s : s*2\n",
    "x = [1,2,3,4]\n",
    "map(f,x)"
   ]
  },
  {
   "cell_type": "code",
   "execution_count": 47,
   "metadata": {},
   "outputs": [
    {
     "data": {
      "text/plain": [
       "[3, 6, 33]"
      ]
     },
     "execution_count": 47,
     "metadata": {},
     "output_type": "execute_result"
    }
   ],
   "source": [
    "x = [1,3,6,7,2,19,20,33,29,10,49]\n",
    "list(filter(lambda s : s%3 == 0,x))"
   ]
  },
  {
   "cell_type": "code",
   "execution_count": 16,
   "metadata": {},
   "outputs": [
    {
     "data": {
      "text/plain": [
       "[1, 4, 9, 16, 25, 36, 49, 64, 81, 100]"
      ]
     },
     "execution_count": 16,
     "metadata": {},
     "output_type": "execute_result"
    }
   ],
   "source": [
    "x = [1,2,3,4,5,6,7,8,9,10]\n",
    "def mul_x(x):\n",
    "    return x*x\n",
    "list(map(mul_x,x))"
   ]
  },
  {
   "cell_type": "code",
   "execution_count": 15,
   "metadata": {},
   "outputs": [
    {
     "data": {
      "text/plain": [
       "[1, 4, 9, 16, 25, 36, 49, 64, 81, 100]"
      ]
     },
     "execution_count": 15,
     "metadata": {},
     "output_type": "execute_result"
    }
   ],
   "source": [
    "list(map(lambda s : s*s,x))"
   ]
  },
  {
   "cell_type": "markdown",
   "metadata": {},
   "source": [
    "## 面向对象\n",
    "\n",
    "PYTHON是一门面向对象的语言。类(class)是一种抽象的模板，实例(Instance)是根据类创建出来的具体对象，每个对象都有相同的方法，只不过传入的数据可能不同。\n",
    "\n",
    "类里面一般包含属性和方法，你可以简单理解为属性为静态，方法是动态的。比如人(PERSON)这个类，嘴、手、腿就是类的属性，跑步、吃饭等就是类的方法。"
   ]
  },
  {
   "cell_type": "markdown",
   "metadata": {},
   "source": [
    "我们可以把在创建实例时我们认为必须绑定的属性强制填写进去，这里通过 **\\__init\\__** 方法完成。**\\__init\\__** 方法的第一个参数永远是self,代表了实例本身。有了该方法之后，在创建的实例的时候必须强制指定属性值，否则会报错。该方法也可以理解为初始化的一个动作，在创建实例的时候初始化该实例的一些属性！"
   ]
  },
  {
   "cell_type": "code",
   "execution_count": 41,
   "metadata": {},
   "outputs": [
    {
     "name": "stdout",
     "output_type": "stream",
     "text": [
      "1020202\n"
     ]
    }
   ],
   "source": [
    "# 创建一个简单的学生（Student）类\n",
    "\n",
    "\n",
    "class Student:\n",
    "    def __init__(self,id,address,score):\n",
    "        self.id = id \n",
    "        self.address = address\n",
    "        self.score = score\n",
    "    \n",
    "    def getId(self):\n",
    "        print(self.id)\n",
    "\n",
    "# 创建实例\n",
    "student = Student(1020202,\"北京\",98)\n",
    "student.getId()"
   ]
  },
  {
   "cell_type": "code",
   "execution_count": 43,
   "metadata": {},
   "outputs": [
    {
     "name": "stdout",
     "output_type": "stream",
     "text": [
      "Student: 12324\n"
     ]
    },
    {
     "data": {
      "text/plain": [
       "'年轻人'"
      ]
     },
     "execution_count": 43,
     "metadata": {},
     "output_type": "execute_result"
    }
   ],
   "source": [
    "class Student:\n",
    "    \n",
    "    kind = \"Chinese\" # Shared by all instances#全局变量\n",
    "    \n",
    "    def __init__(self,id,address,score):#强制绑定的参数\n",
    "        self.id = id \n",
    "        self.address = address\n",
    "        self.score = score\n",
    "    \n",
    "    def getId(self):\n",
    "        print(self.id)\n",
    "        \n",
    "    def judge_age(self,age):#age不是强制绑定的参数，局部变量\n",
    "        if age < 18:\n",
    "            return \"未成年\"\n",
    "        elif age < 30:\n",
    "            print(\"Student: {0}\".format(self.id))\n",
    "            return \"年轻人\"\n",
    "        elif age < 60:\n",
    "            return \"中年人\"\n",
    "        else:\n",
    "            return \"老年人\"\n",
    "        \n",
    "S1 = Student(12324,\"上海市\",100)\n",
    "S1.kind#全局变量，可以被所有创建的实例使用\n",
    "S1.judge_age(22)"
   ]
  },
  {
   "cell_type": "markdown",
   "metadata": {},
   "source": [
    "### 继承和多态\n",
    "\n",
    "面向对象编程语言连都会有继承的概念，我们可以定义一个class类，然后再定义它的子类,这个子类继承了上面的类，被继承的类称作父类"
   ]
  },
  {
   "cell_type": "code",
   "execution_count": 4,
   "metadata": {
    "collapsed": true
   },
   "outputs": [],
   "source": [
    "class Student():#默认继承object类\n",
    "    \n",
    "    def __init__(self,name,id):\n",
    "        self.name = name\n",
    "        self.id = id\n",
    "    \n",
    "    def student(self):\n",
    "        print(\"Student score!\")\n",
    "        \n",
    "    def get_name_id(self):\n",
    "        print(self.name +\":\" +self.id)\n",
    "\n"
   ]
  },
  {
   "cell_type": "code",
   "execution_count": 5,
   "metadata": {
    "collapsed": true
   },
   "outputs": [],
   "source": [
    "class HighSchool(Student):\n",
    "    pass"
   ]
  },
  {
   "cell_type": "markdown",
   "metadata": {},
   "source": [
    "Highschool类集成了Student类，student类就是父类。\n",
    "\n",
    "继承的好处就是子类可以享用父类的全部方法和属性。虽然HighSchool什么也没定义，但是可以直接使用Student的方法"
   ]
  },
  {
   "cell_type": "code",
   "execution_count": 12,
   "metadata": {},
   "outputs": [
    {
     "name": "stdout",
     "output_type": "stream",
     "text": [
      "Student score!\n"
     ]
    }
   ],
   "source": [
    "hs = HighSchool(\"xiao\",\"1234\")\n",
    "hs.student()"
   ]
  },
  {
   "cell_type": "code",
   "execution_count": 13,
   "metadata": {},
   "outputs": [
    {
     "name": "stdout",
     "output_type": "stream",
     "text": [
      "xiao:1234\n"
     ]
    }
   ],
   "source": [
    "hs.get_name_id()"
   ]
  },
  {
   "cell_type": "code",
   "execution_count": 11,
   "metadata": {},
   "outputs": [
    {
     "data": {
      "text/plain": [
       "'xiao'"
      ]
     },
     "execution_count": 11,
     "metadata": {},
     "output_type": "execute_result"
    }
   ],
   "source": []
  },
  {
   "cell_type": "markdown",
   "metadata": {},
   "source": [
    "子类也可以有自己的初始化方法，属性方法为某一类特定而制  \n",
    "初始化参数超过父类，一定要初始化父类\n",
    "\n",
    "子类也可以由自己的初始化方法，一定要用 super().__init__(name, id) 去初始化父类\n",
    "\n",
    "函数super()将返回当前类继承的父类，即 Student ，然后调用__init__()方法.\n",
    "\n",
    "3.06 4：00"
   ]
  },
  {
   "cell_type": "code",
   "execution_count": 45,
   "metadata": {
    "collapsed": true
   },
   "outputs": [],
   "source": [
    "class Student():\n",
    "    \n",
    "    def __init__(self,name,id):\n",
    "        self.name = name\n",
    "        self.id = id\n",
    "    \n",
    "    def student(self):\n",
    "        print(\"Student score!\")\n",
    "        \n",
    "    def get_name_id(self):\n",
    "        print(self.name +\":\" +self.id)\n",
    "\n",
    "\n",
    "class HighSchool(Student):\n",
    "    \n",
    "    def __init__(self,name,id,score):\n",
    "        super().__init__(name,id)#当前name id 来自于父类\n",
    "        self.score=score\n",
    "    pass"
   ]
  },
  {
   "cell_type": "code",
   "execution_count": 46,
   "metadata": {},
   "outputs": [
    {
     "name": "stdout",
     "output_type": "stream",
     "text": [
      "xiaoming:1234\n"
     ]
    }
   ],
   "source": [
    "hs = HighSchool(\"xiaoming\",\"1234\",100)\n",
    "hs.get_name_id()"
   ]
  },
  {
   "cell_type": "code",
   "execution_count": 53,
   "metadata": {
    "collapsed": true
   },
   "outputs": [],
   "source": [
    "class Student():\n",
    "    \n",
    "    def __init__(self,name,id):\n",
    "        self.name = name\n",
    "        self.id = id\n",
    "    \n",
    "    def student(self):\n",
    "        print(\"Student score!\")\n",
    "        \n",
    "    def get_name_id(self):\n",
    "        print(self.name +\":\" +self.id)\n",
    " \n",
    "\n",
    "class HighSchool(Student):\n",
    "    \n",
    "    def __init__(self,name,id,score):\n",
    "        super().__init__(name,id)\n",
    "        self.score=score\n",
    "    def get_name_id(self):#在子类中创建了新的方法\n",
    "        print(self.name +\":\" +self.id + \":\" + str(self.score))"
   ]
  },
  {
   "cell_type": "code",
   "execution_count": 71,
   "metadata": {},
   "outputs": [
    {
     "name": "stdout",
     "output_type": "stream",
     "text": [
      "xiaoming:1234:100\n"
     ]
    }
   ],
   "source": [
    "hs = HighSchool(\"xiaoming\",\"1234\",100)\n",
    "hs.get_name_id()"
   ]
  },
  {
   "cell_type": "raw",
   "metadata": {},
   "source": [
    "在子类创建了与父类一样的方法\n",
    "多态：方法的重写与覆盖\n",
    "让子类的方法覆盖掉父类的方法"
   ]
  },
  {
   "cell_type": "code",
   "execution_count": 54,
   "metadata": {},
   "outputs": [
    {
     "name": "stdout",
     "output_type": "stream",
     "text": [
      "xiaoming:1234\n"
     ]
    }
   ],
   "source": [
    "hs = Student(\"xiaoming\",\"1234\")\n",
    "hs.get_name_id()"
   ]
  },
  {
   "cell_type": "markdown",
   "metadata": {},
   "source": [
    "## Collections类"
   ]
  },
  {
   "cell_type": "markdown",
   "metadata": {},
   "source": [
    "### deque\n",
    "**deque** 和list的用法比较类似，它是队列与栈的实现，可以对序列数据进行两端的操作。deque支持在O(1)的时间复杂度上对序列进行两端的append或者pop。list也可以实现同样的操作，但是它的复杂度是O(N)"
   ]
  },
  {
   "cell_type": "code",
   "execution_count": 74,
   "metadata": {},
   "outputs": [
    {
     "data": {
      "text/plain": [
       "'e'"
      ]
     },
     "execution_count": 74,
     "metadata": {},
     "output_type": "execute_result"
    }
   ],
   "source": [
    "# 类似于列表实现\n",
    "from collections import deque\n",
    "a = deque(['a','b','c','d'])\n",
    "\n",
    "a.append(\"e\")\n",
    "# a\n",
    "a.pop()"
   ]
  },
  {
   "cell_type": "code",
   "execution_count": 79,
   "metadata": {},
   "outputs": [
    {
     "data": {
      "text/plain": [
       "deque(['a', 'b', 'c', 'd'])"
      ]
     },
     "execution_count": 79,
     "metadata": {},
     "output_type": "execute_result"
    }
   ],
   "source": [
    "a"
   ]
  },
  {
   "cell_type": "code",
   "execution_count": 78,
   "metadata": {
    "collapsed": true
   },
   "outputs": [],
   "source": [
    "# 两端操作\n",
    "#a.popleft()\n",
    "a.appendleft(\"a\")"
   ]
  },
  {
   "cell_type": "code",
   "execution_count": 7,
   "metadata": {},
   "outputs": [
    {
     "data": {
      "text/plain": [
       "deque(['d', 'e', 'a', 'b', 'c'])"
      ]
     },
     "execution_count": 7,
     "metadata": {},
     "output_type": "execute_result"
    }
   ],
   "source": [
    "# 翻转\n",
    "a.rotate()\n",
    "a"
   ]
  },
  {
   "cell_type": "code",
   "execution_count": 81,
   "metadata": {
    "collapsed": true
   },
   "outputs": [],
   "source": [
    "# 比较 List 与 deque\n",
    "list_a = [x for x in range(1,1000000)]\n",
    "deque_a = deque(list_a)\n"
   ]
  },
  {
   "cell_type": "code",
   "execution_count": 84,
   "metadata": {},
   "outputs": [
    {
     "name": "stdout",
     "output_type": "stream",
     "text": [
      "The slowest run took 14.78 times longer than the fastest. This could mean that an intermediate result is being cached.\n",
      "10000000 loops, best of 3: 81.3 ns per loop\n"
     ]
    }
   ],
   "source": [
    "#%timeit list_a.append(100)\n",
    "%timeit list_a.pop()"
   ]
  },
  {
   "cell_type": "code",
   "execution_count": 85,
   "metadata": {},
   "outputs": [
    {
     "name": "stdout",
     "output_type": "stream",
     "text": [
      "The slowest run took 20.06 times longer than the fastest. This could mean that an intermediate result is being cached.\n",
      "10000000 loops, best of 3: 59.9 ns per loop\n"
     ]
    }
   ],
   "source": [
    "#%timeit deque_a.append(100)\n",
    "%timeit deque_a.pop()"
   ]
  },
  {
   "cell_type": "code",
   "execution_count": 86,
   "metadata": {},
   "outputs": [
    {
     "name": "stdout",
     "output_type": "stream",
     "text": [
      "1000 loops, best of 3: 923 µs per loop\n"
     ]
    }
   ],
   "source": [
    "%timeit list_a.insert(0,\"a\") #923 * 1000"
   ]
  },
  {
   "cell_type": "code",
   "execution_count": 87,
   "metadata": {},
   "outputs": [
    {
     "name": "stdout",
     "output_type": "stream",
     "text": [
      "The slowest run took 23.79 times longer than the fastest. This could mean that an intermediate result is being cached.\n",
      "10000000 loops, best of 3: 63.2 ns per loop\n"
     ]
    }
   ],
   "source": [
    "%timeit deque_a.appendleft(\"a\")"
   ]
  },
  {
   "cell_type": "markdown",
   "metadata": {},
   "source": [
    "### counter\n",
    "A Counter is a dict subclass for counting hashable objects. It is an unordered collection where elements are stored as dictionary keys and their counts are stored as dictionary values. Counts are allowed to be any integer value including zero or negative counts.  \n",
    "\n",
    "字典的子类\n",
    "  \n",
    "返回字典，k为计算的字母，v为频次\n",
    "\n",
    "无序"
   ]
  },
  {
   "cell_type": "code",
   "execution_count": 58,
   "metadata": {
    "collapsed": true
   },
   "outputs": [],
   "source": [
    "from collections import Counter\n",
    "a = list('absgctsgabfxtdrafabstxrsg')\n",
    "c = Counter(a)"
   ]
  },
  {
   "cell_type": "code",
   "execution_count": 10,
   "metadata": {},
   "outputs": [
    {
     "data": {
      "text/plain": [
       "Counter({'a': 4,\n",
       "         'b': 3,\n",
       "         'c': 1,\n",
       "         'd': 1,\n",
       "         'f': 2,\n",
       "         'g': 3,\n",
       "         'r': 2,\n",
       "         's': 4,\n",
       "         't': 3,\n",
       "         'x': 2})"
      ]
     },
     "execution_count": 10,
     "metadata": {},
     "output_type": "execute_result"
    }
   ],
   "source": [
    "c"
   ]
  },
  {
   "cell_type": "code",
   "execution_count": 11,
   "metadata": {},
   "outputs": [
    {
     "data": {
      "text/plain": [
       "[('s', 4), ('a', 4), ('g', 3), ('t', 3), ('b', 3)]"
      ]
     },
     "execution_count": 11,
     "metadata": {},
     "output_type": "execute_result"
    }
   ],
   "source": [
    "# 查看TOP N的元素\n",
    "c.most_common(5)"
   ]
  },
  {
   "cell_type": "code",
   "execution_count": 59,
   "metadata": {
    "collapsed": true
   },
   "outputs": [],
   "source": [
    "?Counter#帮助函数"
   ]
  },
  {
   "cell_type": "markdown",
   "metadata": {
    "collapsed": true
   },
   "source": [
    "### orderdict"
   ]
  },
  {
   "cell_type": "code",
   "execution_count": 16,
   "metadata": {},
   "outputs": [
    {
     "data": {
      "text/plain": [
       "OrderedDict([('pear', 1), ('apple', 4), ('orange', 2), ('banana', 3)])"
      ]
     },
     "execution_count": 16,
     "metadata": {},
     "output_type": "execute_result"
    }
   ],
   "source": [
    "from collections import OrderedDict\n",
    "# regular unsorted dictionary\n",
    "d = {'banana': 3, 'apple': 4, 'pear': 1, 'orange': 2}\n",
    "\n",
    "# dictionary sorted by key\n",
    "OrderedDict(sorted(d.items(), key=lambda t: t[0]))  #sorted(对象，key)??\n",
    "\n",
    "# # dictionary sorted by value\n",
    "OrderedDict(sorted(d.items(), key=lambda t: t[1]))\n",
    "\n",
    "# # dictionary sorted by length of the key string\n",
    "OrderedDict(sorted(d.items(), key=lambda t: len(t[0])))"
   ]
  },
  {
   "cell_type": "markdown",
   "metadata": {},
   "source": [
    "后进先出 堆叠问题 放书  \n",
    "先进先出 排队问题 子弹"
   ]
  },
  {
   "cell_type": "code",
   "execution_count": 21,
   "metadata": {},
   "outputs": [
    {
     "data": {
      "text/plain": [
       "('apple', 4)"
      ]
     },
     "execution_count": 21,
     "metadata": {},
     "output_type": "execute_result"
    }
   ],
   "source": [
    "od = OrderedDict(sorted(d.items(), key=lambda t: t[0]))\n",
    "\n",
    "od.popitem(last = False)"
   ]
  },
  {
   "cell_type": "code",
   "execution_count": 18,
   "metadata": {},
   "outputs": [
    {
     "data": {
      "text/plain": [
       "OrderedDict([('apple', 4), ('banana', 3), ('orange', 2), ('pear', 1)])"
      ]
     },
     "execution_count": 18,
     "metadata": {},
     "output_type": "execute_result"
    }
   ],
   "source": [
    "od"
   ]
  },
  {
   "cell_type": "markdown",
   "metadata": {},
   "source": [
    "## 字符串处理"
   ]
  },
  {
   "cell_type": "markdown",
   "metadata": {},
   "source": [
    "### 常用处理方法"
   ]
  },
  {
   "cell_type": "code",
   "execution_count": 2,
   "metadata": {
    "collapsed": true
   },
   "outputs": [],
   "source": [
    "s = \" Hello, World \""
   ]
  },
  {
   "cell_type": "code",
   "execution_count": 24,
   "metadata": {},
   "outputs": [
    {
     "data": {
      "text/plain": [
       "'Hello, World'"
      ]
     },
     "execution_count": 24,
     "metadata": {},
     "output_type": "execute_result"
    }
   ],
   "source": [
    "s.strip() #Return a copy of the string S with leading and trailing whitespace removed\n",
    "# s.lstrip()\n",
    "# s.rstrip()"
   ]
  },
  {
   "cell_type": "markdown",
   "metadata": {},
   "source": [
    "strip只能去掉首尾两端，右边的空格不易发现应提前去除"
   ]
  },
  {
   "cell_type": "markdown",
   "metadata": {},
   "source": [
    "s.find()\n",
    "\n",
    "返回索引位置，start和end即是从什么地方开始，到什么地方结束\n",
    "\n",
    "**Docstring:**\n",
    "\n",
    "S.find(sub[, start[, end]]) -> int\n",
    "\n",
    "Return the lowest index in S where substring sub is found,\n",
    "such that sub is contained within S[start:end].  Optional\n",
    "arguments start and end are interpreted as in slice notation."
   ]
  },
  {
   "cell_type": "code",
   "execution_count": 32,
   "metadata": {},
   "outputs": [
    {
     "data": {
      "text/plain": [
       "5"
      ]
     },
     "execution_count": 32,
     "metadata": {},
     "output_type": "execute_result"
    }
   ],
   "source": [
    "s.find(\"o\")#find返回第一次遇见子字符串的位置\n",
    "#s.find(\"he\")"
   ]
  },
  {
   "cell_type": "code",
   "execution_count": 28,
   "metadata": {},
   "outputs": [
    {
     "data": {
      "text/plain": [
       "-1"
      ]
     },
     "execution_count": 28,
     "metadata": {},
     "output_type": "execute_result"
    }
   ],
   "source": [
    "s.find(\"H\",2)#从第二位开始，返回-1表示没有"
   ]
  },
  {
   "cell_type": "code",
   "execution_count": 41,
   "metadata": {},
   "outputs": [
    {
     "data": {
      "text/plain": [
       "False"
      ]
     },
     "execution_count": 41,
     "metadata": {},
     "output_type": "execute_result"
    }
   ],
   "source": [
    "#s.startswith(\"H\",1)#从第1位开始，返回trueorfalse\n",
    "s.endswith(\"d\",)#不能用负数表达索引"
   ]
  },
  {
   "cell_type": "code",
   "execution_count": 42,
   "metadata": {},
   "outputs": [
    {
     "data": {
      "text/plain": [
       "' HELLO, WORLD '"
      ]
     },
     "execution_count": 42,
     "metadata": {},
     "output_type": "execute_result"
    }
   ],
   "source": [
    "s.lower()\n",
    "s.upper()"
   ]
  },
  {
   "cell_type": "code",
   "execution_count": 75,
   "metadata": {},
   "outputs": [
    {
     "data": {
      "text/plain": [
       "[' Hello', ' World ']"
      ]
     },
     "execution_count": 75,
     "metadata": {},
     "output_type": "execute_result"
    }
   ],
   "source": [
    "s.split(\",\")#根据分割符进行分割"
   ]
  },
  {
   "cell_type": "code",
   "execution_count": 45,
   "metadata": {},
   "outputs": [
    {
     "data": {
      "text/plain": [
       "['HELLO', 'WORLD']"
      ]
     },
     "execution_count": 45,
     "metadata": {},
     "output_type": "execute_result"
    }
   ],
   "source": [
    "list(map(lambda s : s.strip(),s.strip().upper().split(\",\")))"
   ]
  },
  {
   "cell_type": "code",
   "execution_count": 3,
   "metadata": {},
   "outputs": [
    {
     "data": {
      "text/plain": [
       "['HELLO', ' WORLD']"
      ]
     },
     "execution_count": 3,
     "metadata": {},
     "output_type": "execute_result"
    }
   ],
   "source": [
    "s.strip().upper().split(\",\")"
   ]
  },
  {
   "cell_type": "markdown",
   "metadata": {},
   "source": [
    "s.tab"
   ]
  },
  {
   "cell_type": "code",
   "execution_count": null,
   "metadata": {
    "collapsed": true
   },
   "outputs": [],
   "source": [
    "s."
   ]
  },
  {
   "cell_type": "markdown",
   "metadata": {},
   "source": [
    "### 格式化"
   ]
  },
  {
   "cell_type": "code",
   "execution_count": 46,
   "metadata": {},
   "outputs": [
    {
     "name": "stdout",
     "output_type": "stream",
     "text": [
      "这是我打印的第 0 个数字\n",
      "这是我打印的第 1 个数字\n",
      "这是我打印的第 2 个数字\n",
      "这是我打印的第 3 个数字\n",
      "这是我打印的第 4 个数字\n",
      "这是我打印的第 5 个数字\n",
      "这是我打印的第 6 个数字\n",
      "这是我打印的第 7 个数字\n",
      "这是我打印的第 8 个数字\n",
      "这是我打印的第 9 个数字\n",
      "这是我打印的第 10 个数字\n",
      "这是我打印的第 11 个数字\n",
      "这是我打印的第 12 个数字\n",
      "这是我打印的第 13 个数字\n",
      "这是我打印的第 14 个数字\n",
      "这是我打印的第 15 个数字\n",
      "这是我打印的第 16 个数字\n",
      "这是我打印的第 17 个数字\n",
      "这是我打印的第 18 个数字\n",
      "这是我打印的第 19 个数字\n",
      "这是我打印的第 20 个数字\n",
      "这是我打印的第 21 个数字\n",
      "这是我打印的第 22 个数字\n",
      "这是我打印的第 23 个数字\n",
      "这是我打印的第 24 个数字\n",
      "这是我打印的第 25 个数字\n",
      "这是我打印的第 26 个数字\n",
      "这是我打印的第 27 个数字\n",
      "这是我打印的第 28 个数字\n",
      "这是我打印的第 29 个数字\n",
      "这是我打印的第 30 个数字\n",
      "这是我打印的第 31 个数字\n",
      "这是我打印的第 32 个数字\n",
      "这是我打印的第 33 个数字\n",
      "这是我打印的第 34 个数字\n",
      "这是我打印的第 35 个数字\n",
      "这是我打印的第 36 个数字\n",
      "这是我打印的第 37 个数字\n",
      "这是我打印的第 38 个数字\n",
      "这是我打印的第 39 个数字\n",
      "这是我打印的第 40 个数字\n",
      "这是我打印的第 41 个数字\n",
      "这是我打印的第 42 个数字\n",
      "这是我打印的第 43 个数字\n",
      "这是我打印的第 44 个数字\n",
      "这是我打印的第 45 个数字\n",
      "这是我打印的第 46 个数字\n",
      "这是我打印的第 47 个数字\n",
      "这是我打印的第 48 个数字\n",
      "这是我打印的第 49 个数字\n",
      "这是我打印的第 50 个数字\n",
      "这是我打印的第 51 个数字\n",
      "这是我打印的第 52 个数字\n",
      "这是我打印的第 53 个数字\n",
      "这是我打印的第 54 个数字\n",
      "这是我打印的第 55 个数字\n",
      "这是我打印的第 56 个数字\n",
      "这是我打印的第 57 个数字\n",
      "这是我打印的第 58 个数字\n",
      "这是我打印的第 59 个数字\n",
      "这是我打印的第 60 个数字\n",
      "这是我打印的第 61 个数字\n",
      "这是我打印的第 62 个数字\n",
      "这是我打印的第 63 个数字\n",
      "这是我打印的第 64 个数字\n",
      "这是我打印的第 65 个数字\n",
      "这是我打印的第 66 个数字\n",
      "这是我打印的第 67 个数字\n",
      "这是我打印的第 68 个数字\n",
      "这是我打印的第 69 个数字\n",
      "这是我打印的第 70 个数字\n",
      "这是我打印的第 71 个数字\n",
      "这是我打印的第 72 个数字\n",
      "这是我打印的第 73 个数字\n",
      "这是我打印的第 74 个数字\n",
      "这是我打印的第 75 个数字\n",
      "这是我打印的第 76 个数字\n",
      "这是我打印的第 77 个数字\n",
      "这是我打印的第 78 个数字\n",
      "这是我打印的第 79 个数字\n",
      "这是我打印的第 80 个数字\n",
      "这是我打印的第 81 个数字\n",
      "这是我打印的第 82 个数字\n",
      "这是我打印的第 83 个数字\n",
      "这是我打印的第 84 个数字\n",
      "这是我打印的第 85 个数字\n",
      "这是我打印的第 86 个数字\n",
      "这是我打印的第 87 个数字\n",
      "这是我打印的第 88 个数字\n",
      "这是我打印的第 89 个数字\n",
      "这是我打印的第 90 个数字\n",
      "这是我打印的第 91 个数字\n",
      "这是我打印的第 92 个数字\n",
      "这是我打印的第 93 个数字\n",
      "这是我打印的第 94 个数字\n",
      "这是我打印的第 95 个数字\n",
      "这是我打印的第 96 个数字\n",
      "这是我打印的第 97 个数字\n",
      "这是我打印的第 98 个数字\n",
      "这是我打印的第 99 个数字\n"
     ]
    }
   ],
   "source": [
    "for i in range(100):\n",
    "    s = str(i)      \n",
    "    print(\"这是我打印的第 %s 个数字\"%s)"
   ]
  },
  {
   "cell_type": "code",
   "execution_count": 50,
   "metadata": {},
   "outputs": [
    {
     "name": "stdout",
     "output_type": "stream",
     "text": [
      "今天 shanghai 的气温是 39\n"
     ]
    }
   ],
   "source": [
    "a = \"shanghai\"\n",
    "b = 39\n",
    "\n",
    "print(\"今天 {0} 的气温是 {1}\".format(a,b))"
   ]
  },
  {
   "cell_type": "markdown",
   "metadata": {},
   "source": [
    "## 时间类：datetime"
   ]
  },
  {
   "cell_type": "markdown",
   "metadata": {},
   "source": [
    "datime模块是专门用于处理时间的类，它是PYTHON的标准库之一，内容复杂且强大，我们只需要学习一个常用的函数即可：\n",
    "1. 获取时间\n",
    "2. 字符串与时间的转换\n",
    "3. 时间的提取\n",
    "4. 日期之间的计算"
   ]
  },
  {
   "cell_type": "code",
   "execution_count": 68,
   "metadata": {},
   "outputs": [
    {
     "name": "stdout",
     "output_type": "stream",
     "text": [
      "2018-02-08 21:05:54.034390\n"
     ]
    }
   ],
   "source": [
    "# 获取时间\n",
    "from datetime import datetime \n",
    "print(datetime.now())"
   ]
  },
  {
   "cell_type": "code",
   "execution_count": 70,
   "metadata": {},
   "outputs": [
    {
     "data": {
      "text/plain": [
       "datetime.datetime(2017, 8, 1, 0, 0)"
      ]
     },
     "execution_count": 70,
     "metadata": {},
     "output_type": "execute_result"
    }
   ],
   "source": [
    "# 也可以创建指定的时间\n",
    "dt = datetime(2017,8,1)\n",
    "dt"
   ]
  },
  {
   "cell_type": "code",
   "execution_count": 71,
   "metadata": {
    "collapsed": true
   },
   "outputs": [],
   "source": [
    "# 字符串与时间的转换\n",
    "s = '20170901'\n",
    "s1 = datetime.strptime(s,'%Y%m%d')\n",
    "\n",
    "s = \"2019/05/03\"\n",
    "s2 = datetime.strptime(s,'%Y/%m/%d')"
   ]
  },
  {
   "cell_type": "code",
   "execution_count": 73,
   "metadata": {},
   "outputs": [
    {
     "data": {
      "text/plain": [
       "datetime.datetime(2019, 5, 3, 0, 0)"
      ]
     },
     "execution_count": 73,
     "metadata": {},
     "output_type": "execute_result"
    }
   ],
   "source": [
    "s2#datetime格式"
   ]
  },
  {
   "cell_type": "code",
   "execution_count": 77,
   "metadata": {},
   "outputs": [
    {
     "data": {
      "text/plain": [
       "datetime.datetime(2019, 8, 11, 0, 0)"
      ]
     },
     "execution_count": 77,
     "metadata": {},
     "output_type": "execute_result"
    }
   ],
   "source": [
    "# 日期之间的计算需要用到timedelta模块\n",
    "from datetime import datetime, timedelta#时间差\n",
    "s2 - s1#默认以天为单位\n",
    "s2 + timedelta(100)"
   ]
  },
  {
   "cell_type": "code",
   "execution_count": 81,
   "metadata": {},
   "outputs": [
    {
     "data": {
      "text/plain": [
       "2017"
      ]
     },
     "execution_count": 81,
     "metadata": {},
     "output_type": "execute_result"
    }
   ],
   "source": [
    "# 时间的提取\n",
    "s1.day\n",
    "s1.hour\n",
    "s1.year"
   ]
  },
  {
   "cell_type": "code",
   "execution_count": 81,
   "metadata": {},
   "outputs": [
    {
     "data": {
      "text/plain": [
       "datetime.date(2017, 9, 1)"
      ]
     },
     "execution_count": 81,
     "metadata": {},
     "output_type": "execute_result"
    }
   ],
   "source": [
    "s1.date()"
   ]
  },
  {
   "cell_type": "code",
   "execution_count": 9,
   "metadata": {},
   "outputs": [
    {
     "name": "stdout",
     "output_type": "stream",
     "text": [
      "2018-03-03 14:24:42.733926\n"
     ]
    }
   ],
   "source": [
    "from datetime import datetime\n",
    "print(datetime.now())"
   ]
  },
  {
   "cell_type": "markdown",
   "metadata": {},
   "source": [
    "##  I/O"
   ]
  },
  {
   "cell_type": "markdown",
   "metadata": {},
   "source": [
    "### 读文件"
   ]
  },
  {
   "cell_type": "markdown",
   "metadata": {},
   "source": [
    "我们的数据一般都是存在文件里的，需要通过程序将文件加载到Python环境中，这样才可以使用python对其进行分析。\n",
    "PYTHON标准库提供了一些标准的实现，我们一起来看一下。\n",
    "\n",
    "读文件需要使用 open()函数，其参数为文件名与标识符："
   ]
  },
  {
   "cell_type": "code",
   "execution_count": 13,
   "metadata": {},
   "outputs": [],
   "source": [
    "f = open(\"abc.txt\",'r')\n",
    "data = f.read()\n",
    "f.close()"
   ]
  },
  {
   "cell_type": "code",
   "execution_count": 15,
   "metadata": {},
   "outputs": [
    {
     "data": {
      "text/plain": [
       "'abc\\n'"
      ]
     },
     "execution_count": 15,
     "metadata": {},
     "output_type": "execute_result"
    }
   ],
   "source": [
    "data"
   ]
  },
  {
   "cell_type": "code",
   "execution_count": 92,
   "metadata": {
    "collapsed": true
   },
   "outputs": [],
   "source": [
    "f = open(\"test.txt.txt\",'r')"
   ]
  },
  {
   "cell_type": "markdown",
   "metadata": {},
   "source": [
    "'r'表示读文件的意思, 在获取文件之后,使用read函数读取数据，最后一步是调用close()方法关闭文件。文件使用完毕后必须关闭，因为文件对象会占用操作系统的资源。但是每次这样写很麻烦，我们可以使用with关键词进行整合："
   ]
  },
  {
   "cell_type": "code",
   "execution_count": 97,
   "metadata": {
    "collapsed": true
   },
   "outputs": [],
   "source": [
    "with open(\"test.txt.txt\",'r') as handle:\n",
    "    data = handle.readlines()#返回每一行的列表"
   ]
  },
  {
   "cell_type": "code",
   "execution_count": 98,
   "metadata": {},
   "outputs": [
    {
     "data": {
      "text/plain": [
       "['this Is \\n', 'hello world\\n', 'nihao\\n', 'china\\n', '我是中国人']"
      ]
     },
     "execution_count": 98,
     "metadata": {},
     "output_type": "execute_result"
    }
   ],
   "source": [
    "data"
   ]
  },
  {
   "cell_type": "markdown",
   "metadata": {},
   "source": [
    "### 文件编码\n",
    "\n",
    "根据你当前的文件编码在open函数里面指定encoding的类型。一般来说，windows系统上的文件都是gbk格式："
   ]
  },
  {
   "cell_type": "code",
   "execution_count": null,
   "metadata": {
    "collapsed": true
   },
   "outputs": [],
   "source": [
    "f = open(\"file\",'r',encoding = 'gbk') # utf-8国际通用格式，windows中多是gbk"
   ]
  },
  {
   "cell_type": "markdown",
   "metadata": {},
   "source": [
    "### 写文件\n",
    "写文件和读文件几乎一致，唯一的区别是标识符需要改为\"wb\""
   ]
  },
  {
   "cell_type": "code",
   "execution_count": 100,
   "metadata": {
    "collapsed": true
   },
   "outputs": [],
   "source": [
    "with open(\"test2.txt\",'wb') as handle:\n",
    "    handle.write(b\"hello world\")"
   ]
  },
  {
   "cell_type": "code",
   "execution_count": null,
   "metadata": {
    "collapsed": true
   },
   "outputs": [],
   "source": [
    "isinstace(a,str)\n",
    "int 不可以a[1]\n",
    "判断字符串是否全为数字或字母：\n",
    "    isalnum()必须是数字和字母的混合\n",
    "    isalpha()不区分大小写\n",
    "list.len()\n",
    "\n",
    "传参中*的使用\n",
    "字符串处理https://www.cnblogs.com/dangww/p/7795510.html\n",
    "    \n",
    "空值的处理\n",
    "2：当做参数输入 \n",
    "如何判断一个字符串是三位字符串而不是一位或2位空格\n",
    "\n",
    "双冒号的神奇：：-1\n",
    "\n",
    "lamdba https://www.cnblogs.com/guigujun/p/6134828.html\n",
    "https://segmentfault.com/q/1010000010187052\n",
    "    \n",
    "with as "
   ]
  }
 ],
 "metadata": {
  "anaconda-cloud": {},
  "kernelspec": {
   "display_name": "Python 3",
   "language": "python",
   "name": "python3"
  },
  "language_info": {
   "codemirror_mode": {
    "name": "ipython",
    "version": 3
   },
   "file_extension": ".py",
   "mimetype": "text/x-python",
   "name": "python",
   "nbconvert_exporter": "python",
   "pygments_lexer": "ipython3",
   "version": "3.6.2"
  },
  "latex_envs": {
   "LaTeX_envs_menu_present": true,
   "autocomplete": true,
   "bibliofile": "biblio.bib",
   "cite_by": "apalike",
   "current_citInitial": 1,
   "eqLabelWithNumbers": true,
   "eqNumInitial": 1,
   "hotkeys": {
    "equation": "Ctrl-E",
    "itemize": "Ctrl-I"
   },
   "labels_anchors": true,
   "latex_user_defs": false,
   "report_style_numbering": false,
   "user_envs_cfg": false
  },
  "toc": {
   "nav_menu": {},
   "number_sections": true,
   "sideBar": false,
   "skip_h1_title": false,
   "title_cell": "Table of Contents",
   "title_sidebar": "Contents",
   "toc_cell": false,
   "toc_position": {
    "height": "284px",
    "left": "1006.97px",
    "right": "19.8913px",
    "top": "106px",
    "width": "212px"
   },
   "toc_section_display": "block",
   "toc_window_display": true
  }
 },
 "nbformat": 4,
 "nbformat_minor": 2
}
