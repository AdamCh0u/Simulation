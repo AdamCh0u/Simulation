{
 "cells": [
  {
   "cell_type": "code",
   "execution_count": 1,
   "metadata": {
    "collapsed": true
   },
   "outputs": [],
   "source": [
    "from rtree import index\n",
    "import numpy as np\n",
    "import random\n",
    "import math\n",
    "import pandas as pd"
   ]
  },
  {
   "cell_type": "code",
   "execution_count": 2,
   "metadata": {
    "collapsed": true
   },
   "outputs": [],
   "source": [
    "def initiate(radius,C,L):\n",
    "    coordinate = np.ones(2)*L/2.0\n",
    "    nodelist = {(coordinate[0],coordinate[1]):{5:0.0,7:1}} \n",
    "    index2coor = {1:(coordinate[0],coordinate[1])}\n",
    "    idx = index.Index()\n",
    "    idx.insert(1,list(np.r_[coordinate,coordinate]))                     \n",
    "    limitt = np.r_[coordinate - radius,coordinate + radius] \n",
    "    return nodelist,idx,limitt,index2coor"
   ]
  },
  {
   "cell_type": "code",
   "execution_count": 3,
   "metadata": {
    "collapsed": true
   },
   "outputs": [],
   "source": [
    "def choosenode(nodelist,limitt,C,index2coor):#?\n",
    "    white = ( (limitt[2]-limitt[0])*(limitt[3]-limitt[1])-len(nodelist) )*C\n",
    "    exist = len(index2coor)+len(nodelist)*C\n",
    "    rnd = random.random()*( exist + white )\n",
    "    if rnd>exist:\n",
    "        while 1:\n",
    "            ii = int( random.random()*(limitt[2]-limitt[0])   + limitt[0] )\n",
    "            jj = int( random.random()*(limitt[3]-limitt[1])   + limitt[1] )\n",
    "            if (ii,jj) not in nodelist:\n",
    "                return (ii,jj),0\n",
    "    else:\n",
    "        pos = random.randint(1,len(index2coor))#左闭右闭\n",
    "        return index2coor[pos],1\n",
    "        \n"
   ]
  },
  {
   "cell_type": "code",
   "execution_count": 4,
   "metadata": {},
   "outputs": [],
   "source": [
    "def onestep(nodelist,index2coor,idx,radius,C,h,limitt,L):\n",
    "    two,flag = choosenode(nodelist,limitt,C,index2coor)  \n",
    "    i = two[0]\n",
    "    j = two[1]\n",
    "    if flag == 0:\n",
    "        intersection = list(idx.intersection([i-radius,j-radius, i+radius,j+radius])) \n",
    "        if len(intersection) > 0:\n",
    "            for key in intersection:\n",
    "                if np.linalg.norm(np.array([index2coor[key]]) - np.array([i,j])) <= radius:  \n",
    "                    state = 1\n",
    "                else:\n",
    "                    state = 0\n",
    "            if state == 1:\n",
    "                nodelist,index2coor,idx,limitt = insert_newpoint(i,j,nodelist,index2coor,idx,limitt,L)\n",
    "        return nodelist,index2coor,idx,limitt      \n",
    "\n",
    "    elif flag==1: \n",
    "        if nodelist[(i,j)][7]+1 <= h:#不溢出\n",
    "            nodelist[(i,j)][7] += 1\n",
    "            index2coor[len(index2coor)+1]=(i,j)\n",
    "        else:\n",
    "            while ((i,j) in nodelist.keys()) and (nodelist[(i,j)][7]+1 > h) :\n",
    "                (i,j) = sandpile(i,j,h,nodelist)\n",
    "            if (i,j) in nodelist.keys():#溢出到有点的格子\n",
    "                nodelist[(i,j)][7] += 1\n",
    "                index2coor[len(index2coor)+1]=(i,j)\n",
    "            else:#溢出到空格子\n",
    "                nodelist,index2coor,idx,limitt  = insert_newpoint(i,j,nodelist,index2coor,idx,limitt,L)\n",
    "        return nodelist,index2coor,idx,limitt\n"
   ]
  },
  {
   "cell_type": "code",
   "execution_count": 9,
   "metadata": {
    "collapsed": true
   },
   "outputs": [],
   "source": [
    "def insert_newpoint(i,j,nodelist,index2coor,idx,limitt,L):\n",
    "\tnodelist[(i,j)] = {5:np.linalg.norm(np.array([i,j])-L/2),7:1}\n",
    "\tindex2coor[len(index2coor)+1]=(i,j)\n",
    "\tnewpoint = [i,j]\n",
    "\tidx.insert( len(index2coor), np.r_[newpoint, newpoint] )  ###idx\n",
    "\tfor x in range(2):\n",
    "\t\tlimitt[x]   = round(min(limitt[x],newpoint[x]-radius))\n",
    "\t\tlimitt[x+2] = round(max(limitt[x+2],newpoint[x]+radius))\n",
    "\treturn nodelist,index2coor,idx,limitt\n",
    "\n",
    "def sandpile(i,j,h,nodelist):\n",
    "    r = i\n",
    "    c = j\n",
    "    arounddic = {\n",
    "\t1:(r-1,c-1),2:(r -1,c),3:(r -1,c+1),\n",
    "\t4:(r,c-1),5:(r,c),6:(r,c+1),\n",
    "\t7:(r+1,c-1),8:(r+1,c),9:(r+1,c+1)\n",
    "\t}\n",
    "    deltas = []\n",
    "    #生成邻接阵arov\n",
    "    arov={}\n",
    "    for m in range(1,10):\n",
    "        if arounddic[m] in nodelist:\n",
    "            arov[m] = nodelist[arounddic[m]][7]\n",
    "        else:\n",
    "            arov[m] = 0\n",
    "        delta =nodelist[(r,c)][7] - arov[m]\n",
    "        deltas.append(delta)\n",
    "    A = np.nonzero(deltas)\n",
    "    if len(A[0]) != 0:\n",
    "        B = np.cumsum(deltas)\n",
    "        rnd = random.random()*B[-1]\n",
    "        ind = np.nonzero(B<rnd)\n",
    "        if len(ind[0])==0:\n",
    "            pos = 1\n",
    "        else:\n",
    "            pos = ind[0][-1]+2\n",
    "    else:# 邻接矩阵全为阈值\n",
    "        ##不去5\n",
    "        #pos = random.randint(1,9)\n",
    "        #为了加快程序，去掉5\n",
    "        \n",
    "    #得到位置\n",
    "    return arounddic[pos]        \n",
    "\n",
    "def caculate(nodelist,radius):\n",
    "    w = []\n",
    "    delta  = radius\n",
    "    for key in nodelist:\n",
    "        w.append([nodelist[key][5],nodelist[key][7]])\n",
    "    w.sort()\n",
    "    w = np.array(w)\n",
    "    R = np.arange(0,np.max(w[:,0]),delta)\n",
    "    RL = np.zeros((len(R),2))\n",
    "    RL[:,0] = R\n",
    "    for i in range(len(RL)):\n",
    "        RL[i,1] = np.sum(w[w[:,0]<RL[i,0],1])\n",
    "    Rrho = np.zeros((len(R),2))\n",
    "    Rrho[:,0] = R + delta/2\n",
    "    for i in range(len(Rrho)-1):\n",
    "        Rrho[i,1] = (RL[i+1,1] - RL[i,1])/(math.pi*(delta**2+2*delta*RL[i,0]))\n",
    "    a = Rrho\n",
    "    xx = np.nonzero(a[:,1]==0) \n",
    "    if len(xx[0])==0:\n",
    "        x = 0 \n",
    "    else:\n",
    "        x = xx[0][0]\n",
    "    Rrhox = Rrho[:x,:x]\n",
    "    return Rrhox\n",
    "def save(Rx,nodelist,index2coor,C,radius,maxnode,i=1):#i 预留次数参数\n",
    "    se = {}\n",
    "    for i in range(1,len(Rx)+1):\n",
    "        se[i] = pd.Series(Rx[i])\n",
    "    df = pd.concat([se[i] for i in range(1,len(Rx)+1) ],axis = 1)\n",
    "    name = \"C\"+str(C)+\"--r\"+str(radius)+\"--maxnode\"+str(maxnode)+\"--i\"+str(i)\n",
    "    df.to_csv(name+\".csv\")\n",
    "    np.savetxt(name+\".txt\", [nodelist,index2coor], delimiter=',')\n",
    "    print(\"Winner winner chicken dinner\")"
   ]
  },
  {
   "cell_type": "code",
   "execution_count": 6,
   "metadata": {
    "collapsed": true
   },
   "outputs": [],
   "source": [
    "radius = 10\n",
    "C = 0.01\n",
    "maxnode = 100000\n",
    "h = 3\n",
    "L = 10**5\n",
    "nodelist,idx,limitt,index2coor= initiate(radius,C,L)"
   ]
  },
  {
   "cell_type": "code",
   "execution_count": null,
   "metadata": {},
   "outputs": [
    {
     "name": "stdout",
     "output_type": "stream",
     "text": [
      "PPP 169 40000 13458\n"
     ]
    }
   ],
   "source": [
    "tstep = 1\n",
    "n = 1\n",
    "Rx = {}\n",
    "while len(index2coor) < maxnode:\n",
    "    k1 = len(index2coor)\n",
    "    nodelist,index2coor,idx,limitt = onestep(nodelist,index2coor,idx,radius,C,h,limitt,L)\n",
    "    k2 = len(index2coor)\n",
    "    if (k1 != k2) and k2%5000 == 0:\n",
    "        print ('PPP',tstep, len(index2coor), len(nodelist))\n",
    "        Rrhox = caculate(nodelist,radius)\n",
    "        Rx[n] = Rrhox[:,1]\n",
    "        n+=1\n",
    "    tstep += 1\n",
    "save(Rx,nodelist,index2coor,C,radius,maxnode)"
   ]
  },
  {
   "cell_type": "code",
   "execution_count": 14,
   "metadata": {},
   "outputs": [
    {
     "data": {
      "text/plain": [
       "{1: array([ 2.91253546,  2.90298616,  0.67036062,  0.10549699,  0.02086698]),\n",
       " 2: array([ 2.91253546,  2.99211293,  2.88261433,  0.73347692,  0.03925822]),\n",
       " 3: array([ 2.91253546,  2.99211293,  2.98701997,  2.50600826,  0.36888579]),\n",
       " 4: array([ 2.91253546,  2.99211293,  2.98701997,  3.00666424,  1.72453223]),\n",
       " 5: array([ 2.91253546,  2.99211293,  2.98701997,  3.00666424,  2.74807535,\n",
       "         0.63372605]),\n",
       " 6: array([ 2.91253546,  2.99211293,  2.98701997,  3.00666424,  2.98362467,\n",
       "         1.85111667]),\n",
       " 7: array([ 2.91253546,  2.99211293,  2.98701997,  3.00666424,  2.98362467,\n",
       "         2.6816161 ])}"
      ]
     },
     "execution_count": 14,
     "metadata": {},
     "output_type": "execute_result"
    }
   ],
   "source": [
    "Rx"
   ]
  },
  {
   "cell_type": "code",
   "execution_count": 18,
   "metadata": {},
   "outputs": [
    {
     "data": {
      "text/html": [
       "<div>\n",
       "<style scoped>\n",
       "    .dataframe tbody tr th:only-of-type {\n",
       "        vertical-align: middle;\n",
       "    }\n",
       "\n",
       "    .dataframe tbody tr th {\n",
       "        vertical-align: top;\n",
       "    }\n",
       "\n",
       "    .dataframe thead th {\n",
       "        text-align: right;\n",
       "    }\n",
       "</style>\n",
       "<table border=\"1\" class=\"dataframe\">\n",
       "  <thead>\n",
       "    <tr style=\"text-align: right;\">\n",
       "      <th></th>\n",
       "      <th>0</th>\n",
       "      <th>1</th>\n",
       "      <th>2</th>\n",
       "      <th>3</th>\n",
       "      <th>4</th>\n",
       "      <th>5</th>\n",
       "      <th>6</th>\n",
       "    </tr>\n",
       "  </thead>\n",
       "  <tbody>\n",
       "    <tr>\n",
       "      <th>0</th>\n",
       "      <td>2.912535</td>\n",
       "      <td>2.912535</td>\n",
       "      <td>2.912535</td>\n",
       "      <td>2.912535</td>\n",
       "      <td>2.912535</td>\n",
       "      <td>2.912535</td>\n",
       "      <td>2.912535</td>\n",
       "    </tr>\n",
       "    <tr>\n",
       "      <th>1</th>\n",
       "      <td>2.902986</td>\n",
       "      <td>2.992113</td>\n",
       "      <td>2.992113</td>\n",
       "      <td>2.992113</td>\n",
       "      <td>2.992113</td>\n",
       "      <td>2.992113</td>\n",
       "      <td>2.992113</td>\n",
       "    </tr>\n",
       "    <tr>\n",
       "      <th>2</th>\n",
       "      <td>0.670361</td>\n",
       "      <td>2.882614</td>\n",
       "      <td>2.987020</td>\n",
       "      <td>2.987020</td>\n",
       "      <td>2.987020</td>\n",
       "      <td>2.987020</td>\n",
       "      <td>2.987020</td>\n",
       "    </tr>\n",
       "    <tr>\n",
       "      <th>3</th>\n",
       "      <td>0.105497</td>\n",
       "      <td>0.733477</td>\n",
       "      <td>2.506008</td>\n",
       "      <td>3.006664</td>\n",
       "      <td>3.006664</td>\n",
       "      <td>3.006664</td>\n",
       "      <td>3.006664</td>\n",
       "    </tr>\n",
       "    <tr>\n",
       "      <th>4</th>\n",
       "      <td>0.020867</td>\n",
       "      <td>0.039258</td>\n",
       "      <td>0.368886</td>\n",
       "      <td>1.724532</td>\n",
       "      <td>2.748075</td>\n",
       "      <td>2.983625</td>\n",
       "      <td>2.983625</td>\n",
       "    </tr>\n",
       "    <tr>\n",
       "      <th>5</th>\n",
       "      <td>NaN</td>\n",
       "      <td>NaN</td>\n",
       "      <td>NaN</td>\n",
       "      <td>NaN</td>\n",
       "      <td>0.633726</td>\n",
       "      <td>1.851117</td>\n",
       "      <td>2.681616</td>\n",
       "    </tr>\n",
       "  </tbody>\n",
       "</table>\n",
       "</div>"
      ],
      "text/plain": [
       "          0         1         2         3         4         5         6\n",
       "0  2.912535  2.912535  2.912535  2.912535  2.912535  2.912535  2.912535\n",
       "1  2.902986  2.992113  2.992113  2.992113  2.992113  2.992113  2.992113\n",
       "2  0.670361  2.882614  2.987020  2.987020  2.987020  2.987020  2.987020\n",
       "3  0.105497  0.733477  2.506008  3.006664  3.006664  3.006664  3.006664\n",
       "4  0.020867  0.039258  0.368886  1.724532  2.748075  2.983625  2.983625\n",
       "5       NaN       NaN       NaN       NaN  0.633726  1.851117  2.681616"
      ]
     },
     "execution_count": 18,
     "metadata": {},
     "output_type": "execute_result"
    }
   ],
   "source": [
    "se = {}\n",
    "for i in range(1,len(Rx)+1):\n",
    "    se[i] = pd.Series(Rx[i])\n",
    "df = pd.concat([se[i] for i in range(1,len(Rx)+1) ],axis = 1)\n",
    "df.to_csv()"
   ]
  },
  {
   "cell_type": "code",
   "execution_count": null,
   "metadata": {
    "collapsed": true
   },
   "outputs": [],
   "source": [
    "np.savetxt(str(i)+\".txt\", Rx, delimiter=',')"
   ]
  },
  {
   "cell_type": "code",
   "execution_count": 83,
   "metadata": {},
   "outputs": [],
   "source": [
    "for i in range(1,len(Rx)):\n",
    "    np.savetxt(str(i)+\".txt\", Rx[i], delimiter=',')"
   ]
  },
  {
   "cell_type": "code",
   "execution_count": 84,
   "metadata": {},
   "outputs": [
    {
     "data": {
      "text/plain": [
       "Counter({1: 505, 2: 255, 3: 32995})"
      ]
     },
     "execution_count": 84,
     "metadata": {},
     "output_type": "execute_result"
    }
   ],
   "source": [
    "from collections import Counter\n",
    "h = []\n",
    "cnt = Counter()\n",
    "for k in nodelist:\n",
    "    h.append(nodelist[k][7])\n",
    "Counter(h)"
   ]
  },
  {
   "cell_type": "markdown",
   "metadata": {},
   "source": [
    "# debug"
   ]
  },
  {
   "cell_type": "code",
   "execution_count": 19,
   "metadata": {},
   "outputs": [
    {
     "name": "stdout",
     "output_type": "stream",
     "text": [
      "2\n"
     ]
    }
   ],
   "source": [
    "if (50036, 49986) in nodelist.keys():\n",
    "    print(1)\n",
    "else: \n",
    "    print(2)"
   ]
  },
  {
   "cell_type": "markdown",
   "metadata": {},
   "source": [
    "# paint"
   ]
  },
  {
   "cell_type": "code",
   "execution_count": 77,
   "metadata": {
    "scrolled": true
   },
   "outputs": [
    {
     "ename": "ValueError",
     "evalue": "x and y must have same first dimension, but have shapes (26,) and (2,)",
     "output_type": "error",
     "traceback": [
      "\u001b[1;31m---------------------------------------------------------------------------\u001b[0m",
      "\u001b[1;31mValueError\u001b[0m                                Traceback (most recent call last)",
      "\u001b[1;32m<ipython-input-77-e5ab9722f97c>\u001b[0m in \u001b[0;36m<module>\u001b[1;34m()\u001b[0m\n\u001b[0;32m      4\u001b[0m \u001b[0ma2\u001b[0m \u001b[1;33m=\u001b[0m \u001b[0mRx\u001b[0m\u001b[1;33m[\u001b[0m\u001b[1;36m2\u001b[0m\u001b[1;33m]\u001b[0m\u001b[1;33m\u001b[0m\u001b[0m\n\u001b[0;32m      5\u001b[0m \u001b[0mx\u001b[0m \u001b[1;33m=\u001b[0m \u001b[0mrange\u001b[0m\u001b[1;33m(\u001b[0m\u001b[1;36m0\u001b[0m\u001b[1;33m,\u001b[0m\u001b[0mlen\u001b[0m\u001b[1;33m(\u001b[0m\u001b[0ma2\u001b[0m\u001b[1;33m)\u001b[0m\u001b[1;33m)\u001b[0m\u001b[1;33m\u001b[0m\u001b[0m\n\u001b[1;32m----> 6\u001b[1;33m \u001b[0mplt\u001b[0m\u001b[1;33m.\u001b[0m\u001b[0mplot\u001b[0m\u001b[1;33m(\u001b[0m\u001b[0mx\u001b[0m\u001b[1;33m,\u001b[0m\u001b[1;33m[\u001b[0m\u001b[0ma1\u001b[0m\u001b[1;33m,\u001b[0m\u001b[0ma2\u001b[0m\u001b[1;33m]\u001b[0m\u001b[1;33m)\u001b[0m\u001b[1;33m\u001b[0m\u001b[0m\n\u001b[0m\u001b[0;32m      7\u001b[0m \u001b[1;33m\u001b[0m\u001b[0m\n",
      "\u001b[1;32mE:\\MiniConda32\\envs\\py36\\lib\\site-packages\\matplotlib\\pyplot.py\u001b[0m in \u001b[0;36mplot\u001b[1;34m(*args, **kwargs)\u001b[0m\n\u001b[0;32m   3259\u001b[0m                       mplDeprecation)\n\u001b[0;32m   3260\u001b[0m     \u001b[1;32mtry\u001b[0m\u001b[1;33m:\u001b[0m\u001b[1;33m\u001b[0m\u001b[0m\n\u001b[1;32m-> 3261\u001b[1;33m         \u001b[0mret\u001b[0m \u001b[1;33m=\u001b[0m \u001b[0max\u001b[0m\u001b[1;33m.\u001b[0m\u001b[0mplot\u001b[0m\u001b[1;33m(\u001b[0m\u001b[1;33m*\u001b[0m\u001b[0margs\u001b[0m\u001b[1;33m,\u001b[0m \u001b[1;33m**\u001b[0m\u001b[0mkwargs\u001b[0m\u001b[1;33m)\u001b[0m\u001b[1;33m\u001b[0m\u001b[0m\n\u001b[0m\u001b[0;32m   3262\u001b[0m     \u001b[1;32mfinally\u001b[0m\u001b[1;33m:\u001b[0m\u001b[1;33m\u001b[0m\u001b[0m\n\u001b[0;32m   3263\u001b[0m         \u001b[0max\u001b[0m\u001b[1;33m.\u001b[0m\u001b[0m_hold\u001b[0m \u001b[1;33m=\u001b[0m \u001b[0mwashold\u001b[0m\u001b[1;33m\u001b[0m\u001b[0m\n",
      "\u001b[1;32mE:\\MiniConda32\\envs\\py36\\lib\\site-packages\\matplotlib\\__init__.py\u001b[0m in \u001b[0;36minner\u001b[1;34m(ax, *args, **kwargs)\u001b[0m\n\u001b[0;32m   1715\u001b[0m                     warnings.warn(msg % (label_namer, func.__name__),\n\u001b[0;32m   1716\u001b[0m                                   RuntimeWarning, stacklevel=2)\n\u001b[1;32m-> 1717\u001b[1;33m             \u001b[1;32mreturn\u001b[0m \u001b[0mfunc\u001b[0m\u001b[1;33m(\u001b[0m\u001b[0max\u001b[0m\u001b[1;33m,\u001b[0m \u001b[1;33m*\u001b[0m\u001b[0margs\u001b[0m\u001b[1;33m,\u001b[0m \u001b[1;33m**\u001b[0m\u001b[0mkwargs\u001b[0m\u001b[1;33m)\u001b[0m\u001b[1;33m\u001b[0m\u001b[0m\n\u001b[0m\u001b[0;32m   1718\u001b[0m         \u001b[0mpre_doc\u001b[0m \u001b[1;33m=\u001b[0m \u001b[0minner\u001b[0m\u001b[1;33m.\u001b[0m\u001b[0m__doc__\u001b[0m\u001b[1;33m\u001b[0m\u001b[0m\n\u001b[0;32m   1719\u001b[0m         \u001b[1;32mif\u001b[0m \u001b[0mpre_doc\u001b[0m \u001b[1;32mis\u001b[0m \u001b[1;32mNone\u001b[0m\u001b[1;33m:\u001b[0m\u001b[1;33m\u001b[0m\u001b[0m\n",
      "\u001b[1;32mE:\\MiniConda32\\envs\\py36\\lib\\site-packages\\matplotlib\\axes\\_axes.py\u001b[0m in \u001b[0;36mplot\u001b[1;34m(self, *args, **kwargs)\u001b[0m\n\u001b[0;32m   1370\u001b[0m         \u001b[0mkwargs\u001b[0m \u001b[1;33m=\u001b[0m \u001b[0mcbook\u001b[0m\u001b[1;33m.\u001b[0m\u001b[0mnormalize_kwargs\u001b[0m\u001b[1;33m(\u001b[0m\u001b[0mkwargs\u001b[0m\u001b[1;33m,\u001b[0m \u001b[0m_alias_map\u001b[0m\u001b[1;33m)\u001b[0m\u001b[1;33m\u001b[0m\u001b[0m\n\u001b[0;32m   1371\u001b[0m \u001b[1;33m\u001b[0m\u001b[0m\n\u001b[1;32m-> 1372\u001b[1;33m         \u001b[1;32mfor\u001b[0m \u001b[0mline\u001b[0m \u001b[1;32min\u001b[0m \u001b[0mself\u001b[0m\u001b[1;33m.\u001b[0m\u001b[0m_get_lines\u001b[0m\u001b[1;33m(\u001b[0m\u001b[1;33m*\u001b[0m\u001b[0margs\u001b[0m\u001b[1;33m,\u001b[0m \u001b[1;33m**\u001b[0m\u001b[0mkwargs\u001b[0m\u001b[1;33m)\u001b[0m\u001b[1;33m:\u001b[0m\u001b[1;33m\u001b[0m\u001b[0m\n\u001b[0m\u001b[0;32m   1373\u001b[0m             \u001b[0mself\u001b[0m\u001b[1;33m.\u001b[0m\u001b[0madd_line\u001b[0m\u001b[1;33m(\u001b[0m\u001b[0mline\u001b[0m\u001b[1;33m)\u001b[0m\u001b[1;33m\u001b[0m\u001b[0m\n\u001b[0;32m   1374\u001b[0m             \u001b[0mlines\u001b[0m\u001b[1;33m.\u001b[0m\u001b[0mappend\u001b[0m\u001b[1;33m(\u001b[0m\u001b[0mline\u001b[0m\u001b[1;33m)\u001b[0m\u001b[1;33m\u001b[0m\u001b[0m\n",
      "\u001b[1;32mE:\\MiniConda32\\envs\\py36\\lib\\site-packages\\matplotlib\\axes\\_base.py\u001b[0m in \u001b[0;36m_grab_next_args\u001b[1;34m(self, *args, **kwargs)\u001b[0m\n\u001b[0;32m    402\u001b[0m                 \u001b[0mthis\u001b[0m \u001b[1;33m+=\u001b[0m \u001b[0margs\u001b[0m\u001b[1;33m[\u001b[0m\u001b[1;36m0\u001b[0m\u001b[1;33m]\u001b[0m\u001b[1;33m,\u001b[0m\u001b[1;33m\u001b[0m\u001b[0m\n\u001b[0;32m    403\u001b[0m                 \u001b[0margs\u001b[0m \u001b[1;33m=\u001b[0m \u001b[0margs\u001b[0m\u001b[1;33m[\u001b[0m\u001b[1;36m1\u001b[0m\u001b[1;33m:\u001b[0m\u001b[1;33m]\u001b[0m\u001b[1;33m\u001b[0m\u001b[0m\n\u001b[1;32m--> 404\u001b[1;33m             \u001b[1;32mfor\u001b[0m \u001b[0mseg\u001b[0m \u001b[1;32min\u001b[0m \u001b[0mself\u001b[0m\u001b[1;33m.\u001b[0m\u001b[0m_plot_args\u001b[0m\u001b[1;33m(\u001b[0m\u001b[0mthis\u001b[0m\u001b[1;33m,\u001b[0m \u001b[0mkwargs\u001b[0m\u001b[1;33m)\u001b[0m\u001b[1;33m:\u001b[0m\u001b[1;33m\u001b[0m\u001b[0m\n\u001b[0m\u001b[0;32m    405\u001b[0m                 \u001b[1;32myield\u001b[0m \u001b[0mseg\u001b[0m\u001b[1;33m\u001b[0m\u001b[0m\n\u001b[0;32m    406\u001b[0m \u001b[1;33m\u001b[0m\u001b[0m\n",
      "\u001b[1;32mE:\\MiniConda32\\envs\\py36\\lib\\site-packages\\matplotlib\\axes\\_base.py\u001b[0m in \u001b[0;36m_plot_args\u001b[1;34m(self, tup, kwargs)\u001b[0m\n\u001b[0;32m    382\u001b[0m             \u001b[0mx\u001b[0m\u001b[1;33m,\u001b[0m \u001b[0my\u001b[0m \u001b[1;33m=\u001b[0m \u001b[0mindex_of\u001b[0m\u001b[1;33m(\u001b[0m\u001b[0mtup\u001b[0m\u001b[1;33m[\u001b[0m\u001b[1;33m-\u001b[0m\u001b[1;36m1\u001b[0m\u001b[1;33m]\u001b[0m\u001b[1;33m)\u001b[0m\u001b[1;33m\u001b[0m\u001b[0m\n\u001b[0;32m    383\u001b[0m \u001b[1;33m\u001b[0m\u001b[0m\n\u001b[1;32m--> 384\u001b[1;33m         \u001b[0mx\u001b[0m\u001b[1;33m,\u001b[0m \u001b[0my\u001b[0m \u001b[1;33m=\u001b[0m \u001b[0mself\u001b[0m\u001b[1;33m.\u001b[0m\u001b[0m_xy_from_xy\u001b[0m\u001b[1;33m(\u001b[0m\u001b[0mx\u001b[0m\u001b[1;33m,\u001b[0m \u001b[0my\u001b[0m\u001b[1;33m)\u001b[0m\u001b[1;33m\u001b[0m\u001b[0m\n\u001b[0m\u001b[0;32m    385\u001b[0m \u001b[1;33m\u001b[0m\u001b[0m\n\u001b[0;32m    386\u001b[0m         \u001b[1;32mif\u001b[0m \u001b[0mself\u001b[0m\u001b[1;33m.\u001b[0m\u001b[0mcommand\u001b[0m \u001b[1;33m==\u001b[0m \u001b[1;34m'plot'\u001b[0m\u001b[1;33m:\u001b[0m\u001b[1;33m\u001b[0m\u001b[0m\n",
      "\u001b[1;32mE:\\MiniConda32\\envs\\py36\\lib\\site-packages\\matplotlib\\axes\\_base.py\u001b[0m in \u001b[0;36m_xy_from_xy\u001b[1;34m(self, x, y)\u001b[0m\n\u001b[0;32m    241\u001b[0m         \u001b[1;32mif\u001b[0m \u001b[0mx\u001b[0m\u001b[1;33m.\u001b[0m\u001b[0mshape\u001b[0m\u001b[1;33m[\u001b[0m\u001b[1;36m0\u001b[0m\u001b[1;33m]\u001b[0m \u001b[1;33m!=\u001b[0m \u001b[0my\u001b[0m\u001b[1;33m.\u001b[0m\u001b[0mshape\u001b[0m\u001b[1;33m[\u001b[0m\u001b[1;36m0\u001b[0m\u001b[1;33m]\u001b[0m\u001b[1;33m:\u001b[0m\u001b[1;33m\u001b[0m\u001b[0m\n\u001b[0;32m    242\u001b[0m             raise ValueError(\"x and y must have same first dimension, but \"\n\u001b[1;32m--> 243\u001b[1;33m                              \"have shapes {} and {}\".format(x.shape, y.shape))\n\u001b[0m\u001b[0;32m    244\u001b[0m         \u001b[1;32mif\u001b[0m \u001b[0mx\u001b[0m\u001b[1;33m.\u001b[0m\u001b[0mndim\u001b[0m \u001b[1;33m>\u001b[0m \u001b[1;36m2\u001b[0m \u001b[1;32mor\u001b[0m \u001b[0my\u001b[0m\u001b[1;33m.\u001b[0m\u001b[0mndim\u001b[0m \u001b[1;33m>\u001b[0m \u001b[1;36m2\u001b[0m\u001b[1;33m:\u001b[0m\u001b[1;33m\u001b[0m\u001b[0m\n\u001b[0;32m    245\u001b[0m             raise ValueError(\"x and y can be no greater than 2-D, but have \"\n",
      "\u001b[1;31mValueError\u001b[0m: x and y must have same first dimension, but have shapes (26,) and (2,)"
     ]
    },
    {
     "data": {
      "image/png": "[encoded data removed]",
      "text/plain": [
       "<matplotlib.figure.Figure at 0xcfa1970>"
      ]
     },
     "metadata": {},
     "output_type": "display_data"
    }
   ],
   "source": [
    "%matplotlib inline\n",
    "import matplotlib.pyplot as plt \n",
    "a1 = Rx[1]\n",
    "a2 = Rx[2]\n",
    "x = range(0,len(a2))\n",
    "plt.plot(x,)\n",
    "\n"
   ]
  },
  {
   "cell_type": "code",
   "execution_count": 27,
   "metadata": {},
   "outputs": [
    {
     "data": {
      "text/plain": [
       "[<matplotlib.lines.Line2D at 0xbfe3cd0>]"
      ]
     },
     "execution_count": 27,
     "metadata": {},
     "output_type": "execute_result"
    },
    {
     "data": {
      "image/png": "[encoded data removed]",
      "text/plain": [
       "<matplotlib.figure.Figure at 0xb5ec6b0>"
      ]
     },
     "metadata": {},
     "output_type": "display_data"
    }
   ],
   "source": [
    "#70000\n",
    "r70 = Rrhox\n",
    "%matplotlib inline\n",
    "import matplotlib.pyplot as plt \n",
    "x = Rrhox[:,0]\n",
    "y = Rrhox[:,1]\n",
    "plt.plot(x,y)"
   ]
  },
  {
   "cell_type": "code",
   "execution_count": null,
   "metadata": {
    "collapsed": true
   },
   "outputs": [],
   "source": []
  },
  {
   "cell_type": "code",
   "execution_count": 18,
   "metadata": {
    "scrolled": true
   },
   "outputs": [
    {
     "data": {
      "text/plain": [
       "array([[  5.00000000e+00,   3.88338061e+00],\n",
       "       [  1.50000000e+01,   3.22341811e+00],\n",
       "       [  2.50000000e+01,   1.69468183e+00],\n",
       "       [  3.50000000e+01,   8.03505098e-01],\n",
       "       [  4.50000000e+01,   5.87812256e-01],\n",
       "       [  5.50000000e+01,   4.69362396e-01],\n",
       "       [  6.50000000e+01,   3.93235136e-01],\n",
       "       [  7.50000000e+01,   3.41228198e-01],\n",
       "       [  8.50000000e+01,   2.92470613e-01],\n",
       "       [  9.50000000e+01,   2.61349170e-01],\n",
       "       [  1.05000000e+02,   2.36307196e-01],\n",
       "       [  1.15000000e+02,   2.12852437e-01],\n",
       "       [  1.25000000e+02,   1.93405087e-01],\n",
       "       [  1.35000000e+02,   1.77781966e-01],\n",
       "       [  1.45000000e+02,   1.69033526e-01],\n",
       "       [  1.55000000e+02,   1.55150399e-01],\n",
       "       [  1.65000000e+02,   1.42757161e-01],\n",
       "       [  1.75000000e+02,   1.32416913e-01],\n",
       "       [  1.85000000e+02,   1.25603360e-01],\n",
       "       [  1.95000000e+02,   1.18835691e-01],\n",
       "       [  2.05000000e+02,   1.12650645e-01],\n",
       "       [  2.15000000e+02,   1.09039642e-01],\n",
       "       [  2.25000000e+02,   1.02566519e-01],\n",
       "       [  2.35000000e+02,   9.63733975e-02],\n",
       "       [  2.45000000e+02,   9.23748282e-02],\n",
       "       [  2.55000000e+02,   8.78160804e-02],\n",
       "       [  2.65000000e+02,   8.39617398e-02],\n",
       "       [  2.75000000e+02,   7.94038480e-02],\n",
       "       [  2.85000000e+02,   7.80696879e-02],\n",
       "       [  2.95000000e+02,   7.49916512e-02],\n",
       "       [  3.05000000e+02,   7.18545432e-02],\n",
       "       [  3.15000000e+02,   6.87145151e-02],\n",
       "       [  3.25000000e+02,   6.65022808e-02],\n",
       "       [  3.35000000e+02,   6.46121560e-02],\n",
       "       [  3.45000000e+02,   6.11247245e-02],\n",
       "       [  3.55000000e+02,   6.12410288e-02],\n",
       "       [  3.65000000e+02,   5.86475064e-02],\n",
       "       [  3.75000000e+02,   5.56405681e-02],\n",
       "       [  3.85000000e+02,   5.43607143e-02],\n",
       "       [  3.95000000e+02,   5.22592307e-02],\n",
       "       [  4.05000000e+02,   5.01829290e-02],\n",
       "       [  4.15000000e+02,   4.91271041e-02],\n",
       "       [  4.25000000e+02,   4.93567565e-02],\n",
       "       [  4.35000000e+02,   4.76001336e-02],\n",
       "       [  4.45000000e+02,   4.58509297e-02],\n",
       "       [  4.55000000e+02,   4.45633841e-02],\n",
       "       [  4.65000000e+02,   4.34338974e-02],\n",
       "       [  4.75000000e+02,   4.18828798e-02],\n",
       "       [  4.85000000e+02,   4.06255298e-02],\n",
       "       [  4.95000000e+02,   4.11873701e-02],\n",
       "       [  5.05000000e+02,   3.90481138e-02],\n",
       "       [  5.15000000e+02,   3.80735709e-02],\n",
       "       [  5.25000000e+02,   3.69845773e-02],\n",
       "       [  5.35000000e+02,   3.54603163e-02],\n",
       "       [  5.45000000e+02,   3.47804655e-02],\n",
       "       [  5.55000000e+02,   3.41251139e-02],\n",
       "       [  5.65000000e+02,   3.47605663e-02],\n",
       "       [  5.75000000e+02,   3.32426238e-02],\n",
       "       [  5.85000000e+02,   3.26199618e-02],\n",
       "       [  5.95000000e+02,   3.18309886e-02],\n",
       "       [  6.05000000e+02,   3.08313377e-02],\n",
       "       [  6.15000000e+02,   2.97348016e-02],\n",
       "       [  6.25000000e+02,   2.88516081e-02],\n",
       "       [  6.35000000e+02,   2.96253768e-02],\n",
       "       [  6.45000000e+02,   2.80063349e-02],\n",
       "       [  6.55000000e+02,   2.75301604e-02],\n",
       "       [  6.65000000e+02,   2.64939131e-02],\n",
       "       [  6.75000000e+02,   2.58892041e-02],\n",
       "       [  6.85000000e+02,   2.54880252e-02],\n",
       "       [  6.95000000e+02,   2.44342913e-02],\n",
       "       [  7.05000000e+02,   2.48778365e-02],\n",
       "       [  7.15000000e+02,   2.22149137e-02],\n",
       "       [  7.25000000e+02,   1.66618761e-02]])"
      ]
     },
     "execution_count": 18,
     "metadata": {},
     "output_type": "execute_result"
    }
   ],
   "source": [
    "r85 = Rrhox\n",
    "r85"
   ]
  },
  {
   "cell_type": "code",
   "execution_count": 30,
   "metadata": {},
   "outputs": [
    {
     "data": {
      "text/plain": [
       "[<matplotlib.lines.Line2D at 0xc2c30d0>]"
      ]
     },
     "execution_count": 30,
     "metadata": {},
     "output_type": "execute_result"
    },
    {
     "data": {
      "image/png": "[encoded data removed]",
      "text/plain": [
       "<matplotlib.figure.Figure at 0x8bbf8f0>"
      ]
     },
     "metadata": {},
     "output_type": "display_data"
    }
   ],
   "source": [
    "#85000\n",
    "%matplotlib inline\n",
    "import matplotlib.pyplot as plt \n",
    "x = Rrhox[:,0]\n",
    "y = Rrhox[:,1]\n",
    "\n",
    "plt.plot(x,y)\n"
   ]
  },
  {
   "cell_type": "code",
   "execution_count": null,
   "metadata": {
    "collapsed": true
   },
   "outputs": [],
   "source": []
  }
 ],
 "metadata": {
  "kernelspec": {
   "display_name": "Python 3",
   "language": "python",
   "name": "python3"
  },
  "language_info": {
   "codemirror_mode": {
    "name": "ipython",
    "version": 3
   },
   "file_extension": ".py",
   "mimetype": "text/x-python",
   "name": "python",
   "nbconvert_exporter": "python",
   "pygments_lexer": "ipython3",
   "version": "3.6.2"
  },
  "latex_envs": {
   "LaTeX_envs_menu_present": true,
   "autocomplete": true,
   "bibliofile": "biblio.bib",
   "cite_by": "apalike",
   "current_citInitial": 1,
   "eqLabelWithNumbers": true,
   "eqNumInitial": 1,
   "hotkeys": {
    "equation": "Ctrl-E",
    "itemize": "Ctrl-I"
   },
   "labels_anchors": false,
   "latex_user_defs": false,
   "report_style_numbering": false,
   "user_envs_cfg": false
  },
  "toc": {
   "nav_menu": {},
   "number_sections": true,
   "sideBar": false,
   "skip_h1_title": false,
   "title_cell": "Table of Contents",
   "title_sidebar": "Contents",
   "toc_cell": false,
   "toc_position": {
    "height": "470px",
    "left": "964px",
    "top": "105.372px",
    "width": "241px"
   },
   "toc_section_display": true,
   "toc_window_display": true
  }
 },
 "nbformat": 4,
 "nbformat_minor": 2
}
