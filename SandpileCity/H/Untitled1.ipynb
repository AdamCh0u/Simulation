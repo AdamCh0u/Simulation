{
 "cells": [
  {
   "cell_type": "markdown",
   "metadata": {},
   "source": [
    "# 2.0"
   ]
  },
  {
   "cell_type": "code",
   "execution_count": 1,
   "metadata": {
    "ExecuteTime": {
     "end_time": "2018-08-24T02:48:05.314116Z",
     "start_time": "2018-08-24T02:48:03.275770Z"
    }
   },
   "outputs": [],
   "source": [
    "from rtree import index\n",
    "import numpy as np\n",
    "import random\n",
    "import math\n",
    "import pandas as pd\n",
    "import matplotlib.pyplot as plt\n",
    "from collections import Counter"
   ]
  },
  {
   "cell_type": "code",
   "execution_count": 153,
   "metadata": {
    "ExecuteTime": {
     "end_time": "2018-08-24T08:40:47.935958Z",
     "start_time": "2018-08-24T08:40:47.898880Z"
    }
   },
   "outputs": [],
   "source": [
    "def initiate(radius,C,L):\n",
    "    coordinate = np.ones(2)*L/2.0\n",
    "    nodelist = {(coordinate[0],coordinate[1]):{5:0.0,7:1}} #5：到心距 7：点数\n",
    "    index2coor = {1:(coordinate[0],coordinate[1])}\n",
    "    idx = index.Index()\n",
    "    idx.insert(1,list(np.r_[coordinate,coordinate]))                     \n",
    "    limitt = np.r_[coordinate - radius,coordinate + radius] \n",
    "    return nodelist,idx,limitt,index2coor\n",
    "\n",
    "def choosenode(nodelist,limitt,C,index2coor):#?\n",
    "    white = ( (limitt[2]-limitt[0])*(limitt[3]-limitt[1])-len(nodelist) )*C\n",
    "    exist = len(index2coor)+len(nodelist)*C\n",
    "    rnd = random.random()*( exist + white )\n",
    "    if rnd>exist:\n",
    "        while 1:\n",
    "            ii = int( random.random()*(limitt[2]-limitt[0])   + limitt[0] )\n",
    "            jj = int( random.random()*(limitt[3]-limitt[1])   + limitt[1] )\n",
    "            if (ii,jj) not in nodelist:\n",
    "                return (ii,jj),0\n",
    "    else:\n",
    "        pos = random.randint(1,len(index2coor))#右闭\n",
    "        return index2coor[pos],1\n",
    "\n",
    "def onestep(nodelist,index2coor,idx,radius,C,h,limitt,L):\n",
    "    two,flag = choosenode(nodelist,limitt,C,index2coor)  \n",
    "    i = two[0]\n",
    "    j = two[1]\n",
    "    if flag == 0:\n",
    "        intersection = list(idx.intersection([i-radius,j-radius, i+radius,j+radius])) \n",
    "        if len(intersection) > 0:\n",
    "            for key in intersection:\n",
    "                if np.linalg.norm(np.array([index2coor[key]]) - np.array([i,j])) <= radius:  \n",
    "                    state = 1\n",
    "                else:\n",
    "                    state = 0\n",
    "            if state == 1:\n",
    "                nodelist,index2coor,idx,limitt = insert_newpoint(i,j,nodelist,index2coor,idx,limitt,L)\n",
    "        return nodelist,index2coor,idx,limitt      \n",
    "\n",
    "    elif flag==1: \n",
    "        if nodelist[(i,j)][7]+1 <= h:#不溢\n",
    "            nodelist[(i,j)][7] += 1\n",
    "            index2coor[len(index2coor)+1]=(i,j)\n",
    "        else:\n",
    "            while ((i,j) in nodelist.keys()) and (nodelist[(i,j)][7]+1 > h) :\n",
    "                (i,j) = sandpile(i,j,h,nodelist)\n",
    "            if (i,j) in nodelist.keys():#溢出到有点的格子\n",
    "                nodelist[(i,j)][7] += 1\n",
    "                index2coor[len(index2coor)+1]=(i,j)\n",
    "            else:#溢出到空格子\n",
    "                nodelist,index2coor,idx,limitt  = insert_newpoint(i,j,nodelist,index2coor,idx,limitt,L)\n",
    "        return nodelist,index2coor,idx,limitt\n",
    "\t\t\n",
    "def insert_newpoint(i,j,nodelist,index2coor,idx,limitt,L):\n",
    "\tnodelist[(i,j)] = {1:np.linalg.norm(np.array([i,j])-L/2),2:1}\n",
    "\tindex2coor[len(index2coor)+1]=(i,j)\n",
    "\tnewpoint = [i,j]\n",
    "\tidx.insert( len(index2coor), np.r_[newpoint, newpoint] )  ###idx\n",
    "\tfor x in range(2):\n",
    "\t\tlimitt[x]   = round(min(limitt[x],newpoint[x]-radius))\n",
    "\t\tlimitt[x+2] = round(max(limitt[x+2],newpoint[x]+radius))\n",
    "\treturn nodelist,index2coor,idx,limitt\n",
    "\n",
    "def sandpile(i,j,h,nodelist):\n",
    "    r = i\n",
    "    c = j\n",
    "    arounddic = {\n",
    "\t1:(r-1,c-1),2:(r -1,c),3:(r -1,c+1),\n",
    "\t4:(r,c-1),5:(r,c),6:(r,c+1),\n",
    "\t7:(r+1,c-1),8:(r+1,c),9:(r+1,c+1)\n",
    "\t}\n",
    "    deltas = []\n",
    "    #邻接阵arov\n",
    "    arov={}\n",
    "    for m in range(1,10):\n",
    "        if arounddic[m] in nodelist:\n",
    "            arov[m] = nodelist[arounddic[m]][7]\n",
    "        else:\n",
    "            arov[m] = 0\n",
    "        delta =nodelist[(r,c)][7] - arov[m] \n",
    "        deltas.append(delta)\n",
    "    B = np.cumsum(deltas)\n",
    "    if B[-1]!= 0:\n",
    "        rnd = random.random()*B[-1]\n",
    "        ind = np.nonzero(B<rnd)\n",
    "        if len(ind[0])==0:\n",
    "            pos = 1\n",
    "        else:\n",
    "            pos = ind[0][-1]+2\n",
    "    else:#九格同\n",
    "        pos = 5 \n",
    "        while pos == 5:\n",
    "            pos = random.randint(1,9)\n",
    "\t\t#pos = 1 #左下\n",
    "\t\t#pos = 9 #右上\n",
    "    #得到位置\n",
    "    return arounddic[pos]        \n",
    "\n",
    "def caculate(nodelist,radius):\n",
    "    w = []\n",
    "    delta  = radius\n",
    "\t#delta = radius/2#qqq\n",
    "    for key in nodelist:\n",
    "        w.append([nodelist[key][5],nodelist[key][7]])\n",
    "    w.sort()\n",
    "    w = np.array(w)\n",
    "    R = np.arange(0,np.max(w[:,0]),delta)\n",
    "    RL = np.zeros((len(R),2)) \n",
    "    RL[:,0] = R\n",
    "    for i in range(len(RL)):\n",
    "        RL[i,1] = np.sum(w[w[:,0]<RL[i,0],1])\n",
    "    Rrho = np.zeros((len(R),2))\n",
    "    Rrho[:,0] = R + delta/2\n",
    "    for i in range(len(Rrho)-1):\n",
    "        Rrho[i,1] = (RL[i+1,1] - RL[i,1])/(math.pi*(delta**2+2*delta*RL[i,0]))\n",
    "    a = Rrho\n",
    "    xx = np.nonzero(a[:,1]==0) \n",
    "    if len(xx[0])==0:\n",
    "        x = 0 \n",
    "    else:\n",
    "        x = xx[0][0]\n",
    "    Rrhox = Rrho[:x,:x]\n",
    "    return Rrhox\n",
    "\n",
    "def save(Rx,C,radius,maxnode,h=3,i=1):#i 预留次数参数\n",
    "    se = {}\n",
    "    for i in range(1,len(Rx)+1):\n",
    "        se[i] = pd.Series(Rx[i])\n",
    "    df = pd.concat([se[i] for i in range(1,len(Rx)+1) ],axis = 1)\n",
    "    name = \"C\"+str(C)+\"--r\"+str(radius)+\"--maxnode\"+str(maxnode)+\"--h\"+str(h)+\"--i\"+str(i)\n",
    "    df.to_csv(name+\".csv\")\n",
    "    print(\"Winner winner chicken dinner\")\n",
    "\n",
    "def side_view(nodelist):\n",
    "    h = []\n",
    "    for k in nodelist:\n",
    "        h.append(nodelist[k][7])\n",
    "    a = Counter(h)\n",
    "    print(a)\n",
    "\t\n",
    "def spatial_range(nodelist):\n",
    "    x = []\n",
    "    y = []\n",
    "    for k in nodelist.keys():\n",
    "        x.append(k[0])\n",
    "        y.append(k[1])\n",
    "    return max(x),min(x),max(y),min(y)\n",
    "\n",
    "def paint(nodelist):\n",
    "\tx = nodelist\n",
    "\ta = []\n",
    "\tm = []\n",
    "\tn = []\n",
    "\tc = []\n",
    "\txmax,xmin,ymax,ymin = spatial_range(x)\n",
    "\tfor k,v in x.items():\n",
    "\t\ta.append(k)\n",
    "\t\tc.append(1/(v[7]))\n",
    "\tfor i in a:\n",
    "\t\tm.append(i[0])\n",
    "\t\tn.append(i[1])\n",
    "\tplt.figure(figsize=(10,10),dpi=100)\n",
    "\tplt.scatter(m,n,s = 0.1,c = c)\n",
    "\tplt.xlim((xmin,xmax))\n",
    "\tplt.ylim((ymin,ymax))\n",
    "\tplt.show()"
   ]
  },
  {
   "cell_type": "markdown",
   "metadata": {
    "ExecuteTime": {
     "end_time": "2018-08-24T02:48:16.185384Z",
     "start_time": "2018-08-24T02:48:16.180880Z"
    }
   },
   "source": [
    "# 3.0"
   ]
  },
  {
   "cell_type": "code",
   "execution_count": 154,
   "metadata": {
    "ExecuteTime": {
     "end_time": "2018-08-24T08:40:49.084702Z",
     "start_time": "2018-08-24T08:40:49.079698Z"
    }
   },
   "outputs": [],
   "source": [
    "from rtree import index\n",
    "import numpy as np\n",
    "import random\n",
    "import math\n",
    "import pandas as pd\n",
    "import matplotlib.pyplot as plt\n",
    "from collections import Counter"
   ]
  },
  {
   "cell_type": "markdown",
   "metadata": {},
   "source": [
    "## city"
   ]
  },
  {
   "cell_type": "code",
   "execution_count": 157,
   "metadata": {
    "ExecuteTime": {
     "end_time": "2018-08-24T08:53:20.344100Z",
     "start_time": "2018-08-24T08:53:20.325101Z"
    }
   },
   "outputs": [],
   "source": [
    "def initiate(L,radius):\n",
    "    '''根据L初始化格网\n",
    "    返回:idx:rtree索引,limitt:限制矩形范围,index2coor:存储生成顺序\n",
    "    '''\n",
    "    coordinate = np.ones(2)*L/2.0\n",
    "    index2coor = [(coordinate[0],coordinate[1])]\n",
    "    idx = index.Index()\n",
    "    idx.insert(1,list(np.r_[coordinate,coordinate]))                \n",
    "    limitt = np.r_[coordinate - radius,coordinate + radius]\n",
    "    nodelist = {(coordinate[0],coordinate[1]):{1:0.0,1:1}}\n",
    "    return nodelist,idx,limitt,index2coor\n",
    "def choosenode(nodelist,limitt,index2coor,C):\n",
    "    white = ( (limitt[2]-limitt[0])*(limitt[3]-limitt[1])-len(nodelist) )*C\n",
    "    exist = len(index2coor)+len(nodelist)*C\n",
    "    rnd = random.random()*( exist + white )\n",
    "    if rnd>exist:\n",
    "        while 1:\n",
    "            ii = int( random.random()*(limitt[2]-limitt[0])   + limitt[0] )\n",
    "            jj = int( random.random()*(limitt[3]-limitt[1])   + limitt[1] )\n",
    "            if (ii,jj) not in nodelist:\n",
    "                return (ii,jj),0\n",
    "    else:\n",
    "        pos = random.randint(1,len(index2coor))#右闭\n",
    "        return index2coor[pos],1\n",
    "\n",
    "def onestep(nodelist,idx,limitt,index2coor,L,radius,C,h):\n",
    "    two,flag = choosenode(nodelist,limitt,index2coor,C)  \n",
    "    i,j = two[0],two[1]\n",
    "    if flag == 0:\n",
    "        intersection = list(idx.intersection([i-radius,j-radius, i+radius,j+radius])) \n",
    "        if len(intersection) > 0:\n",
    "            for key in intersection:\n",
    "                if np.linalg.norm(np.array([index2coor[key]]) - np.array([i,j])) <= radius:  \n",
    "                    state = 1\n",
    "                else:\n",
    "                    state = 0\n",
    "            if state == 1:\n",
    "                nodelist,index2coor,idx,limitt = insert_newpoint(i,j,nodelist,index2coor,idx,limitt,L)\n",
    "        return nodelist,index2coor,idx,limitt      \n",
    "\n",
    "    elif flag==1: \n",
    "        if nodelist[(i,j)][7]+1 <= h:#不溢\n",
    "            nodelist[(i,j)][7] += 1\n",
    "            index2coor[len(index2coor)+1]=(i,j)\n",
    "        else:\n",
    "            while ((i,j) in nodelist.keys()) and (nodelist[(i,j)][7]+1 > h) :\n",
    "                (i,j) = sandpile(i,j,h,nodelist)\n",
    "            if (i,j) in nodelist.keys():#溢出到有点的格子\n",
    "                nodelist[(i,j)][7] += 1\n",
    "                index2coor[len(index2coor)+1]=(i,j)\n",
    "            else:#溢出到空格子\n",
    "                nodelist,index2coor,idx,limitt  = insert_newpoint(i,j,nodelist,index2coor,idx,limitt,L)\n",
    "        return nodelist,idx,limitt,index2coor\n",
    "    \n",
    "class City(object):\n",
    "    def __init__(self,maxP,H,C,L = 10**5,radius = 10):\n",
    "        '''初始全局参数\n",
    "        可变参数：maxP:最大P,H:沙堆阈值,C:引力c\n",
    "        默认参数：L:边框半径,radius:作用半径\n",
    "        '''\n",
    "        self.maxP = maxP\n",
    "        self.H,self.C,self.L= H,C,L\n",
    "        self.radius = radius\n",
    "        \n",
    "    def step(self,p):\n",
    "        if p == 1:\n",
    "            return initiate(self.L,self.radius)\n",
    "        else:\n",
    "            nodelist,idx,limitt,index2coor=City.step(self,p-1)\n",
    "            return onestep(nodelist,idx,limitt,index2coor,self.L,self.radius,self.C,self.H)"
   ]
  },
  {
   "cell_type": "code",
   "execution_count": 158,
   "metadata": {
    "ExecuteTime": {
     "end_time": "2018-08-24T08:53:21.448179Z",
     "start_time": "2018-08-24T08:53:21.419161Z"
    }
   },
   "outputs": [
    {
     "ename": "IndexError",
     "evalue": "list index out of range",
     "output_type": "error",
     "traceback": [
      "\u001b[1;31m---------------------------------------------------------------------------\u001b[0m",
      "\u001b[1;31mIndexError\u001b[0m                                Traceback (most recent call last)",
      "\u001b[1;32m<ipython-input-158-8856bf692fb2>\u001b[0m in \u001b[0;36m<module>\u001b[1;34m()\u001b[0m\n\u001b[0;32m      1\u001b[0m \u001b[0mc\u001b[0m \u001b[1;33m=\u001b[0m \u001b[0mCity\u001b[0m\u001b[1;33m(\u001b[0m\u001b[1;36m2\u001b[0m\u001b[1;33m,\u001b[0m\u001b[1;36m3\u001b[0m\u001b[1;33m,\u001b[0m\u001b[1;36m0.05\u001b[0m\u001b[1;33m)\u001b[0m\u001b[1;33m\u001b[0m\u001b[0m\n\u001b[1;32m----> 2\u001b[1;33m \u001b[0mc\u001b[0m\u001b[1;33m.\u001b[0m\u001b[0mstep\u001b[0m\u001b[1;33m(\u001b[0m\u001b[0mc\u001b[0m\u001b[1;33m.\u001b[0m\u001b[0mmaxP\u001b[0m\u001b[1;33m)\u001b[0m\u001b[1;33m\u001b[0m\u001b[0m\n\u001b[0m",
      "\u001b[1;32m<ipython-input-157-aa08bbfadd94>\u001b[0m in \u001b[0;36mstep\u001b[1;34m(self, p)\u001b[0m\n\u001b[0;32m     68\u001b[0m         \u001b[1;32melse\u001b[0m\u001b[1;33m:\u001b[0m\u001b[1;33m\u001b[0m\u001b[0m\n\u001b[0;32m     69\u001b[0m             \u001b[0mnodelist\u001b[0m\u001b[1;33m,\u001b[0m\u001b[0midx\u001b[0m\u001b[1;33m,\u001b[0m\u001b[0mlimitt\u001b[0m\u001b[1;33m,\u001b[0m\u001b[0mindex2coor\u001b[0m\u001b[1;33m=\u001b[0m\u001b[0mCity\u001b[0m\u001b[1;33m.\u001b[0m\u001b[0mstep\u001b[0m\u001b[1;33m(\u001b[0m\u001b[0mself\u001b[0m\u001b[1;33m,\u001b[0m\u001b[0mp\u001b[0m\u001b[1;33m-\u001b[0m\u001b[1;36m1\u001b[0m\u001b[1;33m)\u001b[0m\u001b[1;33m\u001b[0m\u001b[0m\n\u001b[1;32m---> 70\u001b[1;33m             \u001b[1;32mreturn\u001b[0m \u001b[0monestep\u001b[0m\u001b[1;33m(\u001b[0m\u001b[0mnodelist\u001b[0m\u001b[1;33m,\u001b[0m\u001b[0midx\u001b[0m\u001b[1;33m,\u001b[0m\u001b[0mlimitt\u001b[0m\u001b[1;33m,\u001b[0m\u001b[0mindex2coor\u001b[0m\u001b[1;33m,\u001b[0m\u001b[0mself\u001b[0m\u001b[1;33m.\u001b[0m\u001b[0mL\u001b[0m\u001b[1;33m,\u001b[0m\u001b[0mself\u001b[0m\u001b[1;33m.\u001b[0m\u001b[0mradius\u001b[0m\u001b[1;33m,\u001b[0m\u001b[0mself\u001b[0m\u001b[1;33m.\u001b[0m\u001b[0mC\u001b[0m\u001b[1;33m,\u001b[0m\u001b[0mself\u001b[0m\u001b[1;33m.\u001b[0m\u001b[0mH\u001b[0m\u001b[1;33m)\u001b[0m\u001b[1;33m\u001b[0m\u001b[0m\n\u001b[0m",
      "\u001b[1;32m<ipython-input-157-aa08bbfadd94>\u001b[0m in \u001b[0;36monestep\u001b[1;34m(nodelist, idx, limitt, index2coor, L, radius, C, h)\u001b[0m\n\u001b[0;32m     31\u001b[0m         \u001b[1;32mif\u001b[0m \u001b[0mlen\u001b[0m\u001b[1;33m(\u001b[0m\u001b[0mintersection\u001b[0m\u001b[1;33m)\u001b[0m \u001b[1;33m>\u001b[0m \u001b[1;36m0\u001b[0m\u001b[1;33m:\u001b[0m\u001b[1;33m\u001b[0m\u001b[0m\n\u001b[0;32m     32\u001b[0m             \u001b[1;32mfor\u001b[0m \u001b[0mkey\u001b[0m \u001b[1;32min\u001b[0m \u001b[0mintersection\u001b[0m\u001b[1;33m:\u001b[0m\u001b[1;33m\u001b[0m\u001b[0m\n\u001b[1;32m---> 33\u001b[1;33m                 \u001b[1;32mif\u001b[0m \u001b[0mnp\u001b[0m\u001b[1;33m.\u001b[0m\u001b[0mlinalg\u001b[0m\u001b[1;33m.\u001b[0m\u001b[0mnorm\u001b[0m\u001b[1;33m(\u001b[0m\u001b[0mnp\u001b[0m\u001b[1;33m.\u001b[0m\u001b[0marray\u001b[0m\u001b[1;33m(\u001b[0m\u001b[1;33m[\u001b[0m\u001b[0mindex2coor\u001b[0m\u001b[1;33m[\u001b[0m\u001b[0mkey\u001b[0m\u001b[1;33m]\u001b[0m\u001b[1;33m]\u001b[0m\u001b[1;33m)\u001b[0m \u001b[1;33m-\u001b[0m \u001b[0mnp\u001b[0m\u001b[1;33m.\u001b[0m\u001b[0marray\u001b[0m\u001b[1;33m(\u001b[0m\u001b[1;33m[\u001b[0m\u001b[0mi\u001b[0m\u001b[1;33m,\u001b[0m\u001b[0mj\u001b[0m\u001b[1;33m]\u001b[0m\u001b[1;33m)\u001b[0m\u001b[1;33m)\u001b[0m \u001b[1;33m<=\u001b[0m \u001b[0mradius\u001b[0m\u001b[1;33m:\u001b[0m\u001b[1;33m\u001b[0m\u001b[0m\n\u001b[0m\u001b[0;32m     34\u001b[0m                     \u001b[0mstate\u001b[0m \u001b[1;33m=\u001b[0m \u001b[1;36m1\u001b[0m\u001b[1;33m\u001b[0m\u001b[0m\n\u001b[0;32m     35\u001b[0m                 \u001b[1;32melse\u001b[0m\u001b[1;33m:\u001b[0m\u001b[1;33m\u001b[0m\u001b[0m\n",
      "\u001b[1;31mIndexError\u001b[0m: list index out of range"
     ]
    }
   ],
   "source": [
    "c = City(2,3,0.05)\n",
    "c.step(c.maxP)"
   ]
  },
  {
   "cell_type": "markdown",
   "metadata": {},
   "source": [
    "## demo1"
   ]
  },
  {
   "cell_type": "code",
   "execution_count": 162,
   "metadata": {
    "ExecuteTime": {
     "end_time": "2018-08-24T08:57:04.924534Z",
     "start_time": "2018-08-24T08:57:04.884492Z"
    }
   },
   "outputs": [],
   "source": [
    "def initiate(radius,C,L):\n",
    "    coordinate = np.ones(2)*L/2.0\n",
    "    nodelist = {(coordinate[0],coordinate[1]):{5:0.0,7:1}} #5：到心距 7：点数\n",
    "    index2coor = {1:(coordinate[0],coordinate[1])}\n",
    "    idx = index.Index()\n",
    "    idx.insert(1,list(np.r_[coordinate,coordinate]))                     \n",
    "    limitt = np.r_[coordinate - radius,coordinate + radius] \n",
    "    return nodelist,idx,limitt,index2coor\n",
    "\n",
    "def choosenode(nodelist,limitt,C,index2coor):#?\n",
    "    white = ( (limitt[2]-limitt[0])*(limitt[3]-limitt[1])-len(nodelist) )*C\n",
    "    exist = len(index2coor)+len(nodelist)*C\n",
    "    rnd = random.random()*( exist + white )\n",
    "    if rnd>exist:\n",
    "        while 1:\n",
    "            ii = int( random.random()*(limitt[2]-limitt[0])   + limitt[0] )\n",
    "            jj = int( random.random()*(limitt[3]-limitt[1])   + limitt[1] )\n",
    "            if (ii,jj) not in nodelist:\n",
    "                return (ii,jj),0\n",
    "    else:\n",
    "        pos = random.randint(1,len(index2coor))#右闭\n",
    "        return index2coor[pos],1\n",
    "\n",
    "def onestep(nodelist,index2coor,idx,radius,C,h,limitt,L):\n",
    "    two,flag = choosenode(nodelist,limitt,C,index2coor)  \n",
    "    i = two[0]\n",
    "    j = two[1]\n",
    "    if flag == 0:\n",
    "        intersection = list(idx.intersection([i-radius,j-radius, i+radius,j+radius])) \n",
    "        if len(intersection) > 0:\n",
    "            for key in intersection:\n",
    "                if np.linalg.norm(np.array([index2coor[key]]) - np.array([i,j])) <= radius:  \n",
    "                    state = 1\n",
    "                else:\n",
    "                    state = 0\n",
    "            if state == 1:\n",
    "                nodelist,index2coor,idx,limitt = insert_newpoint(i,j,nodelist,index2coor,idx,limitt,L)\n",
    "        return nodelist,index2coor,idx,limitt      \n",
    "\n",
    "    elif flag==1: \n",
    "        if nodelist[(i,j)][7]+1 <= h:#不溢\n",
    "            nodelist[(i,j)][7] += 1\n",
    "            index2coor[len(index2coor)+1]=(i,j)\n",
    "        else:\n",
    "            while ((i,j) in nodelist.keys()) and (nodelist[(i,j)][7]+1 > h) :\n",
    "                (i,j) = sandpile(i,j,h,nodelist)\n",
    "            if (i,j) in nodelist.keys():#溢出到有点的格子\n",
    "                nodelist[(i,j)][7] += 1\n",
    "                index2coor[len(index2coor)+1]=(i,j)\n",
    "            else:#溢出到空格子\n",
    "                nodelist,index2coor,idx,limitt  = insert_newpoint(i,j,nodelist,index2coor,idx,limitt,L)\n",
    "        return nodelist,index2coor,idx,limitt\n",
    "\t\t\n",
    "def insert_newpoint(i,j,nodelist,index2coor,idx,limitt,L):\n",
    "\tnodelist[(i,j)] = {5:np.linalg.norm(np.array([i,j])-L/2),7:1}\n",
    "\tindex2coor[len(index2coor)+1]=(i,j)\n",
    "\tnewpoint = [i,j]\n",
    "\tidx.insert( len(index2coor), np.r_[newpoint, newpoint] )  ###idx\n",
    "\tfor x in range(2):\n",
    "\t\tlimitt[x]   = round(min(limitt[x],newpoint[x]-radius))\n",
    "\t\tlimitt[x+2] = round(max(limitt[x+2],newpoint[x]+radius))\n",
    "\treturn nodelist,index2coor,idx,limitt\n",
    "\n",
    "def sandpile(i,j,h,nodelist):\n",
    "    r = i\n",
    "    c = j\n",
    "    arounddic = {\n",
    "\t1:(r-1,c-1),2:(r -1,c),3:(r -1,c+1),\n",
    "\t4:(r,c-1),5:(r,c),6:(r,c+1),\n",
    "\t7:(r+1,c-1),8:(r+1,c),9:(r+1,c+1)\n",
    "\t}\n",
    "    deltas = []\n",
    "    #邻接阵arov\n",
    "    arov={}\n",
    "    for m in range(1,10):\n",
    "        if arounddic[m] in nodelist:\n",
    "            arov[m] = nodelist[arounddic[m]][7]\n",
    "        else:\n",
    "            arov[m] = 0\n",
    "        delta =nodelist[(r,c)][7] - arov[m] \n",
    "        deltas.append(delta)\n",
    "    B = np.cumsum(deltas)\n",
    "    if B[-1]!= 0:\n",
    "        rnd = random.random()*B[-1]\n",
    "        ind = np.nonzero(B<rnd)\n",
    "        if len(ind[0])==0:\n",
    "            pos = 1\n",
    "        else:\n",
    "            pos = ind[0][-1]+2\n",
    "    else:#九格同\n",
    "        pos = 5 \n",
    "        while pos == 5:\n",
    "            pos = random.randint(1,9)\n",
    "\t\t#pos = 1 #左下\n",
    "\t\t#pos = 9 #右上\n",
    "    #得到位置\n",
    "    return arounddic[pos]        \n",
    "\n",
    "def caculate(nodelist,radius):\n",
    "    w = []\n",
    "    delta  = radius\n",
    "\t#delta = radius/2#qqq\n",
    "    for key in nodelist:\n",
    "        w.append([nodelist[key][5],nodelist[key][7]])\n",
    "    w.sort()\n",
    "    w = np.array(w)\n",
    "    R = np.arange(0,np.max(w[:,0]),delta)\n",
    "    RL = np.zeros((len(R),2)) \n",
    "    RL[:,0] = R\n",
    "    for i in range(len(RL)):\n",
    "        RL[i,1] = np.sum(w[w[:,0]<RL[i,0],1])\n",
    "    Rrho = np.zeros((len(R),2))\n",
    "    Rrho[:,0] = R + delta/2\n",
    "    for i in range(len(Rrho)-1):\n",
    "        Rrho[i,1] = (RL[i+1,1] - RL[i,1])/(math.pi*(delta**2+2*delta*RL[i,0]))\n",
    "    a = Rrho\n",
    "    xx = np.nonzero(a[:,1]==0) \n",
    "    if len(xx[0])==0:\n",
    "        x = 0 \n",
    "    else:\n",
    "        x = xx[0][0]\n",
    "    Rrhox = Rrho[:x,:x]\n",
    "    return Rrhox\n",
    "\n",
    "def save(Rx,C,radius,maxnode,h=3,i=1):#i 预留次数参数\n",
    "    se = {}\n",
    "    for i in range(1,len(Rx)+1):\n",
    "        se[i] = pd.Series(Rx[i])\n",
    "    df = pd.concat([se[i] for i in range(1,len(Rx)+1) ],axis = 1)\n",
    "    name = \"C\"+str(C)+\"--r\"+str(radius)+\"--maxnode\"+str(maxnode)+\"--h\"+str(h)+\"--i\"+str(i)\n",
    "    df.to_csv(name+\".csv\")\n",
    "    print(\"Winner winner chicken dinner\")\n",
    "\n",
    "def side_view(nodelist):\n",
    "    h = []\n",
    "    for k in nodelist:\n",
    "        h.append(nodelist[k][7])\n",
    "    a = Counter(h)\n",
    "    print(a)\n",
    "\t\n",
    "def spatial_range(nodelist):\n",
    "    x = []\n",
    "    y = []\n",
    "    for k in nodelist.keys():\n",
    "        x.append(k[0])\n",
    "        y.append(k[1])\n",
    "    return max(x),min(x),max(y),min(y)\n",
    "\n",
    "def paint(nodelist):\n",
    "\tx = nodelist\n",
    "\ta = []\n",
    "\tm = []\n",
    "\tn = []\n",
    "\tc = []\n",
    "\txmax,xmin,ymax,ymin = spatial_range(x)\n",
    "\tfor k,v in x.items():\n",
    "\t\ta.append(k)\n",
    "\t\tc.append(1/(v[7]))\n",
    "\tfor i in a:\n",
    "\t\tm.append(i[0])\n",
    "\t\tn.append(i[1])\n",
    "\tplt.figure(figsize=(10,10),dpi=100)\n",
    "\tplt.scatter(m,n,s = 0.1,c = c)\n",
    "\tplt.xlim((xmin,xmax))\n",
    "\tplt.ylim((ymin,ymax))\n",
    "\tplt.show()"
   ]
  },
  {
   "cell_type": "code",
   "execution_count": 163,
   "metadata": {
    "ExecuteTime": {
     "end_time": "2018-08-24T08:57:05.490428Z",
     "start_time": "2018-08-24T08:57:05.486425Z"
    }
   },
   "outputs": [],
   "source": [
    "def step(p):\n",
    "    C = 0.05\n",
    "    radius = 10\n",
    "    h = 3\n",
    "    L = 10**5\n",
    "    if p == 1:\n",
    "        return initiate(radius,C,L)\n",
    "    else:\n",
    "        nodelist,idx,limitt,index2coor=step(p-1)\n",
    "        return onestep(nodelist,index2coor,idx,radius,C,h,limitt,L)"
   ]
  },
  {
   "cell_type": "code",
   "execution_count": 166,
   "metadata": {
    "ExecuteTime": {
     "end_time": "2018-08-24T09:01:00.250342Z",
     "start_time": "2018-08-24T09:01:00.243339Z"
    }
   },
   "outputs": [],
   "source": [
    "class City(object):\n",
    "    def __init__(self,maxP,H,C,L = 10**5,radius = 10):\n",
    "        '''初始全局参数\n",
    "        可变参数：maxP:最大P,H:沙堆阈值,C:引力c\n",
    "        默认参数：L:边框半径,radius:作用半径\n",
    "        '''\n",
    "        self.maxP = maxP\n",
    "        self.H,self.C,self.L= H,C,L\n",
    "        self.radius = radius\n",
    "    def initiate(radius,C,L):\n",
    "        coordinate = np.ones(2)*L/2.0\n",
    "        nodelist = {(coordinate[0],coordinate[1]):{5:0.0,7:1}} #5：到心距 7：点数\n",
    "        index2coor = {1:(coordinate[0],coordinate[1])}\n",
    "        idx = index.Index()\n",
    "        idx.insert(1,list(np.r_[coordinate,coordinate]))                     \n",
    "        limitt = np.r_[coordinate - radius,coordinate + radius] \n",
    "        return nodelist,idx,limitt,index2coor\n",
    "\n",
    "    def choosenode(nodelist,limitt,C,index2coor):#?\n",
    "        white = ( (limitt[2]-limitt[0])*(limitt[3]-limitt[1])-len(nodelist) )*C\n",
    "        exist = len(index2coor)+len(nodelist)*C\n",
    "        rnd = random.random()*( exist + white )\n",
    "        if rnd>exist:\n",
    "            while 1:\n",
    "                ii = int( random.random()*(limitt[2]-limitt[0])   + limitt[0] )\n",
    "                jj = int( random.random()*(limitt[3]-limitt[1])   + limitt[1] )\n",
    "                if (ii,jj) not in nodelist:\n",
    "                    return (ii,jj),0\n",
    "        else:\n",
    "            pos = random.randint(1,len(index2coor))#右闭\n",
    "            return index2coor[pos],1\n",
    "\n",
    "    def onestep(nodelist,index2coor,idx,radius,C,h,limitt,L):\n",
    "        two,flag = choosenode(nodelist,limitt,C,index2coor)  \n",
    "        i = two[0]\n",
    "        j = two[1]\n",
    "        if flag == 0:\n",
    "            intersection = list(idx.intersection([i-radius,j-radius, i+radius,j+radius])) \n",
    "            if len(intersection) > 0:\n",
    "                for key in intersection:\n",
    "                    if np.linalg.norm(np.array([index2coor[key]]) - np.array([i,j])) <= radius:  \n",
    "                        state = 1\n",
    "                    else:\n",
    "                        state = 0\n",
    "                if state == 1:\n",
    "                    nodelist,index2coor,idx,limitt = insert_newpoint(i,j,nodelist,index2coor,idx,limitt,L)\n",
    "            return nodelist,index2coor,idx,limitt      \n",
    "\n",
    "        elif flag==1: \n",
    "            if nodelist[(i,j)][7]+1 <= h:#不溢\n",
    "                nodelist[(i,j)][7] += 1\n",
    "                index2coor[len(index2coor)+1]=(i,j)\n",
    "            else:\n",
    "                while ((i,j) in nodelist.keys()) and (nodelist[(i,j)][7]+1 > h) :\n",
    "                    (i,j) = sandpile(i,j,h,nodelist)\n",
    "                if (i,j) in nodelist.keys():#溢出到有点的格子\n",
    "                    nodelist[(i,j)][7] += 1\n",
    "                    index2coor[len(index2coor)+1]=(i,j)\n",
    "                else:#溢出到空格子\n",
    "                    nodelist,index2coor,idx,limitt  = insert_newpoint(i,j,nodelist,index2coor,idx,limitt,L)\n",
    "            return nodelist,index2coor,idx,limitt\n",
    "\n",
    "    def insert_newpoint(i,j,nodelist,index2coor,idx,limitt,L):\n",
    "        nodelist[(i,j)] = {5:np.linalg.norm(np.array([i,j])-L/2),7:1}\n",
    "        index2coor[len(index2coor)+1]=(i,j)\n",
    "        newpoint = [i,j]\n",
    "        idx.insert( len(index2coor), np.r_[newpoint, newpoint] )  ###idx\n",
    "        for x in range(2):\n",
    "            limitt[x]   = round(min(limitt[x],newpoint[x]-radius))\n",
    "            limitt[x+2] = round(max(limitt[x+2],newpoint[x]+radius))\n",
    "        return nodelist,index2coor,idx,limitt\n",
    "\n",
    "    def sandpile(i,j,h,nodelist):\n",
    "        r = i\n",
    "        c = j\n",
    "        arounddic = {\n",
    "        1:(r-1,c-1),2:(r -1,c),3:(r -1,c+1),\n",
    "        4:(r,c-1),5:(r,c),6:(r,c+1),\n",
    "        7:(r+1,c-1),8:(r+1,c),9:(r+1,c+1)\n",
    "        }\n",
    "        deltas = []\n",
    "        #邻接阵arov\n",
    "        arov={}\n",
    "        for m in range(1,10):\n",
    "            if arounddic[m] in nodelist:\n",
    "                arov[m] = nodelist[arounddic[m]][7]\n",
    "            else:\n",
    "                arov[m] = 0\n",
    "            delta =nodelist[(r,c)][7] - arov[m] \n",
    "            deltas.append(delta)\n",
    "        B = np.cumsum(deltas)\n",
    "        if B[-1]!= 0:\n",
    "            rnd = random.random()*B[-1]\n",
    "            ind = np.nonzero(B<rnd)\n",
    "            if len(ind[0])==0:\n",
    "                pos = 1\n",
    "            else:\n",
    "                pos = ind[0][-1]+2\n",
    "        else:#九格同\n",
    "            pos = 5 \n",
    "            while pos == 5:\n",
    "                pos = random.randint(1,9)\n",
    "            #pos = 1 #左下\n",
    "            #pos = 9 #右上\n",
    "        #得到位置\n",
    "        return arounddic[pos]        \n",
    "    def step(self,p):\n",
    "        if p == 1:\n",
    "            return initiate(self.radius,self.C,self.L)\n",
    "        else:\n",
    "            nodelist,idx,limitt,index2coor=City.step(self,p-1)\n",
    "            return onestep(nodelist,index2coor,idx,self.radius,self.C,self.H,limitt,self.L)"
   ]
  },
  {
   "cell_type": "code",
   "execution_count": 170,
   "metadata": {
    "ExecuteTime": {
     "end_time": "2018-08-24T09:03:29.881660Z",
     "start_time": "2018-08-24T09:03:29.845634Z"
    }
   },
   "outputs": [
    {
     "ename": "NameError",
     "evalue": "name 'radius' is not defined",
     "output_type": "error",
     "traceback": [
      "\u001b[1;31m---------------------------------------------------------------------------\u001b[0m",
      "\u001b[1;31mNameError\u001b[0m                                 Traceback (most recent call last)",
      "\u001b[1;32m<ipython-input-170-15d8f901ee34>\u001b[0m in \u001b[0;36m<module>\u001b[1;34m()\u001b[0m\n\u001b[0;32m      1\u001b[0m \u001b[0ma\u001b[0m \u001b[1;33m=\u001b[0m \u001b[0mCity\u001b[0m\u001b[1;33m(\u001b[0m\u001b[1;36m2\u001b[0m\u001b[1;33m,\u001b[0m\u001b[1;36m3\u001b[0m\u001b[1;33m,\u001b[0m\u001b[1;36m0.05\u001b[0m\u001b[1;33m)\u001b[0m\u001b[1;33m\u001b[0m\u001b[0m\n\u001b[1;32m----> 2\u001b[1;33m \u001b[0ma\u001b[0m\u001b[1;33m.\u001b[0m\u001b[0mstep\u001b[0m\u001b[1;33m(\u001b[0m\u001b[0ma\u001b[0m\u001b[1;33m.\u001b[0m\u001b[0mmaxP\u001b[0m\u001b[1;33m)\u001b[0m\u001b[1;33m\u001b[0m\u001b[0m\n\u001b[0m",
      "\u001b[1;32m<ipython-input-166-90ed45be71b9>\u001b[0m in \u001b[0;36mstep\u001b[1;34m(self, p)\u001b[0m\n\u001b[0;32m     14\u001b[0m         \u001b[1;32melse\u001b[0m\u001b[1;33m:\u001b[0m\u001b[1;33m\u001b[0m\u001b[0m\n\u001b[0;32m     15\u001b[0m             \u001b[0mnodelist\u001b[0m\u001b[1;33m,\u001b[0m\u001b[0midx\u001b[0m\u001b[1;33m,\u001b[0m\u001b[0mlimitt\u001b[0m\u001b[1;33m,\u001b[0m\u001b[0mindex2coor\u001b[0m\u001b[1;33m=\u001b[0m\u001b[0mCity\u001b[0m\u001b[1;33m.\u001b[0m\u001b[0mstep\u001b[0m\u001b[1;33m(\u001b[0m\u001b[0mself\u001b[0m\u001b[1;33m,\u001b[0m\u001b[0mp\u001b[0m\u001b[1;33m-\u001b[0m\u001b[1;36m1\u001b[0m\u001b[1;33m)\u001b[0m\u001b[1;33m\u001b[0m\u001b[0m\n\u001b[1;32m---> 16\u001b[1;33m             \u001b[1;32mreturn\u001b[0m \u001b[0monestep\u001b[0m\u001b[1;33m(\u001b[0m\u001b[0mnodelist\u001b[0m\u001b[1;33m,\u001b[0m\u001b[0mindex2coor\u001b[0m\u001b[1;33m,\u001b[0m\u001b[0midx\u001b[0m\u001b[1;33m,\u001b[0m\u001b[0mself\u001b[0m\u001b[1;33m.\u001b[0m\u001b[0mradius\u001b[0m\u001b[1;33m,\u001b[0m\u001b[0mself\u001b[0m\u001b[1;33m.\u001b[0m\u001b[0mC\u001b[0m\u001b[1;33m,\u001b[0m\u001b[0mself\u001b[0m\u001b[1;33m.\u001b[0m\u001b[0mH\u001b[0m\u001b[1;33m,\u001b[0m\u001b[0mlimitt\u001b[0m\u001b[1;33m,\u001b[0m\u001b[0mself\u001b[0m\u001b[1;33m.\u001b[0m\u001b[0mL\u001b[0m\u001b[1;33m)\u001b[0m\u001b[1;33m\u001b[0m\u001b[0m\n\u001b[0m",
      "\u001b[1;32m<ipython-input-162-c541a293b375>\u001b[0m in \u001b[0;36monestep\u001b[1;34m(nodelist, index2coor, idx, radius, C, h, limitt, L)\u001b[0m\n\u001b[0;32m     35\u001b[0m                     \u001b[0mstate\u001b[0m \u001b[1;33m=\u001b[0m \u001b[1;36m0\u001b[0m\u001b[1;33m\u001b[0m\u001b[0m\n\u001b[0;32m     36\u001b[0m             \u001b[1;32mif\u001b[0m \u001b[0mstate\u001b[0m \u001b[1;33m==\u001b[0m \u001b[1;36m1\u001b[0m\u001b[1;33m:\u001b[0m\u001b[1;33m\u001b[0m\u001b[0m\n\u001b[1;32m---> 37\u001b[1;33m                 \u001b[0mnodelist\u001b[0m\u001b[1;33m,\u001b[0m\u001b[0mindex2coor\u001b[0m\u001b[1;33m,\u001b[0m\u001b[0midx\u001b[0m\u001b[1;33m,\u001b[0m\u001b[0mlimitt\u001b[0m \u001b[1;33m=\u001b[0m \u001b[0minsert_newpoint\u001b[0m\u001b[1;33m(\u001b[0m\u001b[0mi\u001b[0m\u001b[1;33m,\u001b[0m\u001b[0mj\u001b[0m\u001b[1;33m,\u001b[0m\u001b[0mnodelist\u001b[0m\u001b[1;33m,\u001b[0m\u001b[0mindex2coor\u001b[0m\u001b[1;33m,\u001b[0m\u001b[0midx\u001b[0m\u001b[1;33m,\u001b[0m\u001b[0mlimitt\u001b[0m\u001b[1;33m,\u001b[0m\u001b[0mL\u001b[0m\u001b[1;33m)\u001b[0m\u001b[1;33m\u001b[0m\u001b[0m\n\u001b[0m\u001b[0;32m     38\u001b[0m         \u001b[1;32mreturn\u001b[0m \u001b[0mnodelist\u001b[0m\u001b[1;33m,\u001b[0m\u001b[0mindex2coor\u001b[0m\u001b[1;33m,\u001b[0m\u001b[0midx\u001b[0m\u001b[1;33m,\u001b[0m\u001b[0mlimitt\u001b[0m\u001b[1;33m\u001b[0m\u001b[0m\n\u001b[0;32m     39\u001b[0m \u001b[1;33m\u001b[0m\u001b[0m\n",
      "\u001b[1;32m<ipython-input-162-c541a293b375>\u001b[0m in \u001b[0;36minsert_newpoint\u001b[1;34m(i, j, nodelist, index2coor, idx, limitt, L)\u001b[0m\n\u001b[0;32m     58\u001b[0m         \u001b[0midx\u001b[0m\u001b[1;33m.\u001b[0m\u001b[0minsert\u001b[0m\u001b[1;33m(\u001b[0m \u001b[0mlen\u001b[0m\u001b[1;33m(\u001b[0m\u001b[0mindex2coor\u001b[0m\u001b[1;33m)\u001b[0m\u001b[1;33m,\u001b[0m \u001b[0mnp\u001b[0m\u001b[1;33m.\u001b[0m\u001b[0mr_\u001b[0m\u001b[1;33m[\u001b[0m\u001b[0mnewpoint\u001b[0m\u001b[1;33m,\u001b[0m \u001b[0mnewpoint\u001b[0m\u001b[1;33m]\u001b[0m \u001b[1;33m)\u001b[0m  \u001b[1;31m###idx\u001b[0m\u001b[1;33m\u001b[0m\u001b[0m\n\u001b[0;32m     59\u001b[0m         \u001b[1;32mfor\u001b[0m \u001b[0mx\u001b[0m \u001b[1;32min\u001b[0m \u001b[0mrange\u001b[0m\u001b[1;33m(\u001b[0m\u001b[1;36m2\u001b[0m\u001b[1;33m)\u001b[0m\u001b[1;33m:\u001b[0m\u001b[1;33m\u001b[0m\u001b[0m\n\u001b[1;32m---> 60\u001b[1;33m                 \u001b[0mlimitt\u001b[0m\u001b[1;33m[\u001b[0m\u001b[0mx\u001b[0m\u001b[1;33m]\u001b[0m   \u001b[1;33m=\u001b[0m \u001b[0mround\u001b[0m\u001b[1;33m(\u001b[0m\u001b[0mmin\u001b[0m\u001b[1;33m(\u001b[0m\u001b[0mlimitt\u001b[0m\u001b[1;33m[\u001b[0m\u001b[0mx\u001b[0m\u001b[1;33m]\u001b[0m\u001b[1;33m,\u001b[0m\u001b[0mnewpoint\u001b[0m\u001b[1;33m[\u001b[0m\u001b[0mx\u001b[0m\u001b[1;33m]\u001b[0m\u001b[1;33m-\u001b[0m\u001b[0mradius\u001b[0m\u001b[1;33m)\u001b[0m\u001b[1;33m)\u001b[0m\u001b[1;33m\u001b[0m\u001b[0m\n\u001b[0m\u001b[0;32m     61\u001b[0m                 \u001b[0mlimitt\u001b[0m\u001b[1;33m[\u001b[0m\u001b[0mx\u001b[0m\u001b[1;33m+\u001b[0m\u001b[1;36m2\u001b[0m\u001b[1;33m]\u001b[0m \u001b[1;33m=\u001b[0m \u001b[0mround\u001b[0m\u001b[1;33m(\u001b[0m\u001b[0mmax\u001b[0m\u001b[1;33m(\u001b[0m\u001b[0mlimitt\u001b[0m\u001b[1;33m[\u001b[0m\u001b[0mx\u001b[0m\u001b[1;33m+\u001b[0m\u001b[1;36m2\u001b[0m\u001b[1;33m]\u001b[0m\u001b[1;33m,\u001b[0m\u001b[0mnewpoint\u001b[0m\u001b[1;33m[\u001b[0m\u001b[0mx\u001b[0m\u001b[1;33m]\u001b[0m\u001b[1;33m+\u001b[0m\u001b[0mradius\u001b[0m\u001b[1;33m)\u001b[0m\u001b[1;33m)\u001b[0m\u001b[1;33m\u001b[0m\u001b[0m\n\u001b[0;32m     62\u001b[0m         \u001b[1;32mreturn\u001b[0m \u001b[0mnodelist\u001b[0m\u001b[1;33m,\u001b[0m\u001b[0mindex2coor\u001b[0m\u001b[1;33m,\u001b[0m\u001b[0midx\u001b[0m\u001b[1;33m,\u001b[0m\u001b[0mlimitt\u001b[0m\u001b[1;33m\u001b[0m\u001b[0m\n",
      "\u001b[1;31mNameError\u001b[0m: name 'radius' is not defined"
     ]
    }
   ],
   "source": [
    "a = City(2,3,0.05)\n",
    "a.step(a.maxP)"
   ]
  },
  {
   "cell_type": "code",
   "execution_count": null,
   "metadata": {},
   "outputs": [],
   "source": []
  },
  {
   "cell_type": "code",
   "execution_count": 102,
   "metadata": {
    "ExecuteTime": {
     "end_time": "2018-08-24T07:16:08.508529Z",
     "start_time": "2018-08-24T07:16:08.503529Z"
    }
   },
   "outputs": [],
   "source": [
    "class a(object):\n",
    "    def __init__(self,b):\n",
    "        global selfb \n",
    "        selfb =b \n",
    "    def ca():\n",
    "        print(selfb)"
   ]
  },
  {
   "cell_type": "code",
   "execution_count": 104,
   "metadata": {
    "ExecuteTime": {
     "end_time": "2018-08-24T07:16:23.786024Z",
     "start_time": "2018-08-24T07:16:23.779019Z"
    }
   },
   "outputs": [
    {
     "data": {
      "text/plain": [
       "1"
      ]
     },
     "execution_count": 104,
     "metadata": {},
     "output_type": "execute_result"
    }
   ],
   "source": [
    "demo = a(1)\n",
    "selfb"
   ]
  },
  {
   "cell_type": "markdown",
   "metadata": {},
   "source": [
    "## utils"
   ]
  },
  {
   "cell_type": "code",
   "execution_count": 108,
   "metadata": {
    "ExecuteTime": {
     "end_time": "2018-08-24T08:15:20.192820Z",
     "start_time": "2018-08-24T08:15:20.186814Z"
    }
   },
   "outputs": [],
   "source": [
    "def printInitiate():\n",
    "    instance = createCity(self.maxP,self.H,self.C)\n",
    "    idx,limitt,index2coor = instance.initiate()\n",
    "    print(idx,limitt,index2coor )\n",
    "def cacuDistribution(index2coor):\n",
    "    '''根据生成顺序计算分布\n",
    "    传入index2coor返回nodelist'''\n",
    "    nodelist = {index2coor[0]:{1:0,2:0}}\n",
    "    for i in index2coor:\n",
    "        if i in nodelist.keys:\n",
    "            nodelist[i][2]+=1\n",
    "        else:\n",
    "            nodelist[i]={1:np.linalg.norm(np.array(i)-index2coor[0]),2:1}\n",
    "    return nodelist"
   ]
  },
  {
   "cell_type": "code",
   "execution_count": null,
   "metadata": {},
   "outputs": [],
   "source": []
  },
  {
   "cell_type": "code",
   "execution_count": 66,
   "metadata": {
    "ExecuteTime": {
     "end_time": "2018-08-24T05:24:08.291127Z",
     "start_time": "2018-08-24T05:24:08.284122Z"
    },
    "scrolled": true
   },
   "outputs": [
    {
     "data": {
      "text/plain": [
       "{(1, 1): {1: 0, 2: 1}, (1, 2): {1: 1.0, 2: 2}}"
      ]
     },
     "execution_count": 66,
     "metadata": {},
     "output_type": "execute_result"
    }
   ],
   "source": [
    "index2coor = [(1,1),(1,2),(1,2)]\n",
    "createCity.cacuDistribution(index2coor)"
   ]
  },
  {
   "cell_type": "code",
   "execution_count": null,
   "metadata": {},
   "outputs": [],
   "source": [
    "for i in index2coor:\n",
    "    if i in nodelist.keys:\n",
    "        nodelist[i][2]+=1\n",
    "    else:\n",
    "        nodelist[i]={1:np.linalg.norm(np.array(i)-index2coor[0]),2:1}\n",
    "return nodelist"
   ]
  },
  {
   "cell_type": "code",
   "execution_count": 38,
   "metadata": {
    "ExecuteTime": {
     "end_time": "2018-08-24T03:58:15.297577Z",
     "start_time": "2018-08-24T03:58:15.288071Z"
    }
   },
   "outputs": [
    {
     "name": "stdout",
     "output_type": "stream",
     "text": [
      "{(50000.0, 50000.0): {5: 0.0, 7: 1}} <rtree.index.Index object at 0x0000021B3CA592B0> [49990. 49990. 50010. 50010.] {1: (50000.0, 50000.0)}\n"
     ]
    }
   ],
   "source": [
    "a = createCity(1,2,3)\n",
    "a.printInitiate()"
   ]
  },
  {
   "cell_type": "code",
   "execution_count": 16,
   "metadata": {
    "ExecuteTime": {
     "end_time": "2018-08-24T03:20:41.075601Z",
     "start_time": "2018-08-24T03:20:41.068595Z"
    }
   },
   "outputs": [
    {
     "data": {
      "text/plain": [
       "100000"
      ]
     },
     "execution_count": 16,
     "metadata": {},
     "output_type": "execute_result"
    }
   ],
   "source": [
    "a.L"
   ]
  },
  {
   "cell_type": "code",
   "execution_count": null,
   "metadata": {},
   "outputs": [],
   "source": []
  },
  {
   "cell_type": "code",
   "execution_count": 6,
   "metadata": {
    "ExecuteTime": {
     "end_time": "2018-08-24T02:54:09.355580Z",
     "start_time": "2018-08-24T02:54:09.346576Z"
    }
   },
   "outputs": [
    {
     "data": {
      "text/plain": [
       "1"
      ]
     },
     "execution_count": 6,
     "metadata": {},
     "output_type": "execute_result"
    }
   ],
   "source": []
  },
  {
   "cell_type": "code",
   "execution_count": null,
   "metadata": {},
   "outputs": [],
   "source": []
  }
 ],
 "metadata": {
  "kernelspec": {
   "display_name": "Python 3",
   "language": "python",
   "name": "python3"
  },
  "language_info": {
   "codemirror_mode": {
    "name": "ipython",
    "version": 3
   },
   "file_extension": ".py",
   "mimetype": "text/x-python",
   "name": "python",
   "nbconvert_exporter": "python",
   "pygments_lexer": "ipython3",
   "version": "3.5.5"
  },
  "latex_envs": {
   "LaTeX_envs_menu_present": true,
   "autoclose": false,
   "autocomplete": true,
   "bibliofile": "biblio.bib",
   "cite_by": "apalike",
   "current_citInitial": 1,
   "eqLabelWithNumbers": true,
   "eqNumInitial": 1,
   "hotkeys": {
    "equation": "Ctrl-E",
    "itemize": "Ctrl-I"
   },
   "labels_anchors": false,
   "latex_user_defs": false,
   "report_style_numbering": false,
   "user_envs_cfg": false
  },
  "toc": {
   "base_numbering": 1,
   "nav_menu": {},
   "number_sections": true,
   "sideBar": true,
   "skip_h1_title": false,
   "title_cell": "Table of Contents",
   "title_sidebar": "Contents",
   "toc_cell": false,
   "toc_position": {
    "height": "calc(100% - 180px)",
    "left": "10px",
    "top": "150px",
    "width": "164.985px"
   },
   "toc_section_display": true,
   "toc_window_display": true
  },
  "varInspector": {
   "cols": {
    "lenName": 16,
    "lenType": 16,
    "lenVar": 40
   },
   "kernels_config": {
    "python": {
     "delete_cmd_postfix": "",
     "delete_cmd_prefix": "del ",
     "library": "var_list.py",
     "varRefreshCmd": "print(var_dic_list())"
    },
    "r": {
     "delete_cmd_postfix": ") ",
     "delete_cmd_prefix": "rm(",
     "library": "var_list.r",
     "varRefreshCmd": "cat(var_dic_list()) "
    }
   },
   "types_to_exclude": [
    "module",
    "function",
    "builtin_function_or_method",
    "instance",
    "_Feature"
   ],
   "window_display": false
  }
 },
 "nbformat": 4,
 "nbformat_minor": 2
}
